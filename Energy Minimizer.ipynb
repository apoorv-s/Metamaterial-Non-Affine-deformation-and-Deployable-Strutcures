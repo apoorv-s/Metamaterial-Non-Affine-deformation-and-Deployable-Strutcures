{
 "cells": [
  {
   "cell_type": "code",
   "execution_count": 19,
   "metadata": {},
   "outputs": [],
   "source": [
    "run Lattice_functions.ipynb"
   ]
  },
  {
   "cell_type": "code",
   "execution_count": 20,
   "metadata": {},
   "outputs": [],
   "source": [
    "Lat_Obj = Rect_Lattice(10, 10, 1, 1, 10, [1, 10, 91, 100], [1, 10, 91, 100], [1, 10, 91, 100])\n",
    "Lat_Obj = add_braces_to_rectangular_lattice(Lat_Obj, 10, '|')\n",
    "xp = range(1, len(Lat_Obj.springs) + 1)\n",
    "for i in xp:\n",
    "    Lat_Obj.springs[i - 1].l0 = 1.1"
   ]
  },
  {
   "cell_type": "code",
   "execution_count": 21,
   "metadata": {},
   "outputs": [],
   "source": [
    "def Energy(Coordinates):\n",
    "    nNodes = int(len(Coordinates)/3)\n",
    "    x_vec = []\n",
    "    y_vec = []\n",
    "    z_vec = []\n",
    "    \n",
    "    for i in range(0, nNodes):\n",
    "        x_vec.insert(i, Coordinates[i])\n",
    "        y_vec.insert(i, Coordinates[i + nNodes])\n",
    "        z_vec.insert(i, Coordinates[i + (2*nNodes)])\n",
    "        \n",
    "    energy = 0    \n",
    "    for i in Lat_Obj.springs:\n",
    "        energy = energy + (0.5*(i.k)*((Length(x_vec[i.i - 1], y_vec[i.i - 1], z_vec[i.i - 1], x_vec[i.j - 1], y_vec[i.j - 1], z_vec[i.j - 1]) - i.l0)**2))\n",
    "    return energy"
   ]
  },
  {
   "cell_type": "code",
   "execution_count": 22,
   "metadata": {},
   "outputs": [],
   "source": [
    "x0 = []\n",
    "y0 = []\n",
    "z0 = []\n",
    "for i in Lat_Obj.nodes:\n",
    "    x0.insert((i.n - 1), i.x)\n",
    "    y0.insert((i.n - 1), i.y)\n",
    "    z0.insert((i.n - 1), i.z)\n",
    "    \n",
    "coord0 = x0 + y0 + z0\n",
    "nNodes = int(len(coord0)/3)"
   ]
  },
  {
   "cell_type": "code",
   "execution_count": 23,
   "metadata": {},
   "outputs": [],
   "source": [
    "lb = -np.inf*np.ones(len(coord0))\n",
    "ub = np.inf*np.ones(len(coord0))\n",
    "\n",
    "for i in Lat_Obj.support_x:\n",
    "    lb[i - 1] = x0[i - 1]\n",
    "    ub[i - 1] = x0[i - 1]\n",
    "\n",
    "for i in Lat_Obj.support_y:\n",
    "    lb[nNodes + i - 1] = y0[i - 1]\n",
    "    ub[nNodes + i - 1] = y0[i - 1]\n",
    "    \n",
    "for i in Lat_Obj.support_z:\n",
    "    lb[(2*nNodes) + i - 1] = z0[i - 1]\n",
    "    ub[(2*nNodes) + i - 1] = z0[i - 1]\n",
    "\n",
    "\n",
    "bounds = Bounds(lb, ub)"
   ]
  },
  {
   "cell_type": "code",
   "execution_count": 24,
   "metadata": {},
   "outputs": [
    {
     "name": "stdout",
     "output_type": "stream",
     "text": [
      "`xtol` termination condition is satisfied.\n",
      "Number of iterations: 219, function evaluations: 65919, CG iterations: 1509, optimality: 1.43e-06, constraint violation: 0.00e+00, execution time: 1.5e+02 s.\n"
     ]
    }
   ],
   "source": [
    "x0 = coord0\n",
    ">>> res = minimize(Energy, x0, method='trust-constr', options={'verbose': 1}, bounds=bounds)"
   ]
  },
  {
   "cell_type": "code",
   "execution_count": 25,
   "metadata": {},
   "outputs": [],
   "source": [
    "result = res.x"
   ]
  },
  {
   "cell_type": "code",
   "execution_count": 26,
   "metadata": {},
   "outputs": [],
   "source": [
    "x = result[0 : nNodes]\n",
    "y = result[nNodes : 2*nNodes]\n",
    "z = result[2*nNodes : 3*nNodes]"
   ]
  },
  {
   "cell_type": "code",
   "execution_count": 29,
   "metadata": {},
   "outputs": [
    {
     "data": {
      "image/png": "[encoded data removed]",
      "text/plain": [
       "<Figure size 432x288 with 1 Axes>"
      ]
     },
     "metadata": {
      "needs_background": "light"
     },
     "output_type": "display_data"
    }
   ],
   "source": [
    "ax = Lattice_Plot(x, y, z, Lat_Obj, xp, 'YZ')"
   ]
  },
  {
   "cell_type": "code",
   "execution_count": null,
   "metadata": {},
   "outputs": [],
   "source": []
  },
  {
   "cell_type": "code",
   "execution_count": null,
   "metadata": {},
   "outputs": [],
   "source": []
  }
 ],
 "metadata": {
  "kernelspec": {
   "display_name": "Python 3",
   "language": "python",
   "name": "python3"
  },
  "language_info": {
   "codemirror_mode": {
    "name": "ipython",
    "version": 3
   },
   "file_extension": ".py",
   "mimetype": "text/x-python",
   "name": "python",
   "nbconvert_exporter": "python",
   "pygments_lexer": "ipython3",
   "version": "3.7.3"
  }
 },
 "nbformat": 4,
 "nbformat_minor": 2
}
