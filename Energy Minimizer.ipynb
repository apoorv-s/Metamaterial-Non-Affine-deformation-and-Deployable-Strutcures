{
 "cells": [
  {
   "cell_type": "code",
   "execution_count": 1,
   "metadata": {},
   "outputs": [],
   "source": [
    "import numpy as np\n",
    "from scipy.optimize import minimize"
   ]
  },
  {
   "cell_type": "code",
   "execution_count": 22,
   "metadata": {},
   "outputs": [
    {
     "data": {
      "text/plain": [
       "[1, 2, 3, 2]"
      ]
     },
     "execution_count": 22,
     "metadata": {},
     "output_type": "execute_result"
    }
   ],
   "source": [
    "Lat_Obj"
   ]
  },
  {
   "cell_type": "code",
   "execution_count": 41,
   "metadata": {},
   "outputs": [],
   "source": [
    "def Energy(Coordinates):\n",
    "    nNodes = len(Coordinates)/3\n",
    "    x_vec = []\n",
    "    y_vec = []\n",
    "    z_vec = []\n",
    "    \n",
    "    for i in range(0, nNodes):\n",
    "        x_vec.insert(i, Coordinates[i])\n",
    "        y_vec.insert(i, Coordinates[i + nNodes])\n",
    "        z_vec.insert(i, Coordinates[i + (2*nNodes)])\n",
    "        \n",
    "    energy = 0    \n",
    "    for i in Lat_Obj.springs:\n",
    "        energy = energy + (0.5*(i.k)*(Length(x_vec[i.i], y_vec[i.i], z_vec[i.i], x_vec[i.j], y_vec[i.j], z_vec[i.j])**2))\n",
    "        \n",
    "    return energy"
   ]
  },
  {
   "cell_type": "code",
   "execution_count": 31,
   "metadata": {},
   "outputs": [],
   "source": []
  },
  {
   "cell_type": "code",
   "execution_count": null,
   "metadata": {},
   "outputs": [],
   "source": []
  },
  {
   "cell_type": "code",
   "execution_count": null,
   "metadata": {},
   "outputs": [],
   "source": []
  },
  {
   "cell_type": "code",
   "execution_count": null,
   "metadata": {},
   "outputs": [],
   "source": []
  }
 ],
 "metadata": {
  "kernelspec": {
   "display_name": "Python 3",
   "language": "python",
   "name": "python3"
  },
  "language_info": {
   "codemirror_mode": {
    "name": "ipython",
    "version": 3
   },
   "file_extension": ".py",
   "mimetype": "text/x-python",
   "name": "python",
   "nbconvert_exporter": "python",
   "pygments_lexer": "ipython3",
   "version": "3.7.3"
  }
 },
 "nbformat": 4,
 "nbformat_minor": 2
}
