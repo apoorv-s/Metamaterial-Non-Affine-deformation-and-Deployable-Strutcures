{
 "cells": [
  {
   "cell_type": "code",
   "execution_count": 1,
   "metadata": {},
   "outputs": [],
   "source": [
    "run Objects_and_functions.ipynb"
   ]
  },
  {
   "cell_type": "code",
   "execution_count": 86,
   "metadata": {},
   "outputs": [],
   "source": [
    "# rectangular Lattice Generator\n",
    "def Rect_Lattice(nx, ny, lx, ly, support_x, support_y, support_z):\n",
    "    # Rectangular lattice with nx, and ny nodes in x-direction and y-direction respectively\n",
    "    # lx and ly are dimensions of unit cell of lattice in x- and y-direction respecctively\n",
    "    # Support vector indicate the vectors supported in x-, y- and z-direction\n",
    "    \n",
    "    nNodes = nx*ny;\n",
    "    nSprings = (2*nx*ny) - nx - ny\n",
    "    \n",
    "    N_vec = []\n",
    "    S_vec = []\n",
    "    \n",
    "    x = 0\n",
    "    y = 0\n",
    "    z = 0\n",
    "    \n",
    "    #Defining nodes\n",
    "    for i in range(1, (nx + 1)):\n",
    "        for j in range(1, (ny + 1)):\n",
    "            node_temp = Node()\n",
    "            node_temp.n = (nx*(i-1)) + j\n",
    "            node_temp.x = x\n",
    "            node_temp.y = y\n",
    "            node_temp.z = z\n",
    "            y = y + ly\n",
    "            N_vec.insert(((nx*(i-1)) + j - 1), node_temp)\n",
    "                    \n",
    "        y = 0\n",
    "        x = x + lx\n",
    "    \n",
    "    #Defining Supports\n",
    "    for i in support_x:\n",
    "        N_vec[i - 1].s_x = 1\n",
    "    for i in support_y:\n",
    "        N_vec[i - 1].s_y = 1\n",
    "    for i in support_z:\n",
    "        N_vec[i - 1].s_z = 1\n",
    "\n",
    "    #Springs and connectivity\n",
    "    k = 10\n",
    "    temp_nSpring = 1\n",
    "    l0x = lx\n",
    "    l0y = ly\n",
    "    temp_nNode = 0\n",
    "    \n",
    "    for i in range(1, (nx + 1)):\n",
    "        for j in range(1, (ny + 1)):\n",
    "            temp_nNode = (ny*(i-1)) + j\n",
    "            \n",
    "            if (j < ny):\n",
    "                spring_temp = Spring()\n",
    "                spring_temp.n = temp_nSpring\n",
    "                spring_temp.k = k\n",
    "                spring_temp.l0 = l0y\n",
    "                spring_temp.i = temp_nNode\n",
    "                spring_temp.j = temp_nNode + 1\n",
    "                S_vec.insert(temp_nSpring - 1, spring_temp)\n",
    "                N_vec[temp_nNode - 1].sp_con.append(temp_nSpring)\n",
    "                N_vec[temp_nNode].sp_con.append(temp_nSpring)\n",
    "                temp_nSpring = temp_nSpring + 1\n",
    "                \n",
    "            if (i < nx):\n",
    "                spring_temp = Spring()\n",
    "                spring_temp.n = temp_nSpring\n",
    "                spring_temp.k = k\n",
    "                spring_temp.l0 = l0x\n",
    "                spring_temp.i = temp_nNode\n",
    "                spring_temp.j = temp_nNode + ny\n",
    "                S_vec.insert(temp_nSpring - 1, spring_temp)\n",
    "                N_vec[temp_nNode - 1].sp_con.append(temp_nSpring)\n",
    "                N_vec[temp_nNode + ny - 1].sp_con.append(temp_nSpring)\n",
    "                temp_nSpring = temp_nSpring + 1\n",
    "    \n",
    "    if (temp_nSpring - 1) != nSprings:\n",
    "        print(\"Number of springs do not match!!\")\n",
    "        \n",
    "    return Lattice(nx, ny, N_vec, S_vec, support_x, support_y, support_z)"
   ]
  },
  {
   "cell_type": "code",
   "execution_count": 79,
   "metadata": {},
   "outputs": [],
   "source": [
    "def Lattice_Plot(x, y, z, lattice, deformed_springs, orientation):\n",
    "    \n",
    "    x = np.array(x)\n",
    "    y = np.array(y)\n",
    "    z = np.array(z)\n",
    "    \n",
    "    ax = plt.gca(projection=\"3d\")\n",
    "    ax.scatter(x,y,z, c='r',s=10)\n",
    "    \n",
    "    #Lines in y-direction:\n",
    "    for i in range(1, (lattice.nx + 1)):\n",
    "        ax.plot(x[int(lattice.ny*(i -1)): int(lattice.ny*i)], y[int(lattice.ny*(i -1)): int(lattice.ny*i)], z[int(lattice.ny*(i -1)): int(lattice.ny*i)], color=\"black\")\n",
    "        \n",
    "    #Lines in x-direction:\n",
    "    for i in range(1, (lattice.ny + 1)):\n",
    "        h_line_x = []\n",
    "        h_line_y = []\n",
    "        h_line_z = []\n",
    "        for j in range(1, (lattice.nx + 1)):\n",
    "            h_line_x.append(x[((lattice.ny)*(j-1) + i - 1)])\n",
    "            h_line_y.append(y[((lattice.ny)*(j-1) + i - 1)])\n",
    "            h_line_z.append(z[((lattice.ny)*(j-1) + i - 1)])\n",
    "    \n",
    "        ax.plot(h_line_x, h_line_y, h_line_z, color=\"black\")\n",
    "        \n",
    "    #plotting supports\n",
    "    for i in lattice.support_x:\n",
    "        ax.scatter(x[i - 1], y[i - 1], z[i - 1], marker = '1', s = 100, c = 'black')\n",
    "        # marker '1' is tri_down, denoting support in x-direction\n",
    "        \n",
    "    for i in lattice.support_y:\n",
    "        ax.scatter(x[i - 1], y[i - 1], z[i - 1], marker = '2', s = 100, c = 'black')\n",
    "        # marker '2' is tri_up, denoting support in y-direction\n",
    "        \n",
    "    for i in lattice.support_z:\n",
    "        ax.scatter(x[i - 1], y[i - 1], z[i - 1], marker = '^', s = 50, c = 'black')\n",
    "        \n",
    "    #plotting the altered string\n",
    "    for i in deformed_springs:\n",
    "        ax.plot([x[Lat_Obj.springs[i - 1].i - 1], x[Lat_Obj.springs[i - 1].j - 1]], [y[Lat_Obj.springs[i - 1].i - 1], y[Lat_Obj.springs[i - 1].j - 1]], [z[Lat_Obj.springs[i - 1].i - 1], z[Lat_Obj.springs[i - 1].j - 1]], color = 'orange')\n",
    "        \n",
    "    #Setting the view and axes limits\n",
    "    max_range = np.array([x.max()-x.min(), y.max()-y.min(), z.max()-z.min()]).max() / 2.0\n",
    "\n",
    "    mid_x = (x.max()+x.min()) * 0.5\n",
    "    mid_y = (y.max()+y.min()) * 0.5\n",
    "    mid_z = (z.max()+z.min()) * 0.5\n",
    "    ax.set_xlim(mid_x - max_range, mid_x + max_range)\n",
    "    ax.set_ylim(mid_y - max_range, mid_y + max_range)\n",
    "    ax.set_zlim((mid_z - max_range)*0.5, (mid_z + max_range)*0.5)\n",
    "\n",
    "    if(orientation == 'XY'):\n",
    "        elev = 90\n",
    "        azi = -90\n",
    "    elif(orientation == 'XZ'):\n",
    "        elev = 270\n",
    "        azi = 270\n",
    "    elif(orientation == 'YZ'):\n",
    "        elev = 0\n",
    "        azi = 0\n",
    "    else:\n",
    "        elev = 45\n",
    "        azi = -45\n",
    "        \n",
    "        \n",
    "    ax.set_axis_off()\n",
    "    #ax.set_frame_on(False)\n",
    "    ax.view_init(elev, azi)\n",
    "    #plt.savefig('destination_path.eps', format='eps')\n",
    "    ax.grid(False)\n",
    "    ax.mouse_init(1, 3)\n",
    "    #ax.set_top_view()\n",
    "\n",
    "    \n",
    "    return ax"
   ]
  },
  {
   "cell_type": "code",
   "execution_count": null,
   "metadata": {},
   "outputs": [],
   "source": [
    "def add_braces_to_rectangular_lattice(Lat, orientation):\n",
    "    diag_springs = [];\n",
    "    for i = 1 : "
   ]
  },
  {
   "cell_type": "code",
   "execution_count": 87,
   "metadata": {},
   "outputs": [],
   "source": [
    "Lat = Rect_Lattice(5, 4, 1, 1, [1, 4], [1, 5], [1, 6])"
   ]
  },
  {
   "cell_type": "code",
   "execution_count": 88,
   "metadata": {},
   "outputs": [],
   "source": [
    "x0 = []\n",
    "y0 = []\n",
    "z0 = []\n",
    "for i in Lat.nodes:\n",
    "    x0.insert((i.n - 1), i.x)\n",
    "    y0.insert((i.n - 1), i.y)\n",
    "    z0.insert((i.n - 1), i.z)\n"
   ]
  },
  {
   "cell_type": "code",
   "execution_count": 89,
   "metadata": {},
   "outputs": [
    {
     "data": {
      "image/png": "[encoded data removed]",
      "text/plain": [
       "<Figure size 432x288 with 1 Axes>"
      ]
     },
     "metadata": {
      "needs_background": "light"
     },
     "output_type": "display_data"
    }
   ],
   "source": [
    "ax = Lattice_Plot(x0, y0, z0, Lat, [], 'XY')"
   ]
  },
  {
   "cell_type": "code",
   "execution_count": 90,
   "metadata": {},
   "outputs": [
    {
     "data": {
      "text/plain": [
       "[0, 0, 0, 0, 1, 1, 1, 1, 2, 2, 2, 2, 3, 3, 3, 3, 4, 4, 4, 4]"
      ]
     },
     "execution_count": 90,
     "metadata": {},
     "output_type": "execute_result"
    }
   ],
   "source": [
    "x0"
   ]
  },
  {
   "cell_type": "code",
   "execution_count": 91,
   "metadata": {},
   "outputs": [
    {
     "data": {
      "text/plain": [
       "[0, 1, 2, 3, 0, 1, 2, 3, 0, 1, 2, 3, 0, 1, 2, 3, 0, 1, 2, 3]"
      ]
     },
     "execution_count": 91,
     "metadata": {},
     "output_type": "execute_result"
    }
   ],
   "source": [
    "y0"
   ]
  },
  {
   "cell_type": "code",
   "execution_count": 92,
   "metadata": {},
   "outputs": [
    {
     "data": {
      "text/plain": [
       "[0, 0, 0, 0, 0, 0, 0, 0, 0, 0, 0, 0, 0, 0, 0, 0, 0, 0, 0, 0]"
      ]
     },
     "execution_count": 92,
     "metadata": {},
     "output_type": "execute_result"
    }
   ],
   "source": [
    "z0"
   ]
  },
  {
   "cell_type": "code",
   "execution_count": null,
   "metadata": {},
   "outputs": [],
   "source": []
  }
 ],
 "metadata": {
  "kernelspec": {
   "display_name": "Python 3",
   "language": "python",
   "name": "python3"
  },
  "language_info": {
   "codemirror_mode": {
    "name": "ipython",
    "version": 3
   },
   "file_extension": ".py",
   "mimetype": "text/x-python",
   "name": "python",
   "nbconvert_exporter": "python",
   "pygments_lexer": "ipython3",
   "version": "3.7.3"
  }
 },
 "nbformat": 4,
 "nbformat_minor": 2
}
