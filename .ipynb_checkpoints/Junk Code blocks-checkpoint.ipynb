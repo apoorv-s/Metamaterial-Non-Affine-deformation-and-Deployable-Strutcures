{
 "cells": [
  {
   "cell_type": "code",
   "execution_count": null,
   "metadata": {},
   "outputs": [],
   "source": [
    "#Horizontal and vertical lines for Lattice_plot function:\n",
    "\n",
    "    #Lines in y-direction:\n",
    "    for i in range(1, (lattice.nx + 1)):\n",
    "        ax.plot(x[int(lattice.ny*(i -1)): int(lattice.ny*i)], y[int(lattice.ny*(i -1)): int(lattice.ny*i)], z[int(lattice.ny*(i -1)): int(lattice.ny*i)], color=\"black\")\n",
    "        \n",
    "    #Lines in x-direction:\n",
    "    for i in range(1, (lattice.ny + 1)):\n",
    "        h_line_x = []\n",
    "        h_line_y = []\n",
    "        h_line_z = []\n",
    "        for j in range(1, (lattice.nx + 1)):\n",
    "            h_line_x.append(x[((lattice.ny)*(j-1) + i - 1)])\n",
    "            h_line_y.append(y[((lattice.ny)*(j-1) + i - 1)])\n",
    "            h_line_z.append(z[((lattice.ny)*(j-1) + i - 1)])\n",
    "    \n",
    "        ax.plot(h_line_x, h_line_y, h_line_z, color=\"black\")"
   ]
  },
  {
   "cell_type": "code",
   "execution_count": null,
   "metadata": {},
   "outputs": [],
   "source": [
    "\n",
    "                #Body Diagonals:\n",
    "                ly = lat.springs[0].l0\n",
    "                lx = lat.springs[1].l0\n",
    "                \n",
    "                l = np.sqrt((ly**2)+(lx**2)+(lz**2))\n",
    "                if(1 in orientation):\n",
    "                    temp_spring = Spring()\n",
    "                    temp_spring.n = temp_nSpring\n",
    "                    temp_spring.k = strut_stiffness\n",
    "                    temp_spring.l0 = l\n",
    "                    temp_spring.i = temp_nNode\n",
    "                    temp_spring.j = temp_nNode - nNodes_current\n",
    "                    \n",
    "                    lat.nodes[temp_nNode - 1].sp_con.append(temp_nSpring)\n",
    "                    lat.nodes[temp_nNode - nNodes_current - 1].sp_con.append(temp_nSpring)\n",
    "                    \n",
    "                    lat.springs.insert(temp_nSpring, temp_spring)\n",
    "                    temp_nSpring = temp_nSpring + 1\n",
    "        "
   ]
  }
 ],
 "metadata": {
  "kernelspec": {
   "display_name": "Python 3",
   "language": "python",
   "name": "python3"
  },
  "language_info": {
   "codemirror_mode": {
    "name": "ipython",
    "version": 3
   },
   "file_extension": ".py",
   "mimetype": "text/x-python",
   "name": "python",
   "nbconvert_exporter": "python",
   "pygments_lexer": "ipython3",
   "version": "3.7.3"
  }
 },
 "nbformat": 4,
 "nbformat_minor": 2
}
