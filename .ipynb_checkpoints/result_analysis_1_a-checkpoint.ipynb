{
 "cells": [
  {
   "cell_type": "code",
   "execution_count": 83,
   "metadata": {},
   "outputs": [],
   "source": [
    "run Lattice_functions.ipynb"
   ]
  },
  {
   "cell_type": "code",
   "execution_count": 3,
   "metadata": {},
   "outputs": [],
   "source": [
    "import os\n",
    "from functools import partial\n",
    "\n",
    "path = os.getcwd()\n",
    "\n",
    "np_load_old = partial(np.load)\n",
    "np.load = lambda *a,**k: np_load_old(*a, allow_pickle=True, **k)"
   ]
  },
  {
   "cell_type": "code",
   "execution_count": 26,
   "metadata": {},
   "outputs": [],
   "source": [
    "nx = 4 + 1 # 1 added to make the total length = 4*0.25\n",
    "ny = 4 + 1\n",
    "lx = 0.25\n",
    "ly = 0.25\n",
    "k_inPlane = 7e4\n",
    "nz = 3\n",
    "lz = 0.01\n",
    "k_vertical = 1e8 # to enzure strain in z direction is close to zero\n",
    "M1_5x5 = Rect_Lattice(nx, ny, lx, ly, k_inPlane, [], [], [])\n",
    "M1_5x5 = add_layers_in_z_direction(M1_5x5, nz, lz, k_vertical, 0, [])"
   ]
  },
  {
   "cell_type": "code",
   "execution_count": 35,
   "metadata": {},
   "outputs": [
    {
     "data": {
      "image/png": "[encoded data removed]",
      "text/plain": [
       "<Figure size 432x288 with 1 Axes>"
      ]
     },
     "metadata": {
      "needs_background": "light"
     },
     "output_type": "display_data"
    }
   ],
   "source": [
    "x0 = []\n",
    "y0 = []\n",
    "z0 = []\n",
    "for i in M1_5x5.nodes:\n",
    "    x0.insert((i.n - 1), i.x)\n",
    "    y0.insert((i.n - 1), i.y)\n",
    "    z0.insert((i.n - 1), i.z)\n",
    "    \n",
    "coord0 = x0 + y0 + z0\n",
    "nNodes = int(len(coord0)/3)\n",
    "\n",
    "ax = Lattice_Plot(x0, y0, z0, M1_5x5, [], 'YZ', 25, 8, 0.1, 'M1_type_a_YZ')"
   ]
  },
  {
   "cell_type": "code",
   "execution_count": 66,
   "metadata": {},
   "outputs": [],
   "source": [
    "forces_M1_AE_5x5 = np.load(path + '/Model 1/a/forces_M1_AE_5x5.npy')\n",
    "forces_M1_5x5 = np.load(path + '/Model 1/a/forces_M1_5x5.npy')\n",
    "z_centre_M1_5x5 = np.load(path + '/Model 1/a/z_centre_M1_5x5.npy')\n",
    "z_centre_M1_AE_5x5 = np.load(path + '/Model 1/a/z_centre_M1_AE_5x5.npy')\n"
   ]
  },
  {
   "cell_type": "code",
   "execution_count": 76,
   "metadata": {},
   "outputs": [],
   "source": [
    "#Equalizing the z for 2kN load\n",
    "z_centre_M1_5x5 = -(-1*0.016312*100/z_centre_M1_5x5[4])*z_centre_M1_5x5\n",
    "z_centre_M1_AE_5x5 = -(-1*0.016312*100/z_centre_M1_AE_5x5[4])*z_centre_M1_AE_5x5"
   ]
  },
  {
   "cell_type": "code",
   "execution_count": 104,
   "metadata": {},
   "outputs": [],
   "source": [
    "w_FSDT = FSDPT_point_load_at_centre(200e5, 0.25, 0.02, 1, 1, 5/6, forces_M1_5x5, 20, 20)\n",
    "w_FSDT = np.array(w_FSDT)*100"
   ]
  },
  {
   "cell_type": "code",
   "execution_count": 105,
   "metadata": {},
   "outputs": [
    {
     "data": {
      "text/plain": [
       "21"
      ]
     },
     "execution_count": 105,
     "metadata": {},
     "output_type": "execute_result"
    }
   ],
   "source": [
    "len(w_FSDT)"
   ]
  },
  {
   "cell_type": "code",
   "execution_count": 106,
   "metadata": {},
   "outputs": [
    {
     "data": {
      "image/png": "[encoded data removed]",
      "text/plain": [
       "<Figure size 432x288 with 1 Axes>"
      ]
     },
     "metadata": {
      "needs_background": "light"
     },
     "output_type": "display_data"
    }
   ],
   "source": [
    "plt.scatter(forces_M1_AE_5x5, z_centre_M1_AE_5x5, c='r',s=10, label = \"Constant Axial Rigidity case\")\n",
    "plt.scatter(forces_M1_5x5, z_centre_M1_5x5, c='g',s=10, label = \"Constant Stiffness case\")\n",
    "plt.plot(forces_M1_5x5, 0.8156*forces_M1_5x5, label = \"Analytical Prediction from CPT\")\n",
    "plt.plot(forces_M1_5x5, w_FSDT, label = \"Analytical Prediction from FSDT\")\n",
    "plt.xlabel('Point Load at Centre (kN)') \n",
    "plt.ylabel('Vertical Displacement at centre (cm)')\n",
    "plt.legend()\n",
    "#plt.title ('Model 1 - Type A - vertical Displacement with repspect to Point Load at centre')\n",
    "plt.show()"
   ]
  },
  {
   "cell_type": "code",
   "execution_count": 64,
   "metadata": {},
   "outputs": [
    {
     "data": {
      "text/plain": [
       "array([ 0.        ,  0.        ,  0.        ,  0.        , -0.01677865,\n",
       "       -0.01812159, -0.01932753, -0.02030055, -0.02136846, -0.03100755,\n",
       "       -0.03190994, -0.03414459, -0.03542916, -0.03643166, -0.03680378,\n",
       "       -0.03885362, -0.0386838 , -0.04044622, -0.04021317, -0.04265557,\n",
       "       -0.04372622])"
      ]
     },
     "execution_count": 64,
     "metadata": {},
     "output_type": "execute_result"
    }
   ],
   "source": [
    "z_centre_M1_AE_5x5"
   ]
  },
  {
   "cell_type": "code",
   "execution_count": 70,
   "metadata": {},
   "outputs": [
    {
     "data": {
      "text/plain": [
       "array([ 0. ,  0.5,  1. ,  1.5,  2. ,  2.5,  3. ,  3.5,  4. ,  4.5,  5. ,\n",
       "        5.5,  6. ,  6.5,  7. ,  7.5,  8. ,  8.5,  9. ,  9.5, 10. ])"
      ]
     },
     "execution_count": 70,
     "metadata": {},
     "output_type": "execute_result"
    }
   ],
   "source": [
    "forces_M1_5x5"
   ]
  },
  {
   "cell_type": "code",
   "execution_count": null,
   "metadata": {},
   "outputs": [],
   "source": []
  },
  {
   "cell_type": "code",
   "execution_count": null,
   "metadata": {},
   "outputs": [],
   "source": []
  },
  {
   "cell_type": "code",
   "execution_count": null,
   "metadata": {},
   "outputs": [],
   "source": []
  },
  {
   "cell_type": "code",
   "execution_count": null,
   "metadata": {},
   "outputs": [],
   "source": []
  },
  {
   "cell_type": "code",
   "execution_count": null,
   "metadata": {},
   "outputs": [],
   "source": []
  },
  {
   "cell_type": "code",
   "execution_count": null,
   "metadata": {},
   "outputs": [],
   "source": []
  },
  {
   "cell_type": "code",
   "execution_count": null,
   "metadata": {},
   "outputs": [],
   "source": []
  },
  {
   "cell_type": "code",
   "execution_count": null,
   "metadata": {},
   "outputs": [],
   "source": []
  },
  {
   "cell_type": "code",
   "execution_count": null,
   "metadata": {},
   "outputs": [],
   "source": []
  },
  {
   "cell_type": "code",
   "execution_count": null,
   "metadata": {},
   "outputs": [],
   "source": []
  },
  {
   "cell_type": "code",
   "execution_count": null,
   "metadata": {},
   "outputs": [],
   "source": []
  },
  {
   "cell_type": "code",
   "execution_count": null,
   "metadata": {},
   "outputs": [],
   "source": []
  },
  {
   "cell_type": "code",
   "execution_count": null,
   "metadata": {},
   "outputs": [],
   "source": []
  },
  {
   "cell_type": "code",
   "execution_count": null,
   "metadata": {},
   "outputs": [],
   "source": []
  },
  {
   "cell_type": "code",
   "execution_count": null,
   "metadata": {},
   "outputs": [],
   "source": []
  },
  {
   "cell_type": "code",
   "execution_count": null,
   "metadata": {},
   "outputs": [],
   "source": [
    "np.load = np_load_old"
   ]
  }
 ],
 "metadata": {
  "kernelspec": {
   "display_name": "Python 3",
   "language": "python",
   "name": "python3"
  },
  "language_info": {
   "codemirror_mode": {
    "name": "ipython",
    "version": 3
   },
   "file_extension": ".py",
   "mimetype": "text/x-python",
   "name": "python",
   "nbconvert_exporter": "python",
   "pygments_lexer": "ipython3",
   "version": "3.7.3"
  }
 },
 "nbformat": 4,
 "nbformat_minor": 2
}
