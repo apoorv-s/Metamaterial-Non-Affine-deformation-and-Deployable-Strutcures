{
 "cells": [
  {
   "cell_type": "code",
   "execution_count": 1,
   "metadata": {},
   "outputs": [],
   "source": [
    "run Lattice_functions.ipynb"
   ]
  },
  {
   "cell_type": "code",
   "execution_count": 2,
   "metadata": {},
   "outputs": [],
   "source": [
    "import os\n",
    "from functools import partial\n",
    "\n",
    "path = os.getcwd()\n",
    "\n",
    "np_load_old = partial(np.load)\n",
    "np.load = lambda *a,**k: np_load_old(*a, allow_pickle=True, **k)"
   ]
  },
  {
   "cell_type": "code",
   "execution_count": 3,
   "metadata": {},
   "outputs": [],
   "source": [
    "#Generating the lattice\n",
    "nx = 20 + 1 # 1 added to make the total length = 20*0.01\n",
    "ny = 20 + 1\n",
    "lx = 0.05\n",
    "ly = 0.05\n",
    "k_inPlane = 4e4\n",
    "nz = 3\n",
    "lz = 0.01\n",
    "k_vertical = 8e6\n",
    "M2 = Rect_Lattice(nx, ny, lx, ly, k_inPlane, [], [], [])\n",
    "M2 = add_braces_to_rectangular_lattice(M2, k_inPlane, '|')\n",
    "M2 = add_layers_in_z_direction(M2, nz, lz, k_vertical, 0, [])\n",
    "\n",
    "#setting z of the middle layer to zero and deriving support conditions:\n",
    "min_x = M2.nodes[1].x\n",
    "min_y = M2.nodes[1].y\n",
    "max_x = M2.nodes[1].x\n",
    "max_y = M2.nodes[1].y\n",
    "\n",
    "for i in M2.nodes:\n",
    "    i.z = round(i.z, 12) - lz\n",
    "    i.x = round(i.x, 12)\n",
    "    i.y = round(i.y, 12)\n",
    "    min_x = min(i.x, min_x)\n",
    "    min_y = min(i.y, min_y)\n",
    "    max_x = max(i.x, max_x)\n",
    "    max_y = max(i.y, max_y)\n",
    "\n",
    "#Adding support\n",
    "for i in M2.nodes:\n",
    "    if(i.z == 0):\n",
    "        if(i.x == min_x or i.x == max_x or i.y == min_y or i.y == max_y):\n",
    "            i.s_x = 1\n",
    "            i.s_y = 1\n",
    "            i.s_z = 1\n",
    "            M2.support_x.append(i.n)\n",
    "            M2.support_y.append(i.n)\n",
    "            M2.support_z.append(i.n)\n",
    "\n",
    "\n",
    "mid_node = int(nx*ny + (nx*ny + 1)/2) #Only for odd nx and ny"
   ]
  },
  {
   "cell_type": "code",
   "execution_count": null,
   "metadata": {},
   "outputs": [],
   "source": [
    "x0 = []\n",
    "y0 = []\n",
    "z0 = []\n",
    "for i in M2.nodes:\n",
    "    x0.insert((i.n - 1), i.x)\n",
    "    y0.insert((i.n - 1), i.y)\n",
    "    z0.insert((i.n - 1), i.z)\n",
    "    \n",
    "coord0 = x0 + y0 + z0\n",
    "nNodes = int(len(coord0)/3)\n",
    "\n",
    "ax = Lattice_Plot(x0, y0, z0, M2, [], 'YZ', 25, 8, 0.1, 'M2_type_c_YZ')"
   ]
  },
  {
   "cell_type": "code",
   "execution_count": 5,
   "metadata": {},
   "outputs": [
    {
     "ename": "FileNotFoundError",
     "evalue": "[Errno 2] No such file or directory: '/home/apoorv/Desktop/BTP_Python/Model 1/c/forces_M2_AE.npy'",
     "output_type": "error",
     "traceback": [
      "\u001b[0;31m---------------------------------------------------------------------------\u001b[0m",
      "\u001b[0;31mFileNotFoundError\u001b[0m                         Traceback (most recent call last)",
      "\u001b[0;32m<ipython-input-5-7c658ce0e87f>\u001b[0m in \u001b[0;36m<module>\u001b[0;34m\u001b[0m\n\u001b[0;32m----> 1\u001b[0;31m \u001b[0mforces_M2_AE\u001b[0m \u001b[0;34m=\u001b[0m \u001b[0mnp\u001b[0m\u001b[0;34m.\u001b[0m\u001b[0mload\u001b[0m\u001b[0;34m(\u001b[0m\u001b[0mpath\u001b[0m \u001b[0;34m+\u001b[0m \u001b[0;34m'/Model 1/c/forces_M2_AE.npy'\u001b[0m\u001b[0;34m)\u001b[0m\u001b[0;34m\u001b[0m\u001b[0;34m\u001b[0m\u001b[0m\n\u001b[0m\u001b[1;32m      2\u001b[0m \u001b[0mforces_M2\u001b[0m \u001b[0;34m=\u001b[0m \u001b[0mnp\u001b[0m\u001b[0;34m.\u001b[0m\u001b[0mload\u001b[0m\u001b[0;34m(\u001b[0m\u001b[0mpath\u001b[0m \u001b[0;34m+\u001b[0m \u001b[0;34m'/Model 1/c/forces_M2.npy'\u001b[0m\u001b[0;34m)\u001b[0m\u001b[0;34m\u001b[0m\u001b[0;34m\u001b[0m\u001b[0m\n\u001b[1;32m      3\u001b[0m \u001b[0mz_centre_M2\u001b[0m \u001b[0;34m=\u001b[0m \u001b[0mnp\u001b[0m\u001b[0;34m.\u001b[0m\u001b[0mload\u001b[0m\u001b[0;34m(\u001b[0m\u001b[0mpath\u001b[0m \u001b[0;34m+\u001b[0m \u001b[0;34m'/Model 1/c/z_centre_M2.npy'\u001b[0m\u001b[0;34m)\u001b[0m\u001b[0;34m\u001b[0m\u001b[0;34m\u001b[0m\u001b[0m\n\u001b[1;32m      4\u001b[0m \u001b[0mz_centre_M2_AE\u001b[0m \u001b[0;34m=\u001b[0m \u001b[0mnp\u001b[0m\u001b[0;34m.\u001b[0m\u001b[0mload\u001b[0m\u001b[0;34m(\u001b[0m\u001b[0mpath\u001b[0m \u001b[0;34m+\u001b[0m \u001b[0;34m'/Model 1/c/z_centre_M2_AE.npy'\u001b[0m\u001b[0;34m)\u001b[0m\u001b[0;34m\u001b[0m\u001b[0;34m\u001b[0m\u001b[0m\n",
      "\u001b[0;32m<ipython-input-2-9fa98388c181>\u001b[0m in \u001b[0;36m<lambda>\u001b[0;34m(*a, **k)\u001b[0m\n\u001b[1;32m      5\u001b[0m \u001b[0;34m\u001b[0m\u001b[0m\n\u001b[1;32m      6\u001b[0m \u001b[0mnp_load_old\u001b[0m \u001b[0;34m=\u001b[0m \u001b[0mpartial\u001b[0m\u001b[0;34m(\u001b[0m\u001b[0mnp\u001b[0m\u001b[0;34m.\u001b[0m\u001b[0mload\u001b[0m\u001b[0;34m)\u001b[0m\u001b[0;34m\u001b[0m\u001b[0;34m\u001b[0m\u001b[0m\n\u001b[0;32m----> 7\u001b[0;31m \u001b[0mnp\u001b[0m\u001b[0;34m.\u001b[0m\u001b[0mload\u001b[0m \u001b[0;34m=\u001b[0m \u001b[0;32mlambda\u001b[0m \u001b[0;34m*\u001b[0m\u001b[0ma\u001b[0m\u001b[0;34m,\u001b[0m\u001b[0;34m**\u001b[0m\u001b[0mk\u001b[0m\u001b[0;34m:\u001b[0m \u001b[0mnp_load_old\u001b[0m\u001b[0;34m(\u001b[0m\u001b[0;34m*\u001b[0m\u001b[0ma\u001b[0m\u001b[0;34m,\u001b[0m \u001b[0mallow_pickle\u001b[0m\u001b[0;34m=\u001b[0m\u001b[0;32mTrue\u001b[0m\u001b[0;34m,\u001b[0m \u001b[0;34m**\u001b[0m\u001b[0mk\u001b[0m\u001b[0;34m)\u001b[0m\u001b[0;34m\u001b[0m\u001b[0;34m\u001b[0m\u001b[0m\n\u001b[0m",
      "\u001b[0;32m~/anaconda3/lib/python3.7/site-packages/numpy/lib/npyio.py\u001b[0m in \u001b[0;36mload\u001b[0;34m(file, mmap_mode, allow_pickle, fix_imports, encoding)\u001b[0m\n\u001b[1;32m    420\u001b[0m         \u001b[0mown_fid\u001b[0m \u001b[0;34m=\u001b[0m \u001b[0;32mFalse\u001b[0m\u001b[0;34m\u001b[0m\u001b[0;34m\u001b[0m\u001b[0m\n\u001b[1;32m    421\u001b[0m     \u001b[0;32melse\u001b[0m\u001b[0;34m:\u001b[0m\u001b[0;34m\u001b[0m\u001b[0;34m\u001b[0m\u001b[0m\n\u001b[0;32m--> 422\u001b[0;31m         \u001b[0mfid\u001b[0m \u001b[0;34m=\u001b[0m \u001b[0mopen\u001b[0m\u001b[0;34m(\u001b[0m\u001b[0mos_fspath\u001b[0m\u001b[0;34m(\u001b[0m\u001b[0mfile\u001b[0m\u001b[0;34m)\u001b[0m\u001b[0;34m,\u001b[0m \u001b[0;34m\"rb\"\u001b[0m\u001b[0;34m)\u001b[0m\u001b[0;34m\u001b[0m\u001b[0;34m\u001b[0m\u001b[0m\n\u001b[0m\u001b[1;32m    423\u001b[0m         \u001b[0mown_fid\u001b[0m \u001b[0;34m=\u001b[0m \u001b[0;32mTrue\u001b[0m\u001b[0;34m\u001b[0m\u001b[0;34m\u001b[0m\u001b[0m\n\u001b[1;32m    424\u001b[0m \u001b[0;34m\u001b[0m\u001b[0m\n",
      "\u001b[0;31mFileNotFoundError\u001b[0m: [Errno 2] No such file or directory: '/home/apoorv/Desktop/BTP_Python/Model 1/c/forces_M2_AE.npy'"
     ]
    }
   ],
   "source": [
    "forces_M2_AE = np.load(path + '/Model 2/c/forces_M2_AE.npy')\n",
    "forces_M2 = np.load(path + '/Model 2/c/forces_M2.npy')\n",
    "z_centre_M2 = np.load(path + '/Model 2/c/z_centre_M2.npy')\n",
    "z_centre_M2_AE = np.load(path + '/Model 2/c/z_centre_M2_AE.npy')"
   ]
  },
  {
   "cell_type": "code",
   "execution_count": null,
   "metadata": {},
   "outputs": [],
   "source": [
    "#Equalizing the z for 2kN load\n",
    "z_centre_M2 = -(-1*0.016312/z_centre_M2[4])*z_centre_M2\n",
    "z_centre_M2_AE = -(-1*0.016312/z_centre_M2_AE[4])*z_centre_M2_AE"
   ]
  },
  {
   "cell_type": "code",
   "execution_count": null,
   "metadata": {},
   "outputs": [],
   "source": [
    "w_FSDT = FSDPT_point_load_at_centre(2e6, 0.25, 0.02, 1, 1, 5/6, forces_M2, 20, 20)\n",
    "w_FSDT = np.array(w_FSDT)"
   ]
  },
  {
   "cell_type": "code",
   "execution_count": null,
   "metadata": {},
   "outputs": [],
   "source": [
    "plt.scatter(forces_M2_AE, z_centre_M2_AE, c='r',s=10, label = \"Constant Axial Rigidity case\")\n",
    "plt.scatter(forces_M2, z_centre_M2, c='g',s=10, label = \"Constant Stiffness case\")\n",
    "plt.plot(forces_M2, 0.008156*forces_M2, label = \"Analytical Prediction from CPT\")\n",
    "plt.plot(forces_M2, w_FSDT, label = \"Analytical Prediction from FSDT\")\n",
    "plt.xlabel('Point Load at Centre (kN)') \n",
    "plt.ylabel('Vertical Displacement at centre (cm)')\n",
    "plt.legend()\n",
    "#plt.title ('Model 1 - Type A - vertical Displacement with repspect to Point Load at centre')\n",
    "plt.savefig('M2_c_plt.png', dpi=300)\n",
    "plt.show()"
   ]
  },
  {
   "cell_type": "code",
   "execution_count": null,
   "metadata": {},
   "outputs": [],
   "source": [
    "data_M2 = np.load(path + '/Model 1/c/data_M2.npy')\n",
    "data_M2_AE = np.load(path + '/Model 1/c/data_M2_AE.npy')"
   ]
  },
  {
   "cell_type": "code",
   "execution_count": null,
   "metadata": {},
   "outputs": [],
   "source": [
    "#Strain epsilon zz at the centre of the plate\n",
    "mid_node = int(nx*ny + (nx*ny + 1)/2)\n",
    "z_mid_node = 2*nNodes + mid_node - 1\n",
    "epsilon_zz_vec = []\n",
    "epsilon_zz_AE_vec = []\n",
    "for i in range(0, len(data_M2)):\n",
    "    epsilon = -100*(1 - (data_M2[i][2*nNodes + mid_node - 1 + nx*ny] - data_M2[i][2*nNodes + mid_node - 1 - nx*ny])/0.02)\n",
    "    epsilon_AE = -100*(1 - (data_M2_AE[i][2*nNodes + mid_node - 1 + nx*ny] - data_M2_AE[i][2*nNodes + mid_node - 1 - nx*ny])/0.02)\n",
    "    epsilon_zz_vec.append(epsilon)\n",
    "    epsilon_zz_AE_vec.append(epsilon_AE)"
   ]
  },
  {
   "cell_type": "code",
   "execution_count": null,
   "metadata": {},
   "outputs": [],
   "source": [
    "from matplotlib import rc\n",
    "plt.scatter(forces_M2_AE, epsilon_zz_vec, c='r',s=10, label = \"$\\epsilon_{zz}$ for constant stiffness case\")\n",
    "plt.scatter(forces_M2_AE, epsilon_zz_AE_vec, marker = 'v', c='b',s=10, label = \"$\\epsilon_{zz}$ for constant Axial Rigidity case\")\n",
    "plt.plot(forces_M2, np.zeros(len(forces_M2)), label = \"Zero Line\")\n",
    "plt.xlabel('Point Load at Centre (kN)') \n",
    "plt.ylabel('$\\epsilon_{zz}$ at the centre (%)')\n",
    "plt.ylim(-0.40,0.1)\n",
    "plt.legend()\n",
    "plt.savefig('M2_c_strain.png', dpi=300, bbox_inches = \"tight\")\n"
   ]
  },
  {
   "cell_type": "code",
   "execution_count": null,
   "metadata": {},
   "outputs": [],
   "source": [
    "#energy before and after\n",
    "#setting z of the middle layer to zero and deriving support criterias:\n",
    "min_x = M2.nodes[1].x\n",
    "min_y = M2.nodes[1].y\n",
    "max_x = M2.nodes[1].x\n",
    "max_y = M2.nodes[1].y\n",
    "\n",
    "for i in M2.nodes:\n",
    "    i.z = round(i.z, 12) - lz\n",
    "    i.x = round(i.x, 12)\n",
    "    i.y = round(i.y, 12)\n",
    "    min_x = min(i.x, min_x)\n",
    "    min_y = min(i.y, min_y)\n",
    "    max_x = max(i.x, max_x)\n",
    "    max_y = max(i.y, max_y)\n",
    "\n",
    "#Adding support\n",
    "for i in M2.nodes:\n",
    "    if(i.z == 0):\n",
    "        if(i.x == min_x or i.x == max_x or i.y == min_y or i.y == max_y):\n",
    "            i.s_x = 1\n",
    "            i.s_y = 1\n",
    "            i.s_z = 1\n",
    "            M2.support_x.append(i.n)\n",
    "            M2.support_y.append(i.n)\n",
    "            M2.support_z.append(i.n)\n",
    "\n",
    "f0 = Point_load_at_centre(0.5, M2)"
   ]
  },
  {
   "cell_type": "code",
   "execution_count": null,
   "metadata": {},
   "outputs": [],
   "source": [
    "energies_M2 = np.load(path + '/Model 1/c/energies_M2.npy')\n",
    "energies_M2_AE = np.load(path + '/Model 1/c/energies_M2_AE.npy')\n",
    "E_before = []\n",
    "for i in range(1, 22):\n",
    "    print(i)\n",
    "    f = (i - 1)*f0\n",
    "    E_before.append(Energy(coord0, f, M2))\n",
    "    \n",
    "for i in range(1, len(energies_M2)):\n",
    "    energies_M2[i] = energies_M2[i] - E_before[i]\n",
    "    energies_M2_AE[i] = energies_M2_AE[i] - E_before[i]"
   ]
  },
  {
   "cell_type": "code",
   "execution_count": null,
   "metadata": {},
   "outputs": [],
   "source": []
  },
  {
   "cell_type": "code",
   "execution_count": null,
   "metadata": {},
   "outputs": [],
   "source": [
    "from matplotlib import rc\n",
    "#plt.scatter(forces_M2_AE_5x5, E_before, c='r',s=10, label = \"$\\epsilon_{zz}$ for constant stiffness case\")\n",
    "plt.scatter(forces_M2_AE, energies_M2, marker = 'v', c='b',s=10, label = \"$\\epsilon_{zz}$ for constant Stiffness case\")\n",
    "plt.scatter(forces_M2_AE, energies_M2_AE, marker = 'v', c='r',s=10, label = \"$\\epsilon_{zz}$ for constant Axial Rigidity case\")\n",
    "#plt.plot(forces_M2_5x5, 0*np.ones(len(forces_M2_5x5)), label = \"Energy in undef\")\n",
    "plt.xlabel('Point Load at Centre (kN)') \n",
    "plt.ylabel('Change in energy at centre in kJ')\n",
    "#plt.ylim(-0.0050+1e2,0.001+1e2)\n",
    "plt.legend()\n",
    "plt.savefig('M2_c_energy.png', dpi=300, bbox_inches = \"tight\")\n"
   ]
  },
  {
   "cell_type": "code",
   "execution_count": null,
   "metadata": {},
   "outputs": [],
   "source": []
  },
  {
   "cell_type": "code",
   "execution_count": null,
   "metadata": {},
   "outputs": [],
   "source": []
  },
  {
   "cell_type": "code",
   "execution_count": null,
   "metadata": {},
   "outputs": [],
   "source": []
  },
  {
   "cell_type": "code",
   "execution_count": null,
   "metadata": {},
   "outputs": [],
   "source": [
    "\n"
   ]
  },
  {
   "cell_type": "code",
   "execution_count": null,
   "metadata": {},
   "outputs": [],
   "source": []
  },
  {
   "cell_type": "code",
   "execution_count": null,
   "metadata": {},
   "outputs": [],
   "source": []
  },
  {
   "cell_type": "code",
   "execution_count": null,
   "metadata": {},
   "outputs": [],
   "source": []
  },
  {
   "cell_type": "code",
   "execution_count": null,
   "metadata": {},
   "outputs": [],
   "source": []
  },
  {
   "cell_type": "code",
   "execution_count": null,
   "metadata": {},
   "outputs": [],
   "source": []
  },
  {
   "cell_type": "code",
   "execution_count": null,
   "metadata": {},
   "outputs": [],
   "source": []
  },
  {
   "cell_type": "code",
   "execution_count": null,
   "metadata": {},
   "outputs": [],
   "source": []
  },
  {
   "cell_type": "code",
   "execution_count": null,
   "metadata": {},
   "outputs": [],
   "source": [
    "np.load = np_load_old"
   ]
  }
 ],
 "metadata": {
  "kernelspec": {
   "display_name": "Python 3",
   "language": "python",
   "name": "python3"
  },
  "language_info": {
   "codemirror_mode": {
    "name": "ipython",
    "version": 3
   },
   "file_extension": ".py",
   "mimetype": "text/x-python",
   "name": "python",
   "nbconvert_exporter": "python",
   "pygments_lexer": "ipython3",
   "version": "3.7.3"
  }
 },
 "nbformat": 4,
 "nbformat_minor": 2
}
