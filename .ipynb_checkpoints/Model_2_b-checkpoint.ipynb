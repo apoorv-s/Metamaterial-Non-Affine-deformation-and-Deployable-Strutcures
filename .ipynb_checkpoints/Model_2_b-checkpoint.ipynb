{
 "cells": [
  {
   "cell_type": "code",
   "execution_count": 0,
   "metadata": {
    "colab": {},
    "colab_type": "code",
    "id": "WgMIJAWCl1D8"
   },
   "outputs": [],
   "source": [
    "run Lattice_functions.ipynb"
   ]
  },
  {
   "cell_type": "markdown",
   "metadata": {
    "colab_type": "text",
    "id": "i2L56C51hJ8F"
   },
   "source": [
    "# Model 2: Constant Stiffness Model : Force variation"
   ]
  },
  {
   "cell_type": "code",
   "execution_count": 0,
   "metadata": {
    "colab": {},
    "colab_type": "code",
    "id": "GGBlv3Vnhxsg"
   },
   "outputs": [],
   "source": [
    "#Generating the lattice\n",
    "nx = 10 + 1 # 1 added to make the total length = 20*0.01\n",
    "ny = 10 + 1\n",
    "lx = 0.1\n",
    "ly = 0.1\n",
    "k_inPlane = 3e4\n",
    "nz = 3\n",
    "lz = 0.01\n",
    "k_vertical = 8e6\n",
    "M2 = Rect_Lattice(nx, ny, lx, ly, k_inPlane, [], [], [])\n",
    "M2 = add_braces_to_rectangular_lattice(M2, k_inPlane, '|')\n",
    "M2 = add_layers_in_z_direction(M2, nz, lz, k_vertical, 0, [])\n",
    "\n",
    "#setting z of the middle layer to zero and deriving support conditions:\n",
    "min_x = M2.nodes[1].x\n",
    "min_y = M2.nodes[1].y\n",
    "max_x = M2.nodes[1].x\n",
    "max_y = M2.nodes[1].y\n",
    "\n",
    "for i in M2.nodes:\n",
    "    i.z = round(i.z, 12) - lz\n",
    "    i.x = round(i.x, 12)\n",
    "    i.y = round(i.y, 12)\n",
    "    min_x = min(i.x, min_x)\n",
    "    min_y = min(i.y, min_y)\n",
    "    max_x = max(i.x, max_x)\n",
    "    max_y = max(i.y, max_y)\n",
    "\n",
    "#Adding support\n",
    "for i in M2.nodes:\n",
    "    if(i.z == 0):\n",
    "        if(i.x == min_x or i.x == max_x or i.y == min_y or i.y == max_y):\n",
    "            i.s_x = 1\n",
    "            i.s_y = 1\n",
    "            i.s_z = 1\n",
    "            M2.support_x.append(i.n)\n",
    "            M2.support_y.append(i.n)\n",
    "            M2.support_z.append(i.n)\n",
    "\n",
    "\n",
    "mid_node = int(nx*ny + (nx*ny + 1)/2) #Only for odd nx and ny"
   ]
  },
  {
   "cell_type": "code",
   "execution_count": 0,
   "metadata": {
    "colab": {},
    "colab_type": "code",
    "id": "h8g81bsYlPuu"
   },
   "outputs": [],
   "source": [
    "#Optimization preparation:\n",
    "x0 = []\n",
    "y0 = []\n",
    "z0 = []\n",
    "for i in M2.nodes:\n",
    "    x0.insert((i.n - 1), i.x)\n",
    "    y0.insert((i.n - 1), i.y)\n",
    "    z0.insert((i.n - 1), i.z)\n",
    "    \n",
    "coord0 = x0 + y0 + z0\n",
    "nNodes = int(len(coord0)/3)\n",
    "\n",
    "#bounds:\n",
    "lb = -np.inf*np.ones(len(coord0))\n",
    "ub = np.inf*np.ones(len(coord0))\n",
    "\n",
    "for i in M2.support_x:\n",
    "    lb[i - 1] = x0[i - 1]\n",
    "    ub[i - 1] = x0[i - 1]\n",
    "\n",
    "for i in M2.support_y:\n",
    "    lb[nNodes + i - 1] = y0[i - 1]\n",
    "    ub[nNodes + i - 1] = y0[i - 1]\n",
    "    \n",
    "for i in M2.support_z:\n",
    "    lb[(2*nNodes) + i - 1] = z0[i - 1]\n",
    "    ub[(2*nNodes) + i - 1] = z0[i - 1]\n",
    "\n",
    "\n",
    "bounds = Bounds(lb, ub)\n",
    "\n",
    "#Defining half unit force\n",
    "f0 = Point_load_at_centre(0.5, M2)\n",
    "\n",
    "\n",
    "#Variable for saving the data\n",
    "data_M2 = [] #has the coordinates of the energy minimized lattices\n",
    "forces_M2 = [] #forces applied at the centre\n",
    "energies_M2 = [] #energies of the optimized lattices\n",
    "z_centre_M2 = [] #deflection at centre\n",
    "results_M2 = [] #Outputs from scipy.optimize"
   ]
  },
  {
   "cell_type": "code",
   "execution_count": 0,
   "metadata": {
    "colab": {
     "base_uri": "https://localhost:8080/",
     "height": 403
    },
    "colab_type": "code",
    "id": "mlqtfpIolPjx",
    "outputId": "adddb24f-bcac-47b9-910a-732b6e6f6060"
   },
   "outputs": [
    {
     "name": "stdout",
     "output_type": "stream",
     "text": [
      "1\n",
      "2\n",
      "3\n",
      "4\n",
      "5\n",
      "6\n",
      "7\n",
      "8\n",
      "9\n",
      "10\n",
      "11\n",
      "12\n",
      "13\n",
      "14\n",
      "15\n",
      "16\n",
      "17\n",
      "18\n",
      "19\n",
      "20\n",
      "21\n"
     ]
    }
   ],
   "source": [
    "for i in range(1, 22):\n",
    "  print(i)\n",
    "  f = (i - 1)*f0\n",
    "  result = minimize(Energy, coord0, args = (f, M2), method='L-BFGS-B', jac = Jacobian, options={'iprint': 1}, bounds=bounds)\n",
    "  res = result.x\n",
    "  res.tolist()\n",
    "  data_M2.append(res)\n",
    "  forces_M2.append(max(f))\n",
    "  energies_M2.append(result.fun)\n",
    "  z_centre_M2.append(res[2*nNodes + mid_node - 1])\n",
    "  results_M2.append(result)"
   ]
  },
  {
   "cell_type": "code",
   "execution_count": 0,
   "metadata": {
    "colab": {},
    "colab_type": "code",
    "id": "tNTfT295lPXv"
   },
   "outputs": [],
   "source": [
    "from numpy import save\n",
    "save('data_M2_11x11.npy', data_M2)\n",
    "save('forces_M2_11x11.npy', forces_M2)\n",
    "save('energies_M2_11x11.npy', energies_M2)\n",
    "save('z_centre_M2_11x11.npy', z_centre_M2)\n",
    "save('results_M2_11x11.npy', results_M2)\n",
    "save('M2_11x11.npy', M2)"
   ]
  },
  {
   "cell_type": "markdown",
   "metadata": {
    "colab_type": "text",
    "id": "o5I19IxQhP6F"
   },
   "source": [
    "# Model 2: Constant AE Model : Force variation"
   ]
  },
  {
   "cell_type": "code",
   "execution_count": 0,
   "metadata": {
    "colab": {},
    "colab_type": "code",
    "id": "LoXJIiSChy1v"
   },
   "outputs": [],
   "source": [
    "#Generating the lattice\n",
    "nx = 10 + 1 # 1 added to make the total length = 20*0.01\n",
    "ny = 10 + 1\n",
    "lx = 0.1\n",
    "ly = 0.1\n",
    "k_inPlane = 10\n",
    "nz = 3\n",
    "lz = 0.01\n",
    "k_vertical = 10\n",
    "\n",
    "M2_AE = Rect_Lattice(nx, ny, lx, ly, k_inPlane, [], [], [])\n",
    "M2_AE = add_braces_to_rectangular_lattice(M2_AE, k_inPlane, '|')\n",
    "M2_AE = add_layers_in_z_direction(M2_AE, nz, lz, k_vertical, 0, [])\n",
    "\n",
    "# modifying stiffness wrt AE = constant\n",
    "AE = 1.5e3\n",
    "for i in M2_AE.springs:\n",
    "    i.k = AE/(i.l0)\n",
    "\n",
    "for i in M2_AE.springs:\n",
    "  if (abs(M2_AE.nodes[i.i - 1].z - M2_AE.nodes[i.j - 1].z) != 0):\n",
    "    i.k = i.k*1e3\n",
    "\n",
    "\n",
    "#setting z of the middle layer to zero and deriving support criterias:\n",
    "min_x = M2_AE.nodes[1].x\n",
    "min_y = M2_AE.nodes[1].y\n",
    "max_x = M2_AE.nodes[1].x\n",
    "max_y = M2_AE.nodes[1].y\n",
    "\n",
    "for i in M2_AE.nodes:\n",
    "    i.z = round(i.z, 12) - lz\n",
    "    i.x = round(i.x, 12)\n",
    "    i.y = round(i.y, 12)\n",
    "    min_x = min(i.x, min_x)\n",
    "    min_y = min(i.y, min_y)\n",
    "    max_x = max(i.x, max_x)\n",
    "    max_y = max(i.y, max_y)\n",
    "\n",
    "#Adding support\n",
    "for i in M2_AE.nodes:\n",
    "    if(i.z == 0):\n",
    "        if(i.x == min_x or i.x == max_x or i.y == min_y or i.y == max_y):\n",
    "            i.s_x = 1\n",
    "            i.s_y = 1\n",
    "            i.s_z = 1\n",
    "            M2_AE.support_x.append(i.n)\n",
    "            M2_AE.support_y.append(i.n)\n",
    "            M2_AE.support_z.append(i.n)\n",
    "\n",
    "\n",
    "mid_node = int(nx*ny + (nx*ny + 1)/2) #Only for odd nx and ny"
   ]
  },
  {
   "cell_type": "code",
   "execution_count": 0,
   "metadata": {
    "colab": {},
    "colab_type": "code",
    "id": "AY8XxuDfk5dl"
   },
   "outputs": [],
   "source": [
    "#Optimization preparation:\n",
    "x0 = []\n",
    "y0 = []\n",
    "z0 = []\n",
    "for i in M2_AE.nodes:\n",
    "    x0.insert((i.n - 1), i.x)\n",
    "    y0.insert((i.n - 1), i.y)\n",
    "    z0.insert((i.n - 1), i.z)\n",
    "    \n",
    "coord0 = x0 + y0 + z0\n",
    "nNodes = int(len(coord0)/3)\n",
    "\n",
    "#bounds:\n",
    "lb = -np.inf*np.ones(len(coord0))\n",
    "ub = np.inf*np.ones(len(coord0))\n",
    "\n",
    "for i in M2_AE.support_x:\n",
    "    lb[i - 1] = x0[i - 1]\n",
    "    ub[i - 1] = x0[i - 1]\n",
    "\n",
    "for i in M2_AE.support_y:\n",
    "    lb[nNodes + i - 1] = y0[i - 1]\n",
    "    ub[nNodes + i - 1] = y0[i - 1]\n",
    "    \n",
    "for i in M2_AE.support_z:\n",
    "    lb[(2*nNodes) + i - 1] = z0[i - 1]\n",
    "    ub[(2*nNodes) + i - 1] = z0[i - 1]\n",
    "\n",
    "\n",
    "bounds = Bounds(lb, ub)\n",
    "\n",
    "#Defining half unit forces\n",
    "f0 = Point_load_at_centre(0.5, M2_AE)\n",
    "\n",
    "#Variable for saving the data\n",
    "data_M2_AE = [] #has the coordinates of the energy minimized lattices\n",
    "forces_M2_AE = [] #forces applied at the centre\n",
    "energies_M2_AE = [] #energies of the optimized lattices\n",
    "z_centre_M2_AE = [] #deflection at centre\n",
    "results_M2_AE = [] #Outputs from scipy.optimize"
   ]
  },
  {
   "cell_type": "code",
   "execution_count": 0,
   "metadata": {
    "colab": {
     "base_uri": "https://localhost:8080/",
     "height": 403
    },
    "colab_type": "code",
    "id": "CrxG_sdyk4v3",
    "outputId": "f3a05eae-4045-4ef1-d31c-1efe3d9d0572"
   },
   "outputs": [
    {
     "name": "stdout",
     "output_type": "stream",
     "text": [
      "1\n",
      "2\n",
      "3\n",
      "4\n",
      "5\n",
      "6\n",
      "7\n",
      "8\n",
      "9\n",
      "10\n",
      "11\n",
      "12\n",
      "13\n",
      "14\n",
      "15\n",
      "16\n",
      "17\n",
      "18\n",
      "19\n",
      "20\n",
      "21\n"
     ]
    }
   ],
   "source": [
    "for i in range(1, 22):\n",
    "    print(i)\n",
    "    f = (i - 1)*f0\n",
    "    result = minimize(Energy, coord0, args = (f, M2_AE), method='L-BFGS-B', jac = Jacobian, options={'iprint': 1}, bounds=bounds)\n",
    "    res = result.x\n",
    "    res.tolist()\n",
    "    data_M2_AE.append(res)\n",
    "    forces_M2_AE.append(max(f))\n",
    "    energies_M2_AE.append(result.fun)\n",
    "    z_centre_M2_AE.append(res[2*nNodes + mid_node - 1])\n",
    "    results_M2_AE.append(result)"
   ]
  },
  {
   "cell_type": "code",
   "execution_count": 0,
   "metadata": {
    "colab": {},
    "colab_type": "code",
    "id": "K_2c-VM0k4iG"
   },
   "outputs": [],
   "source": [
    "from numpy import save\n",
    "save('data_M2_AE_11x11.npy', data_M2_AE)\n",
    "save('forces_M2_AE_11x11.npy', forces_M2_AE)\n",
    "save('energies_M2_AE_11x11.npy', energies_M2_AE)\n",
    "save('z_centre_M2_AE_11x11.npy', z_centre_M2_AE)\n",
    "save('results_M2_AE_11x11.npy', results_M2_AE)\n",
    "save('M2_AE_11x11.npy', M2_AE)"
   ]
  },
  {
   "cell_type": "markdown",
   "metadata": {
    "colab_type": "text",
    "id": "99fD30BHhV1I"
   },
   "source": [
    "# Model 2: Constant Stiffness Model : Thickness variation"
   ]
  },
  {
   "cell_type": "code",
   "execution_count": 0,
   "metadata": {
    "colab": {},
    "colab_type": "code",
    "id": "tKn_dXs8h1vN"
   },
   "outputs": [],
   "source": [
    "#Variable for saving the data\n",
    "data_M2_t = [] #has the coordinates of the energy minimized lattices\n",
    "thickness_M2_t = [] #Thickness of the model\n",
    "energies_M2_t = [] #energies of the optimized lattices\n",
    "z_centre_M2_t = [] #deflection at centre\n",
    "results_M2_t = [] #Outputs from scipy.optimize\n",
    "lat_M2_t = [] #Lattices with varying thickness"
   ]
  },
  {
   "cell_type": "code",
   "execution_count": 0,
   "metadata": {
    "colab": {
     "base_uri": "https://localhost:8080/",
     "height": 201
    },
    "colab_type": "code",
    "id": "mseIzRoImSPp",
    "outputId": "187005fc-7553-491d-a13d-962d91576d9a"
   },
   "outputs": [
    {
     "name": "stdout",
     "output_type": "stream",
     "text": [
      "1\n",
      "2\n",
      "3\n",
      "4\n",
      "5\n",
      "6\n",
      "7\n",
      "8\n",
      "9\n",
      "10\n"
     ]
    }
   ],
   "source": [
    "#Model 2, thickness varying condition\n",
    "for i in range(1, 11):\n",
    "  print(i)\n",
    "  thickness = 0.005*i\n",
    "\n",
    "  #Generating the lattice\n",
    "  nx = 10 + 1 # 1 added to make the total length = 20*0.01\n",
    "  ny = 10 + 1\n",
    "  lx = 0.1\n",
    "  ly = 0.1\n",
    "  k_inPlane = 3e4\n",
    "  nz = 3\n",
    "  lz = thickness\n",
    "  k_vertical = 8e6\n",
    "\n",
    "  M2_t = Rect_Lattice(nx, ny, lx, ly, k_inPlane, [], [], [])\n",
    "  M2_t = add_braces_to_rectangular_lattice(M2_t, k_inPlane, '|')\n",
    "  M2_t = add_layers_in_z_direction(M2_t, nz, lz, k_vertical, 0, [])\n",
    "\n",
    "  #setting z of the middle layer to zero:\n",
    "  min_x = M2_t.nodes[1].x\n",
    "  min_y = M2_t.nodes[1].y\n",
    "  max_x = M2_t.nodes[1].x\n",
    "  max_y = M2_t.nodes[1].y\n",
    "\n",
    "  for i in M2_t.nodes:\n",
    "    i.z = round(i.z, 12) - lz\n",
    "    i.x = round(i.x, 12)\n",
    "    i.y = round(i.y, 12)\n",
    "    min_x = min(i.x, min_x)\n",
    "    min_y = min(i.y, min_y)\n",
    "    max_x = max(i.x, max_x)\n",
    "    max_y = max(i.y, max_y)\n",
    "\n",
    "  #Adding support\n",
    "  for i in M2_t.nodes:\n",
    "    if(i.z == 0):\n",
    "      if(i.x == min_x or i.x == max_x or i.y == min_y or i.y == max_y):\n",
    "        i.s_x = 1\n",
    "        i.s_y = 1\n",
    "        i.s_z = 1\n",
    "        M2_t.support_x.append(i.n)\n",
    "        M2_t.support_y.append(i.n)\n",
    "        M2_t.support_z.append(i.n)\n",
    "\n",
    "\n",
    "  mid_node = int(nx*ny + (nx*ny + 1)/2) #Only for odd nx and ny\n",
    "\n",
    "\n",
    "  #Optimization preparation:\n",
    "  x0 = []\n",
    "  y0 = []\n",
    "  z0 = []\n",
    "  for i in M2_t.nodes:\n",
    "    x0.insert((i.n - 1), i.x)\n",
    "    y0.insert((i.n - 1), i.y)\n",
    "    z0.insert((i.n - 1), i.z)\n",
    "    \n",
    "  coord0 = x0 + y0 + z0\n",
    "  nNodes = int(len(coord0)/3)\n",
    "\n",
    "  #bounds:\n",
    "  lb = -np.inf*np.ones(len(coord0))\n",
    "  ub = np.inf*np.ones(len(coord0))\n",
    "\n",
    "  for i in M2_t.support_x:\n",
    "    lb[i - 1] = x0[i - 1]\n",
    "    ub[i - 1] = x0[i - 1]\n",
    "\n",
    "  for i in M2_t.support_y:\n",
    "    lb[nNodes + i - 1] = y0[i - 1]\n",
    "    ub[nNodes + i - 1] = y0[i - 1]\n",
    "    \n",
    "  for i in M2_t.support_z:\n",
    "    lb[(2*nNodes) + i - 1] = z0[i - 1]\n",
    "    ub[(2*nNodes) + i - 1] = z0[i - 1]\n",
    "\n",
    "\n",
    "  bounds = Bounds(lb, ub)\n",
    "\n",
    "  #Defining 2kN forces\n",
    "  f = Point_load_at_centre(2, M2_t)\n",
    "\n",
    "  result = minimize(Energy, coord0, args = (f, M2_t), method='L-BFGS-B', jac = Jacobian, options={'iprint': 1}, bounds=bounds)\n",
    "  res = result.x\n",
    "  res.tolist()\n",
    "  data_M2_t.append(res)\n",
    "  thickness_M2_t.append(thickness)\n",
    "  energies_M2_t.append(result.fun)\n",
    "  z_centre_M2_t.append(res[2*nNodes + mid_node - 1])\n",
    "  results_M2_t.append(result)\n",
    "  lat_M2_t.append(M2_t)"
   ]
  },
  {
   "cell_type": "code",
   "execution_count": 0,
   "metadata": {
    "colab": {},
    "colab_type": "code",
    "id": "WX-QCPaWmSCm"
   },
   "outputs": [],
   "source": [
    "from numpy import save\n",
    "save('data_M2_t_11x11.npy', data_M2_t)\n",
    "save('thickness_M2_t_11x11.npy', thickness_M2_t)\n",
    "save('energies_M2_t_11x11.npy', energies_M2_t)\n",
    "save('z_centre_M2_t_11x11.npy', z_centre_M2_t)\n",
    "save('results_M2_t_11x11.npy', results_M2_t)\n",
    "save('lat_M2_t_11x11.npy', lat_M2_t)"
   ]
  },
  {
   "cell_type": "code",
   "execution_count": 0,
   "metadata": {
    "colab": {},
    "colab_type": "code",
    "id": "IAA83JUVDPkx"
   },
   "outputs": [],
   "source": []
  }
 ],
 "metadata": {
  "accelerator": "TPU",
  "colab": {
   "collapsed_sections": [
    "o5I19IxQhP6F",
    "99fD30BHhV1I"
   ],
   "name": "Model_2_b.ipynb",
   "provenance": []
  },
  "kernelspec": {
   "display_name": "Python 3",
   "language": "python",
   "name": "python3"
  },
  "language_info": {
   "codemirror_mode": {
    "name": "ipython",
    "version": 3
   },
   "file_extension": ".py",
   "mimetype": "text/x-python",
   "name": "python",
   "nbconvert_exporter": "python",
   "pygments_lexer": "ipython3",
   "version": "3.7.3"
  }
 },
 "nbformat": 4,
 "nbformat_minor": 1
}
