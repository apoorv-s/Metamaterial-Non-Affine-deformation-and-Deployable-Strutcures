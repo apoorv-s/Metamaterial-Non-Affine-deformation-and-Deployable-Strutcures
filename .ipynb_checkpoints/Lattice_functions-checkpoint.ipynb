{
 "cells": [
  {
   "cell_type": "code",
   "execution_count": 24,
   "metadata": {},
   "outputs": [],
   "source": [
    "run Objects_and_functions.ipynb"
   ]
  },
  {
   "cell_type": "code",
   "execution_count": 25,
   "metadata": {},
   "outputs": [],
   "source": [
    "# rectangular Lattice Generator\n",
    "def Rect_Lattice(nx, ny, lx, ly, support_x, support_y, support_z):\n",
    "    # Rectangular lattice with nx, and ny nodes in x-direction and y-direction respectively\n",
    "    # lx and ly are dimensions of unit cell of lattice in x- and y-direction respecctively\n",
    "    # Support vector indicate the vectors supported in x-, y- and z-direction\n",
    "    \n",
    "    nNodes = nx*ny;\n",
    "    nSprings = (2*nx*ny) - nx - ny\n",
    "    \n",
    "    N_vec = []\n",
    "    S_vec = []\n",
    "    \n",
    "    x = 0\n",
    "    y = 0\n",
    "    z = 0\n",
    "    \n",
    "    for i in range(1, (nx + 1)):\n",
    "        for j in range(1, (ny + 1)):\n",
    "            node_temp = Node()\n",
    "            node_temp.n = (nx*(i-1)) + j\n",
    "            node_temp.x = x\n",
    "            node_temp.y = y\n",
    "            node_temp.z = z\n",
    "            y = y + ly\n",
    "            N_vec.insert(((nx*(i-1)) + j), node_temp)\n",
    "                    \n",
    "        y = 0\n",
    "        x = x + lx\n",
    "        \n",
    "    for i in support_x:\n",
    "        N_vec[i - 1].s_x = 1\n",
    "    for i in support_y:\n",
    "        N_vec[i - 1].s_y = 1\n",
    "    for i in support_z:\n",
    "        N_vec[i - 1].s_z = 1\n",
    "        \n",
    "    k = 10\n",
    "    temp_nSpring = 1\n",
    "    l0x = lx\n",
    "    l0y = ly\n",
    "    temp_nNode = 0\n",
    "    \n",
    "    for i in range(1, (nx + 1)):\n",
    "        for j in range(1, (ny + 1)):\n",
    "            temp_nNode = (nx*(i-1)) + j\n",
    "            \n",
    "            if (j < ny):\n",
    "                spring_temp = Spring()\n",
    "                spring_temp.n = temp_nSpring\n",
    "                spring_temp.k = k\n",
    "                spring_temp.l0 = l0y\n",
    "                spring_temp.i = temp_nNode\n",
    "                spring_temp.j = temp_nNode + 1\n",
    "                S_vec.insert(temp_nSpring, spring_temp)\n",
    "                N_vec[temp_nNode - 1].sp_con.append(temp_nSpring)\n",
    "                N_vec[temp_nNode].sp_con.append(temp_nSpring)\n",
    "                temp_nSpring = temp_nSpring + 1\n",
    "                \n",
    "            if (i < nx):\n",
    "                spring_temp = Spring()\n",
    "                spring_temp.n = temp_nSpring\n",
    "                spring_temp.k = k\n",
    "                spring_temp.l0 = l0x\n",
    "                spring_temp.i = temp_nNode\n",
    "                spring_temp.j = temp_nNode + ny\n",
    "                S_vec.insert(temp_nSpring, spring_temp)\n",
    "                N_vec[temp_nNode - 1].sp_con.append(temp_nSpring)\n",
    "                N_vec[temp_nNode + ny - 1].sp_con.append(temp_nSpring)\n",
    "                temp_nSpring = temp_nSpring + 1\n",
    "    \n",
    "    if (temp_nSpring - 1) != nSprings:\n",
    "        print(\"Number of springs do not match!!\")\n",
    "        \n",
    "    return N_vec, S_vec"
   ]
  },
  {
   "cell_type": "code",
   "execution_count": null,
   "metadata": {},
   "outputs": [],
   "source": []
  },
  {
   "cell_type": "code",
   "execution_count": null,
   "metadata": {},
   "outputs": [],
   "source": []
  },
  {
   "cell_type": "code",
   "execution_count": null,
   "metadata": {},
   "outputs": [],
   "source": []
  },
  {
   "cell_type": "code",
   "execution_count": null,
   "metadata": {},
   "outputs": [],
   "source": []
  }
 ],
 "metadata": {
  "kernelspec": {
   "display_name": "Python 3",
   "language": "python",
   "name": "python3"
  },
  "language_info": {
   "codemirror_mode": {
    "name": "ipython",
    "version": 3
   },
   "file_extension": ".py",
   "mimetype": "text/x-python",
   "name": "python",
   "nbconvert_exporter": "python",
   "pygments_lexer": "ipython3",
   "version": "3.7.3"
  }
 },
 "nbformat": 4,
 "nbformat_minor": 2
}
