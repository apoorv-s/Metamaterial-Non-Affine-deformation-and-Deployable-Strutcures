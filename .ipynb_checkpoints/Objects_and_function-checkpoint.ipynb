{
 "cells": [
  {
   "cell_type": "code",
   "execution_count": 1,
   "metadata": {},
   "outputs": [],
   "source": [
    "# Object 1 : Springs\n",
    "class Spring:\n",
    "    # All associated variables are instance variables\n",
    "    def __init__(self, n, k, l0, i, j):\n",
    "        self.n = n\n",
    "        self.k = k\n",
    "        self.l0 = l0\n",
    "        self.i = i\n",
    "        self.j = j"
   ]
  },
  {
   "cell_type": "code",
   "execution_count": null,
   "metadata": {},
   "outputs": [],
   "source": [
    "# Object 2 : Nodes\n",
    "class Node:\n",
    "    # All associated variables are instance variables (no mass, orientation etc associated)\n",
    "    def __init__(self, n, x, y, z, sp_con, s_x, s_y, s_z)\n",
    "    "
   ]
  }
 ],
 "metadata": {
  "kernelspec": {
   "display_name": "Python 3",
   "language": "python",
   "name": "python3"
  },
  "language_info": {
   "codemirror_mode": {
    "name": "ipython",
    "version": 3
   },
   "file_extension": ".py",
   "mimetype": "text/x-python",
   "name": "python",
   "nbconvert_exporter": "python",
   "pygments_lexer": "ipython3",
   "version": "3.7.3"
  }
 },
 "nbformat": 4,
 "nbformat_minor": 2
}
