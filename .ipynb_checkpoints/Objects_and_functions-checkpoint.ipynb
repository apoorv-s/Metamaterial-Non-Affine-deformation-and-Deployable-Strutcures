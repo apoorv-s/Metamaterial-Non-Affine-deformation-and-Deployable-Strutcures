{
 "cells": [
  {
   "cell_type": "code",
   "execution_count": 2,
   "metadata": {},
   "outputs": [],
   "source": [
    "import matplotlib.pyplot as plt\n",
    "from mpl_toolkits.mplot3d import Axes3D\n",
    "import numpy as np\n",
    "from scipy.optimize import minimize\n",
    "import math\n",
    "from scipy.optimize import Bounds"
   ]
  },
  {
   "cell_type": "code",
   "execution_count": 2,
   "metadata": {},
   "outputs": [],
   "source": [
    "# Object 1 : Springs\n",
    "class Spring:\n",
    "    # All associated variables are instance variables\n",
    "    # Multiple constructors not allowed\n",
    "    Type = \"Spring\"\n",
    "        \n",
    "    #def __init__(self, n, k, l0, i, j):\n",
    "        #self.n = n\n",
    "        #self.k = k\n",
    "        #self.l0 = l0\n",
    "        #self.i = i\n",
    "        #self.j = j\n",
    "        \n",
    "    def __init__(self):\n",
    "        self.n = 0\n",
    "        self.k = 0\n",
    "        self.l0 = 0\n",
    "        self.i = 0\n",
    "        self.j = 0\n",
    "        \n",
    "    def description(self):\n",
    "        print(\"Spring number = {}\".format(self.n))\n",
    "        print(\"Stiffness = {}\".format(self.k))\n",
    "        print(\"Natural length = {}\".format(self.l0))\n",
    "        print(\"Starting node = {}\".format(self.i))\n",
    "        print(\"Starting node = {}\".format(self.j))"
   ]
  },
  {
   "cell_type": "code",
   "execution_count": 3,
   "metadata": {},
   "outputs": [],
   "source": [
    "# Object 2 : Nodes\n",
    "class Node:\n",
    "    Type = \"Node\"\n",
    "    # All associated variables are instance variables (no mass, orientation etc associated)\n",
    "    # Multiple constructors not allowed\n",
    "    #def __init__(self, n, x, y, z, sp_con, s_x, s_y, s_z):\n",
    "        #self.n = n\n",
    "        #self.x = x\n",
    "        #self.y = y\n",
    "        #self.z = z\n",
    "        #self.sp_con = sp_con\n",
    "        #self.s_x = s_x\n",
    "        #self.s_y = s_y\n",
    "        #self.s_z = s_z\n",
    "        \n",
    "    def __init__(self):\n",
    "        self.n = 0\n",
    "        self.x = 0\n",
    "        self.y = 0\n",
    "        self.z = 0\n",
    "        self.sp_con = []\n",
    "        self.s_x = 0\n",
    "        self.s_y = 0\n",
    "        self.s_z = 0\n",
    "        \n",
    "    def description(self):\n",
    "        print(\"Node number = {}\".format(self.n))\n",
    "        print(\"x coordinate = {}\".format(self.x))\n",
    "        print(\"y coordinate = {}\".format(self.y))\n",
    "        print(\"z coordinate = {}\".format(self.z))\n",
    "        print(\"Spring connected = {}\".format(self.sp_con))\n",
    "        print(\"Support in x-direction = {}\".format(bool(self.s_x)))\n",
    "        print(\"Support in y-direction = {}\".format(bool(self.s_y)))\n",
    "        print(\"Support in z-direction = {}\".format(bool(self.s_z)))\n",
    "    "
   ]
  },
  {
   "cell_type": "code",
   "execution_count": 4,
   "metadata": {},
   "outputs": [],
   "source": [
    "class Lattice:\n",
    "    Type = \"Lattice\"\n",
    "    def __init__(self, nx, ny, node_vec, spring_vec, support_x, support_y, support_z):\n",
    "        self.nx = nx\n",
    "        self.ny = ny\n",
    "        self.nodes = node_vec\n",
    "        self.springs = spring_vec\n",
    "        self.support_x = support_x\n",
    "        self.support_y = support_y\n",
    "        self.support_z = support_z\n",
    "        \n",
    "    def description(self):\n",
    "        print(\"to be defined\")\n",
    "        \n",
    "        \n",
    "        "
   ]
  },
  {
   "cell_type": "code",
   "execution_count": null,
   "metadata": {},
   "outputs": [],
   "source": []
  },
  {
   "cell_type": "code",
   "execution_count": 10,
   "metadata": {},
   "outputs": [],
   "source": [
    "def Length(x1, y1, z1, x2, y2, z2):\n",
    "    l = math.sqrt(((x2 - x1)**2) + ((y2 - y1)**2) + ((z2 - z1)**2))\n",
    "    return l"
   ]
  },
  {
   "cell_type": "code",
   "execution_count": null,
   "metadata": {},
   "outputs": [],
   "source": []
  },
  {
   "cell_type": "code",
   "execution_count": null,
   "metadata": {},
   "outputs": [],
   "source": []
  },
  {
   "cell_type": "code",
   "execution_count": null,
   "metadata": {},
   "outputs": [],
   "source": []
  },
  {
   "cell_type": "code",
   "execution_count": null,
   "metadata": {},
   "outputs": [],
   "source": []
  },
  {
   "cell_type": "code",
   "execution_count": null,
   "metadata": {},
   "outputs": [],
   "source": []
  }
 ],
 "metadata": {
  "kernelspec": {
   "display_name": "Python 3",
   "language": "python",
   "name": "python3"
  },
  "language_info": {
   "codemirror_mode": {
    "name": "ipython",
    "version": 3
   },
   "file_extension": ".py",
   "mimetype": "text/x-python",
   "name": "python",
   "nbconvert_exporter": "python",
   "pygments_lexer": "ipython3",
   "version": "3.7.3"
  }
 },
 "nbformat": 4,
 "nbformat_minor": 2
}
