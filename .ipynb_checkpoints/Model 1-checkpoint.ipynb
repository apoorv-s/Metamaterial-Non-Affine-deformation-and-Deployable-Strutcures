{
 "cells": [
  {
   "cell_type": "code",
   "execution_count": 1,
   "metadata": {},
   "outputs": [],
   "source": [
    "run Lattice_functions.ipynb"
   ]
  },
  {
   "cell_type": "code",
   "execution_count": 2,
   "metadata": {},
   "outputs": [],
   "source": [
    "#Generating the lattice\n",
    "nx = 50 + 1 # 1 added to make the total length = 100*0.01\n",
    "ny = 50 + 1\n",
    "lx = 0.02\n",
    "ly = 0.02\n",
    "k_inPlane = 10\n",
    "nz = 3\n",
    "lz = 0.01\n",
    "k_vertical = 10\n",
    "M1 = Rect_Lattice(nx, ny, lx, ly, k_inPlane, [], [], [])\n",
    "M1 = add_layers_in_z_direction(M1, nz, lz, k_vertical, 0, [])\n",
    "\n",
    "#setting z of the middle layer to zero:\n",
    "min_x = M1.nodes[1].x\n",
    "min_y = M1.nodes[1].y\n",
    "max_x = M1.nodes[1].x\n",
    "max_y = M1.nodes[1].y\n",
    "\n",
    "for i in M1.nodes:\n",
    "    i.z = round(i.z, 12) - lz\n",
    "    i.x = round(i.x, 12)\n",
    "    i.y = round(i.y, 12)\n",
    "    min_x = min(i.x, min_x)\n",
    "    min_y = min(i.y, min_y)\n",
    "    max_x = max(i.x, max_x)\n",
    "    max_y = max(i.y, max_y)\n",
    "\n",
    "#Adding support\n",
    "for i in M1.nodes:\n",
    "    if(i.z == 0):\n",
    "        if(i.x == min_x or i.x == max_x or i.y == min_y or i.y == max_y):\n",
    "            i.s_x = 1\n",
    "            i.s_y = 1\n",
    "            i.s_z = 1\n",
    "            M1.support_x.append(i.n)\n",
    "            M1.support_y.append(i.n)\n",
    "            M1.support_z.append(i.n)"
   ]
  },
  {
   "cell_type": "code",
   "execution_count": 3,
   "metadata": {},
   "outputs": [],
   "source": [
    "#Optimization preparation:\n",
    "x0 = []\n",
    "y0 = []\n",
    "z0 = []\n",
    "for i in M1.nodes:\n",
    "    x0.insert((i.n - 1), i.x)\n",
    "    y0.insert((i.n - 1), i.y)\n",
    "    z0.insert((i.n - 1), i.z)\n",
    "    \n",
    "coord0 = x0 + y0 + z0\n",
    "nNodes = int(len(coord0)/3)\n",
    "\n",
    "#bounds:\n",
    "lb = -np.inf*np.ones(len(coord0))\n",
    "ub = np.inf*np.ones(len(coord0))\n",
    "\n",
    "for i in M1.support_x:\n",
    "    lb[i - 1] = x0[i - 1]\n",
    "    ub[i - 1] = x0[i - 1]\n",
    "\n",
    "for i in M1.support_y:\n",
    "    lb[nNodes + i - 1] = y0[i - 1]\n",
    "    ub[nNodes + i - 1] = y0[i - 1]\n",
    "    \n",
    "for i in M1.support_z:\n",
    "    lb[(2*nNodes) + i - 1] = z0[i - 1]\n",
    "    ub[(2*nNodes) + i - 1] = z0[i - 1]\n",
    "\n",
    "\n",
    "bounds = Bounds(lb, ub)"
   ]
  },
  {
   "cell_type": "code",
   "execution_count": 4,
   "metadata": {},
   "outputs": [],
   "source": [
    "f = Point_load_at_centre(10, M1)\n",
    "import time"
   ]
  },
  {
   "cell_type": "code",
   "execution_count": null,
   "metadata": {},
   "outputs": [],
   "source": [
    "#trust-constr: Optimization Algorithm 1\n",
    "start = time.time()\n",
    "res1 = minimize(Energy, coord0, args = (f, M1), method='trust-constr', jac = Jacobian, options={'verbose': 1}, bounds=bounds)\n",
    "end = time.time()"
   ]
  },
  {
   "cell_type": "code",
   "execution_count": null,
   "metadata": {},
   "outputs": [],
   "source": [
    "result = res1.x\n",
    "x_1 = result[0 : nNodes]\n",
    "y_1 = result[nNodes : 2*nNodes]\n",
    "z_1 = result[2*nNodes : 3*nNodes]\n",
    "\n",
    "ax = Lattice_Plot(x_1, y_1, z_1, M1, [], 'DSZ', 30, 85, 0.5, 'result_from_trust_constr')"
   ]
  },
  {
   "cell_type": "code",
   "execution_count": null,
   "metadata": {},
   "outputs": [],
   "source": [
    "print('Time taken by trust-constr: ' + str(end - start))\n",
    "print('Optimized value of enery: ' + str(Energy(result, f, M1)))"
   ]
  },
  {
   "cell_type": "code",
   "execution_count": null,
   "metadata": {},
   "outputs": [],
   "source": [
    "###########################################################################"
   ]
  },
  {
   "cell_type": "code",
   "execution_count": null,
   "metadata": {},
   "outputs": [],
   "source": [
    "#SLSQP: Optimization Algorithm 2\n",
    "res2 = minimize(Energy, coord0, args = (f, M1), method='SLSQP', jac = Jacobian, options={'disp': True}, bounds=bounds)"
   ]
  },
  {
   "cell_type": "code",
   "execution_count": null,
   "metadata": {},
   "outputs": [],
   "source": [
    "result = res2.x\n",
    "x_2 = result[0 : nNodes]\n",
    "y_2 = result[nNodes : 2*nNodes]\n",
    "z_2 = result[2*nNodes : 3*nNodes]\n",
    "\n",
    "ax = Lattice_Plot(x_2, y_2, z_2, M1, [], 'XsY', 30, 85, 0.5, 'result_from_SLSQP')"
   ]
  },
  {
   "cell_type": "code",
   "execution_count": null,
   "metadata": {},
   "outputs": [],
   "source": [
    "print('Time taken by SLSQP: ' + str(end - start))\n",
    "print('Optimized value of enery: ' + str(Energy(result, f, M1)))"
   ]
  },
  {
   "cell_type": "code",
   "execution_count": null,
   "metadata": {},
   "outputs": [],
   "source": [
    "###########################################################################"
   ]
  },
  {
   "cell_type": "code",
   "execution_count": null,
   "metadata": {},
   "outputs": [],
   "source": [
    "#TNC: Optimization Algorithm 3\n",
    "res3 = minimize(Energy, coord0, args = (f, M1), method='TNC', jac = Jacobian, options={'disp': True}, bounds=bounds)"
   ]
  },
  {
   "cell_type": "code",
   "execution_count": null,
   "metadata": {},
   "outputs": [],
   "source": [
    "result = res3.x\n",
    "x_3 = result[0 : nNodes]\n",
    "y_3 = result[nNodes : 2*nNodes]\n",
    "z_3 = result[2*nNodes : 3*nNodes]\n",
    "\n",
    "ax = Lattice_Plot(x_3, y_3, z_3, M1, [], 'XsY', 30, 85, 0.5, 'result_from_TNC')"
   ]
  },
  {
   "cell_type": "code",
   "execution_count": null,
   "metadata": {},
   "outputs": [],
   "source": [
    "print('Time taken by TNC: ' + str(end - start))\n",
    "print('Optimized value of enery: ' + str(Energy(result, f, M1)))"
   ]
  },
  {
   "cell_type": "code",
   "execution_count": null,
   "metadata": {},
   "outputs": [],
   "source": [
    "###########################################################################"
   ]
  },
  {
   "cell_type": "code",
   "execution_count": null,
   "metadata": {},
   "outputs": [],
   "source": [
    "#L-BFGS-B: Optimization Algorithm 4\n",
    "res4 = minimize(Energy, coord0, args = (f, M1), method='L-BFGS-B', jac = Jacobian, options={'iprint': 1}, bounds=bounds)"
   ]
  },
  {
   "cell_type": "code",
   "execution_count": null,
   "metadata": {},
   "outputs": [],
   "source": [
    "result = res4.x\n",
    "x_4 = result[0 : nNodes]\n",
    "y_4 = result[nNodes : 2*nNodes]\n",
    "z_4 = result[2*nNodes : 3*nNodes]\n",
    "\n",
    "ax = Lattice_Plot(x_4, y_4, z_4, M1, [], 'XsY', 30, 85, 0.5, 'result_from_L_BFGS_B')"
   ]
  },
  {
   "cell_type": "code",
   "execution_count": null,
   "metadata": {},
   "outputs": [],
   "source": [
    "print('Time taken by L-BFGS-B: ' + str(end - start))\n",
    "print('Optimized value of enery: ' + str(Energy(result, f, M1)))"
   ]
  },
  {
   "cell_type": "code",
   "execution_count": null,
   "metadata": {},
   "outputs": [],
   "source": []
  },
  {
   "cell_type": "code",
   "execution_count": null,
   "metadata": {},
   "outputs": [],
   "source": []
  },
  {
   "cell_type": "code",
   "execution_count": null,
   "metadata": {},
   "outputs": [],
   "source": []
  },
  {
   "cell_type": "code",
   "execution_count": null,
   "metadata": {},
   "outputs": [],
   "source": []
  },
  {
   "cell_type": "code",
   "execution_count": null,
   "metadata": {},
   "outputs": [],
   "source": []
  },
  {
   "cell_type": "code",
   "execution_count": null,
   "metadata": {},
   "outputs": [],
   "source": []
  }
 ],
 "metadata": {
  "kernelspec": {
   "display_name": "Python 3",
   "language": "python",
   "name": "python3"
  },
  "language_info": {
   "codemirror_mode": {
    "name": "ipython",
    "version": 3
   },
   "file_extension": ".py",
   "mimetype": "text/x-python",
   "name": "python",
   "nbconvert_exporter": "python",
   "pygments_lexer": "ipython3",
   "version": "3.7.3"
  }
 },
 "nbformat": 4,
 "nbformat_minor": 4
}
