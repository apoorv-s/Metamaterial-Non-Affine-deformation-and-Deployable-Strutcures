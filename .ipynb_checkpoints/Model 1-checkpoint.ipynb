{
 "cells": [
  {
   "cell_type": "code",
   "execution_count": 2,
   "metadata": {},
   "outputs": [],
   "source": [
    "run Lattice_functions.ipynb"
   ]
  },
  {
   "cell_type": "code",
   "execution_count": 24,
   "metadata": {},
   "outputs": [],
   "source": [
    "#Generating the lattice\n",
    "nx = 6 + 1 # 1 added to make the total length = 100*0.01\n",
    "ny = 6 + 1\n",
    "lx = 0.5\n",
    "ly = 0.5\n",
    "k_inPlane = 10\n",
    "nz = 3\n",
    "lz = 0.01\n",
    "k_vertical = 10\n",
    "M1 = Rect_Lattice(nx, ny, lx, ly, k_inPlane, [], [], [])\n",
    "M1 = add_layers_in_z_direction(M1, nz, lz, k_vertical, 0, [])\n",
    "\n",
    "#setting z of the middle layer to zero:\n",
    "min_x = M1.nodes[1].x\n",
    "min_y = M1.nodes[1].y\n",
    "max_x = M1.nodes[1].x\n",
    "max_y = M1.nodes[1].y\n",
    "\n",
    "for i in M1.nodes:\n",
    "    i.z = round(i.z, 12) - lz\n",
    "    i.x = round(i.x, 12)\n",
    "    i.y = round(i.y, 12)\n",
    "    min_x = min(i.x, min_x)\n",
    "    min_y = min(i.y, min_y)\n",
    "    max_x = max(i.x, max_x)\n",
    "    max_y = max(i.y, max_y)\n",
    "\n",
    "#Adding support\n",
    "for i in M1.nodes:\n",
    "    if(i.z == 0):\n",
    "        if(i.x == min_x or i.x == max_x or i.y == min_y or i.y == max_y):\n",
    "            i.s_x = 1\n",
    "            i.s_y = 1\n",
    "            i.s_z = 1\n",
    "            M1.support_x.append(i.n)\n",
    "            M1.support_y.append(i.n)\n",
    "            M1.support_z.append(i.n)"
   ]
  },
  {
   "cell_type": "code",
   "execution_count": 25,
   "metadata": {},
   "outputs": [],
   "source": [
    "#Optimization preparation:\n",
    "x0 = []\n",
    "y0 = []\n",
    "z0 = []\n",
    "for i in M1.nodes:\n",
    "    x0.insert((i.n - 1), i.x)\n",
    "    y0.insert((i.n - 1), i.y)\n",
    "    z0.insert((i.n - 1), i.z)\n",
    "    \n",
    "coord0 = x0 + y0 + z0\n",
    "nNodes = int(len(coord0)/3)\n",
    "\n",
    "#bounds:\n",
    "lb = -np.inf*np.ones(len(coord0))\n",
    "ub = np.inf*np.ones(len(coord0))\n",
    "\n",
    "for i in M1.support_x:\n",
    "    lb[i - 1] = x0[i - 1]\n",
    "    ub[i - 1] = x0[i - 1]\n",
    "\n",
    "for i in M1.support_y:\n",
    "    lb[nNodes + i - 1] = y0[i - 1]\n",
    "    ub[nNodes + i - 1] = y0[i - 1]\n",
    "    \n",
    "for i in M1.support_z:\n",
    "    lb[(2*nNodes) + i - 1] = z0[i - 1]\n",
    "    ub[(2*nNodes) + i - 1] = z0[i - 1]\n",
    "\n",
    "\n",
    "bounds = Bounds(lb, ub)"
   ]
  },
  {
   "cell_type": "code",
   "execution_count": 26,
   "metadata": {},
   "outputs": [],
   "source": [
    "f = Point_load_at_centre(1, M1)"
   ]
  },
  {
   "cell_type": "code",
   "execution_count": 27,
   "metadata": {},
   "outputs": [
    {
     "name": "stdout",
     "output_type": "stream",
     "text": [
      "`gtol` termination condition is satisfied.\n",
      "Number of iterations: 153, function evaluations: 153, CG iterations: 917, optimality: 3.06e-09, constraint violation: 0.00e+00, execution time:  8.5 s.\n"
     ]
    }
   ],
   "source": [
    "res = minimize(Energy, coord0, args = (f, M1), method='trust-constr', jac = Jacobian, options={'verbose': 1}, bounds=bounds)"
   ]
  },
  {
   "cell_type": "code",
   "execution_count": null,
   "metadata": {},
   "outputs": [],
   "source": [
    "len(M1.nodes)"
   ]
  },
  {
   "cell_type": "code",
   "execution_count": 28,
   "metadata": {},
   "outputs": [],
   "source": [
    "result = res.x\n",
    "x = result[0 : nNodes]\n",
    "y = result[nNodes : 2*nNodes]\n",
    "z = result[2*nNodes : 3*nNodes]"
   ]
  },
  {
   "cell_type": "code",
   "execution_count": 29,
   "metadata": {},
   "outputs": [
    {
     "data": {
      "image/png": "[encoded data removed]",
      "text/plain": [
       "<Figure size 432x288 with 1 Axes>"
      ]
     },
     "metadata": {
      "needs_background": "light"
     },
     "output_type": "display_data"
    }
   ],
   "source": [
    "ax = Lattice_Plot(x, y, z, M1, [], 'DSZ', 30, 85, 0.5, '10x10x2_fullbraced_uniform_3D')"
   ]
  },
  {
   "cell_type": "code",
   "execution_count": null,
   "metadata": {},
   "outputs": [],
   "source": [
    "ax = plt.gca(projection=\"3d\")\n",
    "ax.scatter(x,y,z, c='r',s=10)"
   ]
  },
  {
   "cell_type": "code",
   "execution_count": null,
   "metadata": {},
   "outputs": [],
   "source": [
    "res = minimize(Energy, coord0, args = (f, M1), method='trust-constr', jac = Jacobian_FD, options={'verbose': 1}, bounds=bounds)"
   ]
  },
  {
   "cell_type": "code",
   "execution_count": null,
   "metadata": {},
   "outputs": [],
   "source": [
    "result = res.x\n",
    "x = result[0 : nNodes]\n",
    "y = result[nNodes : 2*nNodes]\n",
    "z = result[2*nNodes : 3*nNodes]"
   ]
  },
  {
   "cell_type": "code",
   "execution_count": null,
   "metadata": {},
   "outputs": [],
   "source": [
    "ax = Lattice_Plot(x, y, z, M1, [], 'XsY', 30, 85, 0.5, '10x10x2_fullbraced_uniform_3D')"
   ]
  },
  {
   "cell_type": "code",
   "execution_count": 13,
   "metadata": {},
   "outputs": [
    {
     "name": "stdout",
     "output_type": "stream",
     "text": [
      "Iteration limit exceeded    (Exit mode 9)\n",
      "            Current function value: -0.4101385372588489\n",
      "            Iterations: 101\n",
      "            Function evaluations: 207\n",
      "            Gradient evaluations: 101\n"
     ]
    }
   ],
   "source": [
    "res = minimize(Energy, coord0, args = (f, M1), method='SLSQP', jac = Jacobian, options={'disp': True}, bounds=bounds)"
   ]
  },
  {
   "cell_type": "code",
   "execution_count": 14,
   "metadata": {},
   "outputs": [],
   "source": [
    "result = res.x\n",
    "x = result[0 : nNodes]\n",
    "y = result[nNodes : 2*nNodes]\n",
    "z = result[2*nNodes : 3*nNodes]"
   ]
  },
  {
   "cell_type": "code",
   "execution_count": 15,
   "metadata": {},
   "outputs": [
    {
     "data": {
      "image/png": "[encoded data removed]",
      "text/plain": [
       "<Figure size 432x288 with 1 Axes>"
      ]
     },
     "metadata": {
      "needs_background": "light"
     },
     "output_type": "display_data"
    }
   ],
   "source": [
    "ax = Lattice_Plot(x, y, z, M1, [], 'XsY', 30, 85, 0.5, '10x10x2_fullbraced_uniform_3D')"
   ]
  },
  {
   "cell_type": "code",
   "execution_count": 19,
   "metadata": {},
   "outputs": [],
   "source": [
    "coord_rand = np.random.rand(len(coord0))\n",
    "f_rand = np.random.rand(len(f))"
   ]
  },
  {
   "cell_type": "code",
   "execution_count": 22,
   "metadata": {},
   "outputs": [],
   "source": [
    "J = Jacobian(coord_rand, f_rand, M1)\n",
    "J_fd = Jacobian_FD(coord_rand, f_rand, M1)"
   ]
  },
  {
   "cell_type": "code",
   "execution_count": 23,
   "metadata": {},
   "outputs": [],
   "source": [
    "for i in range(0, max(len(J), len(J_fd))):\n",
    "    if(abs(J[i] - J_fd[i]) > 0.01):\n",
    "        print('for i = ' + str(i) + ' : J = ' + str(J[i]) + ' and J_fd = ' + str(J_fd[i]))"
   ]
  },
  {
   "cell_type": "code",
   "execution_count": null,
   "metadata": {},
   "outputs": [],
   "source": []
  }
 ],
 "metadata": {
  "kernelspec": {
   "display_name": "Python 3",
   "language": "python",
   "name": "python3"
  },
  "language_info": {
   "codemirror_mode": {
    "name": "ipython",
    "version": 3
   },
   "file_extension": ".py",
   "mimetype": "text/x-python",
   "name": "python",
   "nbconvert_exporter": "python",
   "pygments_lexer": "ipython3",
   "version": "3.7.3"
  }
 },
 "nbformat": 4,
 "nbformat_minor": 4
}
