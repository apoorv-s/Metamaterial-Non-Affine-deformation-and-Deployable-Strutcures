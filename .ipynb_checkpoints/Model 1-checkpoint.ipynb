{
 "cells": [
  {
   "cell_type": "code",
   "execution_count": 7,
   "metadata": {},
   "outputs": [],
   "source": [
    "run Lattice_functions.ipynb"
   ]
  },
  {
   "cell_type": "code",
   "execution_count": null,
   "metadata": {},
   "outputs": [],
   "source": [
    "#Generating the lattice\n",
    "nx = 20 + 1 # 1 added to make the total length = 100*0.01\n",
    "ny = 20 + 1\n",
    "lx = 0.05\n",
    "ly = 0.05\n",
    "k_inPlane = 8e5\n",
    "nz = 3\n",
    "lz = 0.01\n",
    "k_vertical = 8e5\n",
    "M1 = Rect_Lattice(nx, ny, lx, ly, k_inPlane, [], [], [])\n",
    "M1 = add_layers_in_z_direction(M1, nz, lz, k_vertical, 0, [])\n",
    "\n",
    "#setting z of the middle layer to zero:\n",
    "min_x = M1.nodes[1].x\n",
    "min_y = M1.nodes[1].y\n",
    "max_x = M1.nodes[1].x\n",
    "max_y = M1.nodes[1].y\n",
    "\n",
    "for i in M1.nodes:\n",
    "    i.z = round(i.z, 12) - lz\n",
    "    i.x = round(i.x, 12)\n",
    "    i.y = round(i.y, 12)\n",
    "    min_x = min(i.x, min_x)\n",
    "    min_y = min(i.y, min_y)\n",
    "    max_x = max(i.x, max_x)\n",
    "    max_y = max(i.y, max_y)\n",
    "\n",
    "#Adding support\n",
    "for i in M1.nodes:\n",
    "    if(i.z == 0):\n",
    "        if(i.x == min_x or i.x == max_x or i.y == min_y or i.y == max_y):\n",
    "            i.s_x = 1\n",
    "            i.s_y = 1\n",
    "            i.s_z = 1\n",
    "            M1.support_x.append(i.n)\n",
    "            M1.support_y.append(i.n)\n",
    "            M1.support_z.append(i.n)\n",
    "\n",
    "\n",
    "mid_node = int(nx*ny + (nx*ny + 1)/2) #Only for odd nx and ny"
   ]
  },
  {
   "cell_type": "code",
   "execution_count": null,
   "metadata": {},
   "outputs": [],
   "source": [
    "#Optimization preparation:\n",
    "x0 = []\n",
    "y0 = []\n",
    "z0 = []\n",
    "for i in M1.nodes:\n",
    "    x0.insert((i.n - 1), i.x)\n",
    "    y0.insert((i.n - 1), i.y)\n",
    "    z0.insert((i.n - 1), i.z)\n",
    "    \n",
    "coord0 = x0 + y0 + z0\n",
    "nNodes = int(len(coord0)/3)\n",
    "\n",
    "#bounds:\n",
    "lb = -np.inf*np.ones(len(coord0))\n",
    "ub = np.inf*np.ones(len(coord0))\n",
    "\n",
    "for i in M1.support_x:\n",
    "    lb[i - 1] = x0[i - 1]\n",
    "    ub[i - 1] = x0[i - 1]\n",
    "\n",
    "for i in M1.support_y:\n",
    "    lb[nNodes + i - 1] = y0[i - 1]\n",
    "    ub[nNodes + i - 1] = y0[i - 1]\n",
    "    \n",
    "for i in M1.support_z:\n",
    "    lb[(2*nNodes) + i - 1] = z0[i - 1]\n",
    "    ub[(2*nNodes) + i - 1] = z0[i - 1]\n",
    "\n",
    "\n",
    "bounds = Bounds(lb, ub)\n",
    "\n",
    "#Defining unit forces\n",
    "f = Point_load_at_centre(0.5, M1)\n",
    "\n",
    "#Variable for saving the data\n",
    "data_M1 = [] #has the coordinates of the energy minimized lattices\n",
    "forces_M1 = [] #forces applied at the centre\n",
    "energies_M1 = [] #energies of the optimized lattices\n",
    "z_centre_M1 = [] #deflection at centre\n",
    "results_M1 = [] #Outputs from scipy.optimize"
   ]
  },
  {
   "cell_type": "code",
   "execution_count": null,
   "metadata": {},
   "outputs": [],
   "source": [
    "for i in range(1, 21):\n",
    "  print(i)\n",
    "  f = i*f\n",
    "  result = minimize(Energy, coord0, args = (f, M1), method='L-BFGS-B', jac = Jacobian, options={'iprint': 1}, bounds=bounds)\n",
    "  res = result.x\n",
    "  res.tolist()\n",
    "  data_M1.append(res)\n",
    "  forces_M1.append(0.5*i)\n",
    "  energies_M1.append(result.fun)\n",
    "  z_centre_M1.append(res[2*nNodes + mid_node - 1])\n",
    "  results_M1.append(result)\n"
   ]
  },
  {
   "cell_type": "code",
   "execution_count": null,
   "metadata": {},
   "outputs": [],
   "source": [
    "from numpy import save\n",
    "save('data_M1.npy', data_M1)\n",
    "save('forces_M1.npy', forces_M1)\n",
    "save('energies_M1.npy', energies_M1)\n",
    "save('z_centre_M1.npy', z_centre_M1)\n",
    "save('results_M1.npy', results_M1)\n",
    "\n"
   ]
  }
 ],
 "metadata": {
  "kernelspec": {
   "display_name": "Python 3",
   "language": "python",
   "name": "python3"
  },
  "language_info": {
   "codemirror_mode": {
    "name": "ipython",
    "version": 3
   },
   "file_extension": ".py",
   "mimetype": "text/x-python",
   "name": "python",
   "nbconvert_exporter": "python",
   "pygments_lexer": "ipython3",
   "version": "3.7.3"
  }
 },
 "nbformat": 4,
 "nbformat_minor": 4
}
