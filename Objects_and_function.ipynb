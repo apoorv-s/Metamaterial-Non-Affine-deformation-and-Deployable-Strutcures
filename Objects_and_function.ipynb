{
 "cells": [
  {
   "cell_type": "code",
   "execution_count": 22,
   "metadata": {},
   "outputs": [],
   "source": [
    "# Object 1 : Springs\n",
    "class Spring:\n",
    "    # All associated variables are instance variables\n",
    "    Type = \"Spring\"\n",
    "    \n",
    "    def __init__(self, n, k, l0, i, j):\n",
    "        self.n = n\n",
    "        self.k = k\n",
    "        self.l0 = l0\n",
    "        self.i = i\n",
    "        self.j = j\n",
    "        \n",
    "    def __init__(self):\n",
    "        self.n = 0\n",
    "        self.k = 0\n",
    "        self.l0 = 0\n",
    "        self.i = 0\n",
    "        self.j = 0\n",
    "        \n",
    "    def description(self):\n",
    "        print(\"Spring number = {}\".format(self.n))\n",
    "        print(\"Stiffness = {}\".format(self.k))\n",
    "        print(\"Natural length = {}\".format(self.l0))\n",
    "        print(\"Starting node = {}\".format(self.i))\n",
    "        print(\"Starting node = {}\".format(self.j))"
   ]
  },
  {
   "cell_type": "code",
   "execution_count": 23,
   "metadata": {},
   "outputs": [],
   "source": [
    "# Object 2 : Nodes\n",
    "class Node:\n",
    "    # All associated variables are instance variables (no mass, orientation etc associated)\n",
    "    def __init__(self, n, x, y, z, sp_con, s_x, s_y, s_z):\n",
    "        self.n = n\n",
    "        self.x = x\n",
    "        self.y = y\n",
    "        self.z = z\n",
    "        self.sp_con = sp_con\n",
    "        self.s_x = s_x\n",
    "        self.s_y = s_y\n",
    "        self.s_z = s_z\n",
    "        \n",
    "    def __init__(self):\n",
    "        self.n = 0\n",
    "        self.x = 0\n",
    "        self.y = 0\n",
    "        self.z = 0\n",
    "        self.sp_con = 0\n",
    "        self.s_x = 0\n",
    "        self.s_y = 0\n",
    "        self.s_z = 0\n",
    "        \n",
    "    def description(self):\n",
    "        print(\"Node number = {}\".format(self.n))\n",
    "        print(\"x coordinate = {}\".format(self.x))\n",
    "        print(\"y coordinate = {}\".format(self.y))\n",
    "        print(\"z coordinate = {}\".format(self.z))\n",
    "        print(\"Spring connected = {}\".format(self.sp_con))\n",
    "        print(\"Support in x-direction = {}\".format(bool(self.s_x)))\n",
    "        print(\"Support in y-direction = {}\".format(bool(self.s_y)))\n",
    "        print(\"Support in z-direction = {}\".format(bool(self.s_z)))\n",
    "    "
   ]
  },
  {
   "cell_type": "code",
   "execution_count": 24,
   "metadata": {},
   "outputs": [],
   "source": [
    "n = Spring()"
   ]
  },
  {
   "cell_type": "code",
   "execution_count": 18,
   "metadata": {},
   "outputs": [],
   "source": [
    "def Rect_Lattice(nx, ny, lx, ly, support_x, support_y, support_z):\n",
    "    # Rectangular lattice with nx, and ny nodes in x-direction and y-direction respectively\n",
    "    # lx and ly are dimensions of unit cell of lattice in x- and y-direction respecctively\n",
    "    # Support vector indicate the vectors supported in x-, y- and z-direction\n",
    "    \n",
    "    nNodes = nx*ny;\n",
    "    nSprings = (2*nx*ny) - nx - ny\n",
    "    \n",
    "    N_vec = {}\n",
    "    S_vec = {}\n",
    "    \n",
    "    x = 0\n",
    "    y = 0\n",
    "    z = 0\n",
    "    \n",
    "    for i in range(1, (nx + 1)):\n",
    "        for j in range(1, (ny + 1)):\n",
    "            node_temp = Node()\n",
    "            node_temp.n = (nx*(i-1)) + j\n",
    "            node_temp.x = x\n",
    "            node_temp.y = y\n",
    "            node_temp.z = z\n",
    "            y = y + ly\n",
    "            #insert node_temp in N_vec\n",
    "        \n",
    "        y = 0\n",
    "        x = x + lx\n",
    "        \n",
    "    \n",
    "    \n",
    "    "
   ]
  },
  {
   "cell_type": "code",
   "execution_count": 33,
   "metadata": {},
   "outputs": [
    {
     "name": "stdout",
     "output_type": "stream",
     "text": [
      "1\n",
      "2\n",
      "3\n",
      "4\n",
      "5\n",
      "Done\n"
     ]
    }
   ],
   "source": [
    "for x in range(1,6):\n",
    "    print(x)\n",
    "print(\"Done\")"
   ]
  },
  {
   "cell_type": "code",
   "execution_count": null,
   "metadata": {},
   "outputs": [],
   "source": []
  },
  {
   "cell_type": "code",
   "execution_count": null,
   "metadata": {},
   "outputs": [],
   "source": []
  }
 ],
 "metadata": {
  "kernelspec": {
   "display_name": "Python 3",
   "language": "python",
   "name": "python3"
  },
  "language_info": {
   "codemirror_mode": {
    "name": "ipython",
    "version": 3
   },
   "file_extension": ".py",
   "mimetype": "text/x-python",
   "name": "python",
   "nbconvert_exporter": "python",
   "pygments_lexer": "ipython3",
   "version": "3.7.3"
  }
 },
 "nbformat": 4,
 "nbformat_minor": 2
}
