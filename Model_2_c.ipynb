{
  "nbformat": 4,
  "nbformat_minor": 0,
  "metadata": {
    "colab": {
      "name": "Model 2",
      "provenance": [],
      "collapsed_sections": [
        "o5I19IxQhP6F",
        "99fD30BHhV1I"
      ]
    },
    "kernelspec": {
      "name": "python3",
      "display_name": "Python 3"
    },
    "accelerator": "TPU"
  },
  "cells": [
    {
      "cell_type": "code",
      "metadata": {
        "id": "WgMIJAWCl1D8",
        "colab_type": "code",
        "colab": {}
      },
      "source": [
        "run Lattice_functions.ipynb"
      ],
      "execution_count": 0,
      "outputs": []
    },
    {
      "cell_type": "markdown",
      "metadata": {
        "id": "i2L56C51hJ8F",
        "colab_type": "text"
      },
      "source": [
        "# Model 2: Constant Stiffness Model : Force variation"
      ]
    },
    {
      "cell_type": "code",
      "metadata": {
        "id": "GGBlv3Vnhxsg",
        "colab_type": "code",
        "colab": {}
      },
      "source": [
        "#Generating the lattice\n",
        "nx = 20 + 1 # 1 added to make the total length = 20*0.01\n",
        "ny = 20 + 1\n",
        "lx = 0.05\n",
        "ly = 0.05\n",
        "k_inPlane = 4e4\n",
        "nz = 3\n",
        "lz = 0.01\n",
        "k_vertical = 8e6\n",
        "M2 = Rect_Lattice(nx, ny, lx, ly, k_inPlane, [], [], [])\n",
        "M2 = add_braces_to_rectangular_lattice(M2, k_inPlane, '|')\n",
        "M2 = add_layers_in_z_direction(M2, nz, lz, k_vertical, 0, [])\n",
        "\n",
        "#setting z of the middle layer to zero and deriving support conditions:\n",
        "min_x = M2.nodes[1].x\n",
        "min_y = M2.nodes[1].y\n",
        "max_x = M2.nodes[1].x\n",
        "max_y = M2.nodes[1].y\n",
        "\n",
        "for i in M2.nodes:\n",
        "    i.z = round(i.z, 12) - lz\n",
        "    i.x = round(i.x, 12)\n",
        "    i.y = round(i.y, 12)\n",
        "    min_x = min(i.x, min_x)\n",
        "    min_y = min(i.y, min_y)\n",
        "    max_x = max(i.x, max_x)\n",
        "    max_y = max(i.y, max_y)\n",
        "\n",
        "#Adding support\n",
        "for i in M2.nodes:\n",
        "    if(i.z == 0):\n",
        "        if(i.x == min_x or i.x == max_x or i.y == min_y or i.y == max_y):\n",
        "            i.s_x = 1\n",
        "            i.s_y = 1\n",
        "            i.s_z = 1\n",
        "            M2.support_x.append(i.n)\n",
        "            M2.support_y.append(i.n)\n",
        "            M2.support_z.append(i.n)\n",
        "\n",
        "\n",
        "mid_node = int(nx*ny + (nx*ny + 1)/2) #Only for odd nx and ny"
      ],
      "execution_count": 0,
      "outputs": []
    },
    {
      "cell_type": "code",
      "metadata": {
        "id": "h8g81bsYlPuu",
        "colab_type": "code",
        "colab": {}
      },
      "source": [
        "#Optimization preparation:\n",
        "x0 = []\n",
        "y0 = []\n",
        "z0 = []\n",
        "for i in M2.nodes:\n",
        "    x0.insert((i.n - 1), i.x)\n",
        "    y0.insert((i.n - 1), i.y)\n",
        "    z0.insert((i.n - 1), i.z)\n",
        "    \n",
        "coord0 = x0 + y0 + z0\n",
        "nNodes = int(len(coord0)/3)\n",
        "\n",
        "#bounds:\n",
        "lb = -np.inf*np.ones(len(coord0))\n",
        "ub = np.inf*np.ones(len(coord0))\n",
        "\n",
        "for i in M2.support_x:\n",
        "    lb[i - 1] = x0[i - 1]\n",
        "    ub[i - 1] = x0[i - 1]\n",
        "\n",
        "for i in M2.support_y:\n",
        "    lb[nNodes + i - 1] = y0[i - 1]\n",
        "    ub[nNodes + i - 1] = y0[i - 1]\n",
        "    \n",
        "for i in M2.support_z:\n",
        "    lb[(2*nNodes) + i - 1] = z0[i - 1]\n",
        "    ub[(2*nNodes) + i - 1] = z0[i - 1]\n",
        "\n",
        "\n",
        "bounds = Bounds(lb, ub)\n",
        "\n",
        "#Defining half unit force\n",
        "f0 = Point_load_at_centre(0.5, M2)\n",
        "\n",
        "\n",
        "#Variable for saving the data\n",
        "data_M2 = [] #has the coordinates of the energy minimized lattices\n",
        "forces_M2 = [] #forces applied at the centre\n",
        "energies_M2 = [] #energies of the optimized lattices\n",
        "z_centre_M2 = [] #deflection at centre\n",
        "results_M2 = [] #Outputs from scipy.optimize"
      ],
      "execution_count": 0,
      "outputs": []
    },
    {
      "cell_type": "code",
      "metadata": {
        "id": "mlqtfpIolPjx",
        "colab_type": "code",
        "outputId": "35ce82c7-30dc-4fdd-9b6a-f19a7bae9952",
        "colab": {
          "base_uri": "https://localhost:8080/",
          "height": 403
        }
      },
      "source": [
        "for i in range(1, 22):\n",
        "  print(i)\n",
        "  f = (i - 1)*f0\n",
        "  result = minimize(Energy, coord0, args = (f, M2), method='L-BFGS-B', jac = Jacobian, options={'iprint': 1}, bounds=bounds)\n",
        "  res = result.x\n",
        "  res.tolist()\n",
        "  data_M2.append(res)\n",
        "  forces_M2.append(max(f))\n",
        "  energies_M2.append(result.fun)\n",
        "  z_centre_M2.append(res[2*nNodes + mid_node - 1])\n",
        "  results_M2.append(result)"
      ],
      "execution_count": 0,
      "outputs": [
        {
          "output_type": "stream",
          "text": [
            "1\n",
            "2\n",
            "3\n",
            "4\n",
            "5\n",
            "6\n",
            "7\n",
            "8\n",
            "9\n",
            "10\n",
            "11\n",
            "12\n",
            "13\n",
            "14\n",
            "15\n",
            "16\n",
            "17\n",
            "18\n",
            "19\n",
            "20\n",
            "21\n"
          ],
          "name": "stdout"
        }
      ]
    },
    {
      "cell_type": "code",
      "metadata": {
        "id": "tNTfT295lPXv",
        "colab_type": "code",
        "colab": {}
      },
      "source": [
        "from numpy import save\n",
        "save('data_M2.npy', data_M2)\n",
        "save('forces_M2.npy', forces_M2)\n",
        "save('energies_M2.npy', energies_M2)\n",
        "save('z_centre_M2.npy', z_centre_M2)\n",
        "save('results_M2.npy', results_M2)\n",
        "save('M2.npy', M2)"
      ],
      "execution_count": 0,
      "outputs": []
    },
    {
      "cell_type": "markdown",
      "metadata": {
        "id": "o5I19IxQhP6F",
        "colab_type": "text"
      },
      "source": [
        "# Model 2: Constant AE Model : Force variation"
      ]
    },
    {
      "cell_type": "code",
      "metadata": {
        "id": "LoXJIiSChy1v",
        "colab_type": "code",
        "colab": {}
      },
      "source": [
        "#Generating the lattice\n",
        "nx = 20 + 1 # 1 added to make the total length = 20*0.01\n",
        "ny = 20 + 1\n",
        "lx = 0.05\n",
        "ly = 0.05\n",
        "k_inPlane = 10\n",
        "nz = 3\n",
        "lz = 0.01\n",
        "k_vertical = 10\n",
        "\n",
        "M2_AE = Rect_Lattice(nx, ny, lx, ly, k_inPlane, [], [], [])\n",
        "M2_AE = add_braces_to_rectangular_lattice(M2_AE, k_inPlane, '|')\n",
        "M2_AE = add_layers_in_z_direction(M2_AE, nz, lz, k_vertical, 0, [])\n",
        "\n",
        "# modifying stiffness wrt AE = constant\n",
        "AE = 1.28e3\n",
        "for i in M2_AE.springs:\n",
        "    i.k = AE/(i.l0)\n",
        "\n",
        "for i in M2_AE.springs:\n",
        "  if (abs(M2_AE.nodes[i.i - 1].z - M2_AE.nodes[i.j - 1].z) != 0):\n",
        "    i.k = i.k*1e2\n",
        "\n",
        "\n",
        "#setting z of the middle layer to zero and deriving support criterias:\n",
        "min_x = M2_AE.nodes[1].x\n",
        "min_y = M2_AE.nodes[1].y\n",
        "max_x = M2_AE.nodes[1].x\n",
        "max_y = M2_AE.nodes[1].y\n",
        "\n",
        "for i in M2_AE.nodes:\n",
        "    i.z = round(i.z, 12) - lz\n",
        "    i.x = round(i.x, 12)\n",
        "    i.y = round(i.y, 12)\n",
        "    min_x = min(i.x, min_x)\n",
        "    min_y = min(i.y, min_y)\n",
        "    max_x = max(i.x, max_x)\n",
        "    max_y = max(i.y, max_y)\n",
        "\n",
        "#Adding support\n",
        "for i in M2_AE.nodes:\n",
        "    if(i.z == 0):\n",
        "        if(i.x == min_x or i.x == max_x or i.y == min_y or i.y == max_y):\n",
        "            i.s_x = 1\n",
        "            i.s_y = 1\n",
        "            i.s_z = 1\n",
        "            M2_AE.support_x.append(i.n)\n",
        "            M2_AE.support_y.append(i.n)\n",
        "            M2_AE.support_z.append(i.n)\n",
        "\n",
        "\n",
        "mid_node = int(nx*ny + (nx*ny + 1)/2) #Only for odd nx and ny"
      ],
      "execution_count": 0,
      "outputs": []
    },
    {
      "cell_type": "code",
      "metadata": {
        "id": "AY8XxuDfk5dl",
        "colab_type": "code",
        "colab": {}
      },
      "source": [
        "#Optimization preparation:\n",
        "x0 = []\n",
        "y0 = []\n",
        "z0 = []\n",
        "for i in M2_AE.nodes:\n",
        "    x0.insert((i.n - 1), i.x)\n",
        "    y0.insert((i.n - 1), i.y)\n",
        "    z0.insert((i.n - 1), i.z)\n",
        "    \n",
        "coord0 = x0 + y0 + z0\n",
        "nNodes = int(len(coord0)/3)\n",
        "\n",
        "#bounds:\n",
        "lb = -np.inf*np.ones(len(coord0))\n",
        "ub = np.inf*np.ones(len(coord0))\n",
        "\n",
        "for i in M2_AE.support_x:\n",
        "    lb[i - 1] = x0[i - 1]\n",
        "    ub[i - 1] = x0[i - 1]\n",
        "\n",
        "for i in M2_AE.support_y:\n",
        "    lb[nNodes + i - 1] = y0[i - 1]\n",
        "    ub[nNodes + i - 1] = y0[i - 1]\n",
        "    \n",
        "for i in M2_AE.support_z:\n",
        "    lb[(2*nNodes) + i - 1] = z0[i - 1]\n",
        "    ub[(2*nNodes) + i - 1] = z0[i - 1]\n",
        "\n",
        "\n",
        "bounds = Bounds(lb, ub)\n",
        "\n",
        "#Defining half unit forces\n",
        "f0 = Point_load_at_centre(0.5, M2_AE)\n",
        "\n",
        "#Variable for saving the data\n",
        "data_M2_AE = [] #has the coordinates of the energy minimized lattices\n",
        "forces_M2_AE = [] #forces applied at the centre\n",
        "energies_M2_AE = [] #energies of the optimized lattices\n",
        "z_centre_M2_AE = [] #deflection at centre\n",
        "results_M2_AE = [] #Outputs from scipy.optimize"
      ],
      "execution_count": 0,
      "outputs": []
    },
    {
      "cell_type": "code",
      "metadata": {
        "id": "CrxG_sdyk4v3",
        "colab_type": "code",
        "outputId": "6bd51b34-13c9-4dd5-a53a-30e4f2091fa9",
        "colab": {
          "base_uri": "https://localhost:8080/",
          "height": 329
        }
      },
      "source": [
        "for i in range(1, 22):\n",
        "    print(i)\n",
        "    f = (i - 1)*f0\n",
        "    result = minimize(Energy, coord0, args = (f, M2_AE), method='L-BFGS-B', jac = Jacobian, options={'iprint': 1}, bounds=bounds)\n",
        "    res = result.x\n",
        "    res.tolist()\n",
        "    data_M2_AE.append(res)\n",
        "    forces_M2_AE.append(max(f))\n",
        "    energies_M2_AE.append(result.fun)\n",
        "    z_centre_M2_AE.append(res[2*nNodes + mid_node - 1])\n",
        "    results_M2_AE.append(result)"
      ],
      "execution_count": 0,
      "outputs": [
        {
          "output_type": "stream",
          "text": [
            "1\n",
            "2\n",
            "3\n",
            "4\n",
            "5\n",
            "6\n",
            "7\n",
            "8\n",
            "9\n",
            "10\n",
            "11\n",
            "12\n",
            "13\n",
            "14\n",
            "15\n",
            "16\n",
            "17\n"
          ],
          "name": "stdout"
        }
      ]
    },
    {
      "cell_type": "code",
      "metadata": {
        "id": "K_2c-VM0k4iG",
        "colab_type": "code",
        "colab": {}
      },
      "source": [
        "from numpy import save\n",
        "save('data_M2_AE.npy', data_M2_AE)\n",
        "save('forces_M2_AE.npy', forces_M2_AE)\n",
        "save('energies_M2_AE.npy', energies_M2_AE)\n",
        "save('z_centre_M2_AE.npy', z_centre_M2_AE)\n",
        "save('results_M2_AE.npy', results_M2_AE)\n",
        "save('M2_AE.npy', M2_AE)"
      ],
      "execution_count": 0,
      "outputs": []
    },
    {
      "cell_type": "markdown",
      "metadata": {
        "id": "99fD30BHhV1I",
        "colab_type": "text"
      },
      "source": [
        "# Model 2: Constant Stiffness Model : Thickness variation"
      ]
    },
    {
      "cell_type": "code",
      "metadata": {
        "id": "tKn_dXs8h1vN",
        "colab_type": "code",
        "colab": {}
      },
      "source": [
        "#Variable for saving the data\n",
        "data_M2_t = [] #has the coordinates of the energy minimized lattices\n",
        "thickness_M2_t = [] #Thickness of the model\n",
        "energies_M2_t = [] #energies of the optimized lattices\n",
        "z_centre_M2_t = [] #deflection at centre\n",
        "results_M2_t = [] #Outputs from scipy.optimize\n",
        "lat_M2_t = [] #Lattices with varying thickness"
      ],
      "execution_count": 0,
      "outputs": []
    },
    {
      "cell_type": "code",
      "metadata": {
        "id": "mseIzRoImSPp",
        "colab_type": "code",
        "colab": {}
      },
      "source": [
        "#Model 2, thickness varying condition\n",
        "for i in range(1, 11):\n",
        "  print(i)\n",
        "  thickness = 0.005*i\n",
        "\n",
        "  #Generating the lattice\n",
        "  nx = 20 + 1 # 1 added to make the total length = 20*0.01\n",
        "  ny = 20 + 1\n",
        "  lx = 0.05\n",
        "  ly = 0.05\n",
        "  k_inPlane = 8e5\n",
        "  nz = 3\n",
        "  lz = thickness\n",
        "  k_vertical = 8e5\n",
        "\n",
        "  M2_t = Rect_Lattice(nx, ny, lx, ly, k_inPlane, [], [], [])\n",
        "  M2_t = add_braces_to_rectangular_lattice(M2_t, k_inPlane, '|')\n",
        "  M2_t = add_layers_in_z_direction(M2_t, nz, lz, k_vertical, 0, [])\n",
        "\n",
        "  #setting z of the middle layer to zero:\n",
        "  min_x = M2_t.nodes[1].x\n",
        "  min_y = M2_t.nodes[1].y\n",
        "  max_x = M2_t.nodes[1].x\n",
        "  max_y = M2_t.nodes[1].y\n",
        "\n",
        "  for i in M2_t.nodes:\n",
        "    i.z = round(i.z, 12) - lz\n",
        "    i.x = round(i.x, 12)\n",
        "    i.y = round(i.y, 12)\n",
        "    min_x = min(i.x, min_x)\n",
        "    min_y = min(i.y, min_y)\n",
        "    max_x = max(i.x, max_x)\n",
        "    max_y = max(i.y, max_y)\n",
        "\n",
        "  #Adding support\n",
        "  for i in M2_t.nodes:\n",
        "    if(i.z == 0):\n",
        "      if(i.x == min_x or i.x == max_x or i.y == min_y or i.y == max_y):\n",
        "        i.s_x = 1\n",
        "        i.s_y = 1\n",
        "        i.s_z = 1\n",
        "        M2_t.support_x.append(i.n)\n",
        "        M2_t.support_y.append(i.n)\n",
        "        M2_t.support_z.append(i.n)\n",
        "\n",
        "\n",
        "  mid_node = int(nx*ny + (nx*ny + 1)/2) #Only for odd nx and ny\n",
        "\n",
        "\n",
        "  #Optimization preparation:\n",
        "  x0 = []\n",
        "  y0 = []\n",
        "  z0 = []\n",
        "  for i in M2_t.nodes:\n",
        "    x0.insert((i.n - 1), i.x)\n",
        "    y0.insert((i.n - 1), i.y)\n",
        "    z0.insert((i.n - 1), i.z)\n",
        "    \n",
        "  coord0 = x0 + y0 + z0\n",
        "  nNodes = int(len(coord0)/3)\n",
        "\n",
        "  #bounds:\n",
        "  lb = -np.inf*np.ones(len(coord0))\n",
        "  ub = np.inf*np.ones(len(coord0))\n",
        "\n",
        "  for i in M2_t.support_x:\n",
        "    lb[i - 1] = x0[i - 1]\n",
        "    ub[i - 1] = x0[i - 1]\n",
        "\n",
        "  for i in M2_t.support_y:\n",
        "    lb[nNodes + i - 1] = y0[i - 1]\n",
        "    ub[nNodes + i - 1] = y0[i - 1]\n",
        "    \n",
        "  for i in M2_t.support_z:\n",
        "    lb[(2*nNodes) + i - 1] = z0[i - 1]\n",
        "    ub[(2*nNodes) + i - 1] = z0[i - 1]\n",
        "\n",
        "\n",
        "  bounds = Bounds(lb, ub)\n",
        "\n",
        "  #Defining 2kN forces\n",
        "  f = Point_load_at_centre(2, M2_t)\n",
        "\n",
        "  result = minimize(Energy, coord0, args = (f, M2_t), method='L-BFGS-B', jac = Jacobian, options={'iprint': 1}, bounds=bounds)\n",
        "  res = result.x\n",
        "  res.tolist()\n",
        "  data_M2_t.append(res)\n",
        "  thickness_M2_t.append(thickness)\n",
        "  energies_M2_t.append(result.fun)\n",
        "  z_centre_M2_t.append(res[2*nNodes + mid_node - 1])\n",
        "  results_M2_t.append(result)\n",
        "  lat_M2_t.append(M2_t)"
      ],
      "execution_count": 0,
      "outputs": []
    },
    {
      "cell_type": "code",
      "metadata": {
        "id": "WX-QCPaWmSCm",
        "colab_type": "code",
        "colab": {}
      },
      "source": [
        "from numpy import save\n",
        "save('data_M2_t.npy', data_M2_t)\n",
        "save('thickness_M2_t.npy', thickness_M2_t)\n",
        "save('energies_M2_t.npy', energies_M2_t)\n",
        "save('z_centre_M2_t.npy', z_centre_M2_t)\n",
        "save('results_M2_t.npy', results_M2_t)\n",
        "save('lat_M2_t.npy', lat_M2_t)"
      ],
      "execution_count": 0,
      "outputs": []
    },
    {
      "cell_type": "code",
      "metadata": {
        "id": "IAA83JUVDPkx",
        "colab_type": "code",
        "colab": {}
      },
      "source": [
        ""
      ],
      "execution_count": 0,
      "outputs": []
    }
  ]
}