{
 "cells": [
  {
   "cell_type": "code",
   "execution_count": 97,
   "metadata": {},
   "outputs": [],
   "source": [
    "run Lattice_functions.ipynb"
   ]
  },
  {
   "cell_type": "code",
   "execution_count": 84,
   "metadata": {},
   "outputs": [],
   "source": [
    "#Generating the lattice\n",
    "nx = 4 + 1 # 1 added to make the total length = 100*0.01\n",
    "ny = 4 + 1\n",
    "lx = 0.25\n",
    "ly = 0.25\n",
    "k_inPlane = 10\n",
    "nz = 3\n",
    "lz = 0.01\n",
    "k_vertical = 10\n",
    "M1 = Rect_Lattice(nx, ny, lx, ly, k_inPlane, [], [], [])\n",
    "M1 = add_layers_in_z_direction(M1, nz, lz, k_vertical, 0, [])\n",
    "\n",
    "#setting z of the middle layer to zero:\n",
    "for i in M1.nodes:\n",
    "    i.z = round(i.z, 12) - lz\n",
    "    i.x = round(i.x, 12)\n",
    "    i.y = round(i.y, 12)\n",
    "\n",
    "#Adding support\n",
    "M1.support_x = []\n",
    "M1.support_y = []\n",
    "M1.support_z = []\n",
    "for i in M1.nodes:\n",
    "    if(i.z == 0):\n",
    "        if(i.x == 0 or i.x == 1 or i.y == 0 or i.y == 1):\n",
    "            i.s_x = 1\n",
    "            i.s_y = 1\n",
    "            i.s_z = 1\n",
    "            M1.support_x.append(i.n)\n",
    "            M1.support_y.append(i.n)\n",
    "            M1.support_z.append(i.n)"
   ]
  },
  {
   "cell_type": "code",
   "execution_count": 85,
   "metadata": {},
   "outputs": [],
   "source": [
    "f = [0]"
   ]
  },
  {
   "cell_type": "code",
   "execution_count": 86,
   "metadata": {},
   "outputs": [],
   "source": [
    "x0 = []\n",
    "y0 = []\n",
    "z0 = []\n",
    "for i in M1.nodes:\n",
    "    x0.insert((i.n - 1), i.x)\n",
    "    y0.insert((i.n - 1), i.y)\n",
    "    z0.insert((i.n - 1), i.z)\n",
    "    \n",
    "coord0 = x0 + y0 + z0\n",
    "nNodes = int(len(coord0)/3)"
   ]
  },
  {
   "cell_type": "code",
   "execution_count": 95,
   "metadata": {},
   "outputs": [],
   "source": [
    "lb = -np.inf*np.ones(len(coord0))\n",
    "ub = np.inf*np.ones(len(coord0))\n",
    "\n",
    "for i in M1.support_x:\n",
    "    lb[i - 1] = x0[i - 1]\n",
    "    ub[i - 1] = x0[i - 1]\n",
    "\n",
    "for i in M1.support_y:\n",
    "    lb[nNodes + i - 1] = y0[i - 1]\n",
    "    ub[nNodes + i - 1] = y0[i - 1]\n",
    "    \n",
    "for i in M1.support_z:\n",
    "    lb[(2*nNodes) + i - 1] = z0[i - 1]\n",
    "    ub[(2*nNodes) + i - 1] = z0[i - 1]\n",
    "\n",
    "\n",
    "bounds = Bounds(lb, ub)"
   ]
  },
  {
   "cell_type": "code",
   "execution_count": 99,
   "metadata": {},
   "outputs": [
    {
     "name": "stdout",
     "output_type": "stream",
     "text": [
      "`xtol` termination condition is satisfied.\n",
      "Number of iterations: 16, function evaluations: 3616, CG iterations: 36, optimality: 1.49e-07, constraint violation: 0.00e+00, execution time: 1.1e+01 s.\n"
     ]
    }
   ],
   "source": [
    "res = minimize(Energy, coord0, args = (f, M1), method='trust-constr', options={'verbose': 1}, bounds=bounds)"
   ]
  },
  {
   "cell_type": "code",
   "execution_count": 100,
   "metadata": {},
   "outputs": [],
   "source": [
    "result = res.x\n",
    "x = result[0 : nNodes]\n",
    "y = result[nNodes : 2*nNodes]\n",
    "z = result[2*nNodes : 3*nNodes]"
   ]
  },
  {
   "cell_type": "code",
   "execution_count": null,
   "metadata": {},
   "outputs": [],
   "source": []
  }
 ],
 "metadata": {
  "kernelspec": {
   "display_name": "Python 3",
   "language": "python",
   "name": "python3"
  },
  "language_info": {
   "codemirror_mode": {
    "name": "ipython",
    "version": 3
   },
   "file_extension": ".py",
   "mimetype": "text/x-python",
   "name": "python",
   "nbconvert_exporter": "python",
   "pygments_lexer": "ipython3",
   "version": "3.7.3"
  }
 },
 "nbformat": 4,
 "nbformat_minor": 2
}
