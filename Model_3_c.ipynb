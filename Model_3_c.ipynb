{
  "nbformat": 4,
  "nbformat_minor": 0,
  "metadata": {
    "colab": {
      "name": "Model 3",
      "provenance": [],
      "collapsed_sections": [
        "dlhCFakFc91D",
        "i18Sq1SceWYy"
      ]
    },
    "kernelspec": {
      "name": "python3",
      "display_name": "Python 3"
    },
    "accelerator": "TPU"
  },
  "cells": [
    {
      "cell_type": "code",
      "metadata": {
        "id": "vzG4xn5_l38q",
        "colab_type": "code",
        "colab": {}
      },
      "source": [
        "run Lattice_functions.ipynb"
      ],
      "execution_count": 0,
      "outputs": []
    },
    {
      "cell_type": "markdown",
      "metadata": {
        "id": "dlhCFakFc91D",
        "colab_type": "text"
      },
      "source": [
        "# Model 3: Constant Stiffness Model : Force variation"
      ]
    },
    {
      "cell_type": "code",
      "metadata": {
        "id": "FiJ5zB-8c0Ui",
        "colab_type": "code",
        "colab": {}
      },
      "source": [
        "#Generating the lattice\n",
        "nx = 20 + 1 # 1 added to make the total length = 20*0.01\n",
        "ny = 20 + 1\n",
        "lx = 0.05\n",
        "ly = 0.05\n",
        "k_inPlane = 1e3\n",
        "nz = 3\n",
        "lz = 0.01\n",
        "k_vertical = 1.4e5\n",
        "\n",
        "M3 = Rect_Lattice(nx, ny, lx, ly, k_inPlane, [], [], [])\n",
        "M3 = add_braces_to_rectangular_lattice(M3, k_inPlane, '|')\n",
        "M3 = add_layers_in_z_direction(M3, nz, lz, k_vertical, k_vertical, [1, 2, 3, 4])\n",
        "\n",
        "#setting z of the middle layer to zero and deriving support conditions:\n",
        "min_x = M3.nodes[1].x\n",
        "min_y = M3.nodes[1].y\n",
        "max_x = M3.nodes[1].x\n",
        "max_y = M3.nodes[1].y\n",
        "\n",
        "for i in M3.nodes:\n",
        "    i.z = round(i.z, 12) - lz\n",
        "    i.x = round(i.x, 12)\n",
        "    i.y = round(i.y, 12)\n",
        "    min_x = min(i.x, min_x)\n",
        "    min_y = min(i.y, min_y)\n",
        "    max_x = max(i.x, max_x)\n",
        "    max_y = max(i.y, max_y)\n",
        "\n",
        "#Adding support\n",
        "for i in M3.nodes:\n",
        "    if(i.z == 0):\n",
        "        if(i.x == min_x or i.x == max_x or i.y == min_y or i.y == max_y):\n",
        "            i.s_x = 1\n",
        "            i.s_y = 1\n",
        "            i.s_z = 1\n",
        "            M3.support_x.append(i.n)\n",
        "            M3.support_y.append(i.n)\n",
        "            M3.support_z.append(i.n)\n",
        "\n",
        "\n",
        "mid_node = int(nx*ny + (nx*ny + 1)/2) #Only for odd nx and ny"
      ],
      "execution_count": 0,
      "outputs": []
    },
    {
      "cell_type": "code",
      "metadata": {
        "id": "m6sXgH87dLph",
        "colab_type": "code",
        "colab": {}
      },
      "source": [
        "#Optimization preparation:\n",
        "x0 = []\n",
        "y0 = []\n",
        "z0 = []\n",
        "for i in M3.nodes:\n",
        "    x0.insert((i.n - 1), i.x)\n",
        "    y0.insert((i.n - 1), i.y)\n",
        "    z0.insert((i.n - 1), i.z)\n",
        "    \n",
        "coord0 = x0 + y0 + z0\n",
        "nNodes = int(len(coord0)/3)\n",
        "\n",
        "#bounds:\n",
        "lb = -np.inf*np.ones(len(coord0))\n",
        "ub = np.inf*np.ones(len(coord0))\n",
        "\n",
        "for i in M3.support_x:\n",
        "    lb[i - 1] = x0[i - 1]\n",
        "    ub[i - 1] = x0[i - 1]\n",
        "\n",
        "for i in M3.support_y:\n",
        "    lb[nNodes + i - 1] = y0[i - 1]\n",
        "    ub[nNodes + i - 1] = y0[i - 1]\n",
        "    \n",
        "for i in M3.support_z:\n",
        "    lb[(2*nNodes) + i - 1] = z0[i - 1]\n",
        "    ub[(2*nNodes) + i - 1] = z0[i - 1]\n",
        "\n",
        "\n",
        "bounds = Bounds(lb, ub)\n",
        "\n",
        "#Defining half step force\n",
        "f0 = Point_load_at_centre(0.5, M3)\n",
        "\n",
        "\n",
        "#Variable for saving the data\n",
        "data_M3 = [] #has the coordinates of the energy minimized lattices\n",
        "forces_M3 = [] #forces applied at the centre\n",
        "energies_M3 = [] #energies of the optimized lattices\n",
        "z_centre_M3 = [] #deflection at centre\n",
        "results_M3 = [] #Outputs from scipy.optimize"
      ],
      "execution_count": 0,
      "outputs": []
    },
    {
      "cell_type": "code",
      "metadata": {
        "id": "gL9qhGREdvn8",
        "colab_type": "code",
        "outputId": "d138005e-6275-4e6a-dead-089ba757723b",
        "colab": {
          "base_uri": "https://localhost:8080/",
          "height": 403
        }
      },
      "source": [
        "for i in range(1, 22):\n",
        "  print(i)\n",
        "  f = (i - 1)*f0\n",
        "  result = minimize(Energy, coord0, args = (f, M3), method='L-BFGS-B', jac = Jacobian, options={'iprint': 1}, bounds=bounds)\n",
        "  res = result.x\n",
        "  res.tolist()\n",
        "  data_M3.append(res)\n",
        "  forces_M3.append(max(f))\n",
        "  energies_M3.append(result.fun)\n",
        "  z_centre_M3.append(res[2*nNodes + mid_node - 1])\n",
        "  results_M3.append(result)"
      ],
      "execution_count": 0,
      "outputs": [
        {
          "output_type": "stream",
          "text": [
            "1\n",
            "2\n",
            "3\n",
            "4\n",
            "5\n",
            "6\n",
            "7\n",
            "8\n",
            "9\n",
            "10\n",
            "11\n",
            "12\n",
            "13\n",
            "14\n",
            "15\n",
            "16\n",
            "17\n",
            "18\n",
            "19\n",
            "20\n",
            "21\n"
          ],
          "name": "stdout"
        }
      ]
    },
    {
      "cell_type": "code",
      "metadata": {
        "id": "NXgtRC9md1m8",
        "colab_type": "code",
        "colab": {}
      },
      "source": [
        "from numpy import save\n",
        "save('data_M3.npy', data_M3)\n",
        "save('forces_M3.npy', forces_M3)\n",
        "save('energies_M3.npy', energies_M3)\n",
        "save('z_centre_M3.npy', z_centre_M3)\n",
        "save('results_M3.npy', results_M3)\n",
        "save('M3.npy', M3)"
      ],
      "execution_count": 0,
      "outputs": []
    },
    {
      "cell_type": "markdown",
      "metadata": {
        "id": "i18Sq1SceWYy",
        "colab_type": "text"
      },
      "source": [
        "# Model 3: Constant AE Model : Force variation"
      ]
    },
    {
      "cell_type": "code",
      "metadata": {
        "id": "rD5lzmxDef7q",
        "colab_type": "code",
        "colab": {}
      },
      "source": [
        "#Generating the lattice\n",
        "nx = 20 + 1 # 1 added to make the total length = 20*0.01\n",
        "ny = 20 + 1\n",
        "lx = 0.05\n",
        "ly = 0.05\n",
        "k_inPlane = 10\n",
        "nz = 3\n",
        "lz = 0.01\n",
        "k_vertical = 10\n",
        "\n",
        "M3_AE = Rect_Lattice(nx, ny, lx, ly, k_inPlane, [], [], [])\n",
        "M3_AE = add_braces_to_rectangular_lattice(M3_AE, k_inPlane, '|')\n",
        "M3_AE = add_layers_in_z_direction(M3_AE, nz, lz, k_vertical, k_vertical, [1, 2, 3, 4])\n",
        "\n",
        "# modifying stiffness wrt AE = constant\n",
        "AE = 0.9e2\n",
        "for i in M3_AE.springs:\n",
        "  i.k = AE/(i.l0)\n",
        "\n",
        "\n",
        "for i in M3_AE.springs:\n",
        "  if (abs(M3_AE.nodes[i.i - 1].z - M3_AE.nodes[i.j - 1].z) != 0):\n",
        "    i.k = i.k*1e2\n",
        "\n",
        "#setting z of the middle layer to zero and deriving support conditions:\n",
        "min_x = M3_AE.nodes[1].x\n",
        "min_y = M3_AE.nodes[1].y\n",
        "max_x = M3_AE.nodes[1].x\n",
        "max_y = M3_AE.nodes[1].y\n",
        "\n",
        "for i in M3_AE.nodes:\n",
        "    i.z = round(i.z, 12) - lz\n",
        "    i.x = round(i.x, 12)\n",
        "    i.y = round(i.y, 12)\n",
        "    min_x = min(i.x, min_x)\n",
        "    min_y = min(i.y, min_y)\n",
        "    max_x = max(i.x, max_x)\n",
        "    max_y = max(i.y, max_y)\n",
        "\n",
        "#Adding support\n",
        "for i in M3_AE.nodes:\n",
        "    if(i.z == 0):\n",
        "        if(i.x == min_x or i.x == max_x or i.y == min_y or i.y == max_y):\n",
        "            i.s_x = 1\n",
        "            i.s_y = 1\n",
        "            i.s_z = 1\n",
        "            M3_AE.support_x.append(i.n)\n",
        "            M3_AE.support_y.append(i.n)\n",
        "            M3_AE.support_z.append(i.n)\n",
        "\n",
        "\n",
        "mid_node = int(nx*ny + (nx*ny + 1)/2) #Only for odd nx and ny"
      ],
      "execution_count": 0,
      "outputs": []
    },
    {
      "cell_type": "code",
      "metadata": {
        "id": "p0wz1JY_fDJC",
        "colab_type": "code",
        "colab": {}
      },
      "source": [
        "#Optimization preparation:\n",
        "x0 = []\n",
        "y0 = []\n",
        "z0 = []\n",
        "for i in M3_AE.nodes:\n",
        "    x0.insert((i.n - 1), i.x)\n",
        "    y0.insert((i.n - 1), i.y)\n",
        "    z0.insert((i.n - 1), i.z)\n",
        "    \n",
        "coord0 = x0 + y0 + z0\n",
        "nNodes = int(len(coord0)/3)\n",
        "\n",
        "#bounds:\n",
        "lb = -np.inf*np.ones(len(coord0))\n",
        "ub = np.inf*np.ones(len(coord0))\n",
        "\n",
        "for i in M3_AE.support_x:\n",
        "    lb[i - 1] = x0[i - 1]\n",
        "    ub[i - 1] = x0[i - 1]\n",
        "\n",
        "for i in M3_AE.support_y:\n",
        "    lb[nNodes + i - 1] = y0[i - 1]\n",
        "    ub[nNodes + i - 1] = y0[i - 1]\n",
        "    \n",
        "for i in M3_AE.support_z:\n",
        "    lb[(2*nNodes) + i - 1] = z0[i - 1]\n",
        "    ub[(2*nNodes) + i - 1] = z0[i - 1]\n",
        "\n",
        "\n",
        "bounds = Bounds(lb, ub)\n",
        "\n",
        "#Defining half unit forces\n",
        "f0 = Point_load_at_centre(0.5, M3_AE)\n",
        "\n",
        "#Variable for saving the data\n",
        "data_M3_AE = [] #has the coordinates of the energy minimized lattices\n",
        "forces_M3_AE = [] #forces applied at the centre\n",
        "energies_M3_AE = [] #energies of the optimized lattices\n",
        "z_centre_M3_AE = [] #deflection at centre\n",
        "results_M3_AE = [] #Outputs from scipy.optimize"
      ],
      "execution_count": 0,
      "outputs": []
    },
    {
      "cell_type": "code",
      "metadata": {
        "id": "vaYult5zfC4c",
        "colab_type": "code",
        "outputId": "1210d132-ae46-45ac-e5c0-28788aa4e261",
        "colab": {
          "base_uri": "https://localhost:8080/",
          "height": 403
        }
      },
      "source": [
        "for i in range(1, 22):\n",
        "    print(i)\n",
        "    f = (i - 1)*f0\n",
        "    result = minimize(Energy, coord0, args = (f, M3_AE), method='L-BFGS-B', jac = Jacobian, options={'iprint': 1}, bounds=bounds)\n",
        "    res = result.x\n",
        "    res.tolist()\n",
        "    data_M3_AE.append(res)\n",
        "    forces_M3_AE.append(max(f))\n",
        "    energies_M3_AE.append(result.fun)\n",
        "    z_centre_M3_AE.append(res[2*nNodes + mid_node - 1])\n",
        "    results_M3_AE.append(result)"
      ],
      "execution_count": 0,
      "outputs": [
        {
          "output_type": "stream",
          "text": [
            "1\n",
            "2\n",
            "3\n",
            "4\n",
            "5\n",
            "6\n",
            "7\n",
            "8\n",
            "9\n",
            "10\n",
            "11\n",
            "12\n",
            "13\n",
            "14\n",
            "15\n",
            "16\n",
            "17\n",
            "18\n",
            "19\n",
            "20\n",
            "21\n"
          ],
          "name": "stdout"
        }
      ]
    },
    {
      "cell_type": "code",
      "metadata": {
        "id": "lOF1xPOAfCiF",
        "colab_type": "code",
        "colab": {}
      },
      "source": [
        "from numpy import save\n",
        "save('data_M3_AE.npy', data_M3_AE)\n",
        "save('forces_M3_AE.npy', forces_M3_AE)\n",
        "save('energies_M3_AE.npy', energies_M3_AE)\n",
        "save('z_centre_M3_AE.npy', z_centre_M3_AE)\n",
        "save('results_M3_AE.npy', results_M3_AE)\n",
        "save('M3_AE.npy', M3_AE)"
      ],
      "execution_count": 0,
      "outputs": []
    },
    {
      "cell_type": "markdown",
      "metadata": {
        "id": "agRlYMqSfxBq",
        "colab_type": "text"
      },
      "source": [
        "# Model 3: Constant Stiffness Model : Thickness variation"
      ]
    },
    {
      "cell_type": "code",
      "metadata": {
        "id": "p7vLsNChf_79",
        "colab_type": "code",
        "colab": {}
      },
      "source": [
        "#Variable for saving the data\n",
        "data_M3_t = [] #has the coordinates of the energy minimized lattices\n",
        "thickness_M3_t = [] #Thickness of the model\n",
        "energies_M3_t = [] #energies of the optimized lattices\n",
        "z_centre_M3_t = [] #deflection at centre\n",
        "results_M3_t = [] #Outputs from scipy.optimize\n",
        "lat_M3_t = [] #Lattices with varying thickness"
      ],
      "execution_count": 0,
      "outputs": []
    },
    {
      "cell_type": "code",
      "metadata": {
        "id": "vXIzEykAgEZI",
        "colab_type": "code",
        "outputId": "353e1483-01a4-40dc-c6d5-120cc55fabf3",
        "colab": {
          "base_uri": "https://localhost:8080/",
          "height": 201
        }
      },
      "source": [
        "#Model 3, thickness varying condition\n",
        "for i in range(1, 11):\n",
        "  print(i)\n",
        "  thickness = 0.005*i\n",
        "\n",
        "  #Generating the lattice\n",
        "  nx = 20 + 1 # 1 added to make the total length = 20*0.01\n",
        "  ny = 20 + 1\n",
        "  lx = 0.05\n",
        "  ly = 0.05\n",
        "  k_inPlane = 1e3\n",
        "  nz = 3\n",
        "  lz = thickness\n",
        "  k_vertical = 1.4e5\n",
        "\n",
        "  M3_t = Rect_Lattice(nx, ny, lx, ly, k_inPlane, [], [], [])\n",
        "  M3_t = add_braces_to_rectangular_lattice(M3_t, k_inPlane, '|')\n",
        "  M3_t = add_layers_in_z_direction(M3_t, nz, lz, k_vertical, k_vertical, [1, 2, 3, 4])\n",
        "\n",
        "  #setting z of the middle layer to zero:\n",
        "  min_x = M3_t.nodes[1].x\n",
        "  min_y = M3_t.nodes[1].y\n",
        "  max_x = M3_t.nodes[1].x\n",
        "  max_y = M3_t.nodes[1].y\n",
        "\n",
        "  for i in M3_t.nodes:\n",
        "    i.z = round(i.z, 12) - lz\n",
        "    i.x = round(i.x, 12)\n",
        "    i.y = round(i.y, 12)\n",
        "    min_x = min(i.x, min_x)\n",
        "    min_y = min(i.y, min_y)\n",
        "    max_x = max(i.x, max_x)\n",
        "    max_y = max(i.y, max_y)\n",
        "\n",
        "  #Adding support\n",
        "  for i in M3_t.nodes:\n",
        "    if(i.z == 0):\n",
        "      if(i.x == min_x or i.x == max_x or i.y == min_y or i.y == max_y):\n",
        "        i.s_x = 1\n",
        "        i.s_y = 1\n",
        "        i.s_z = 1\n",
        "        M3_t.support_x.append(i.n)\n",
        "        M3_t.support_y.append(i.n)\n",
        "        M3_t.support_z.append(i.n)\n",
        "\n",
        "\n",
        "  mid_node = int(nx*ny + (nx*ny + 1)/2) #Only for odd nx and ny\n",
        "\n",
        "\n",
        "  #Optimization preparation:\n",
        "  x0 = []\n",
        "  y0 = []\n",
        "  z0 = []\n",
        "  for i in M3_t.nodes:\n",
        "    x0.insert((i.n - 1), i.x)\n",
        "    y0.insert((i.n - 1), i.y)\n",
        "    z0.insert((i.n - 1), i.z)\n",
        "    \n",
        "  coord0 = x0 + y0 + z0\n",
        "  nNodes = int(len(coord0)/3)\n",
        "\n",
        "  #bounds:\n",
        "  lb = -np.inf*np.ones(len(coord0))\n",
        "  ub = np.inf*np.ones(len(coord0))\n",
        "\n",
        "  for i in M3_t.support_x:\n",
        "    lb[i - 1] = x0[i - 1]\n",
        "    ub[i - 1] = x0[i - 1]\n",
        "\n",
        "  for i in M3_t.support_y:\n",
        "    lb[nNodes + i - 1] = y0[i - 1]\n",
        "    ub[nNodes + i - 1] = y0[i - 1]\n",
        "    \n",
        "  for i in M3_t.support_z:\n",
        "    lb[(2*nNodes) + i - 1] = z0[i - 1]\n",
        "    ub[(2*nNodes) + i - 1] = z0[i - 1]\n",
        "\n",
        "\n",
        "  bounds = Bounds(lb, ub)\n",
        "\n",
        "  #Defining 2kN forces\n",
        "  f = Point_load_at_centre(2, M3_t)\n",
        "\n",
        "  result = minimize(Energy, coord0, args = (f, M3_t), method='L-BFGS-B', jac = Jacobian, options={'iprint': 1}, bounds=bounds)\n",
        "  res = result.x\n",
        "  res.tolist()\n",
        "  data_M3_t.append(res)\n",
        "  thickness_M3_t.append(thickness)\n",
        "  energies_M3_t.append(result.fun)\n",
        "  z_centre_M3_t.append(res[2*nNodes + mid_node - 1])\n",
        "  results_M3_t.append(result)\n",
        "  lat_M3_t.append(M3_t)"
      ],
      "execution_count": 0,
      "outputs": [
        {
          "output_type": "stream",
          "text": [
            "1\n",
            "2\n",
            "3\n",
            "4\n",
            "5\n",
            "6\n",
            "7\n",
            "8\n",
            "9\n",
            "10\n"
          ],
          "name": "stdout"
        }
      ]
    },
    {
      "cell_type": "code",
      "metadata": {
        "id": "2OyTvVAGgiEv",
        "colab_type": "code",
        "colab": {}
      },
      "source": [
        "from numpy import save\n",
        "save('data_M3_t.npy', data_M3_t)\n",
        "save('thickness_M3_t.npy', thickness_M3_t)\n",
        "save('energies_M3_t.npy', energies_M3_t)\n",
        "save('z_centre_M3_t.npy', z_centre_M3_t)\n",
        "save('results_M3_t.npy', results_M3_t)\n",
        "save('lat_M3_t.npy', lat_M3_t)"
      ],
      "execution_count": 0,
      "outputs": []
    },
    {
      "cell_type": "code",
      "metadata": {
        "id": "BYcdr0E7W7O8",
        "colab_type": "code",
        "outputId": "f7c5c1ef-4335-41b4-90b0-c91a51d39c85",
        "colab": {
          "base_uri": "https://localhost:8080/",
          "height": 35
        }
      },
      "source": [
        "print('hello world')"
      ],
      "execution_count": 0,
      "outputs": [
        {
          "output_type": "stream",
          "text": [
            "hello world\n"
          ],
          "name": "stdout"
        }
      ]
    },
    {
      "cell_type": "code",
      "metadata": {
        "id": "z1foOE9jXAMc",
        "colab_type": "code",
        "colab": {}
      },
      "source": [
        ""
      ],
      "execution_count": 0,
      "outputs": []
    }
  ]
}