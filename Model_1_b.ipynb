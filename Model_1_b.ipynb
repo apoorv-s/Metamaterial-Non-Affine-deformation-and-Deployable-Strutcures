{
 "cells": [
  {
   "cell_type": "code",
   "execution_count": 1,
   "metadata": {
    "colab": {},
    "colab_type": "code",
    "id": "OEo-ESMgvQ9B"
   },
   "outputs": [],
   "source": [
    "run Lattice_functions.ipynb"
   ]
  },
  {
   "cell_type": "markdown",
   "metadata": {
    "colab_type": "text",
    "id": "51u_spEDSYJ_"
   },
   "source": [
    "# Model 1: Constant Stiffness Model : Force variation"
   ]
  },
  {
   "cell_type": "code",
   "execution_count": 2,
   "metadata": {
    "colab": {},
    "colab_type": "code",
    "id": "6X5rzscU8Ufj"
   },
   "outputs": [],
   "source": [
    "#Generating the lattice\n",
    "nx = 10 + 1 # 1 added to make the total length = 20*0.01\n",
    "ny = 10 + 1\n",
    "lx = 0.1\n",
    "ly = 0.1\n",
    "k_inPlane = 5.92e4\n",
    "nz = 3\n",
    "lz = 0.01\n",
    "k_vertical = 1e8 # to enzure strain in z direction is close to zero\n",
    "M1 = Rect_Lattice(nx, ny, lx, ly, k_inPlane, [], [], [])\n",
    "M1 = add_layers_in_z_direction(M1, nz, lz, k_vertical, 0, [])\n",
    "\n",
    "#setting z of the middle layer to zero and deriving support criterias:\n",
    "min_x = M1.nodes[1].x\n",
    "min_y = M1.nodes[1].y\n",
    "max_x = M1.nodes[1].x\n",
    "max_y = M1.nodes[1].y\n",
    "\n",
    "for i in M1.nodes:\n",
    "    i.z = round(i.z, 12) - lz\n",
    "    i.x = round(i.x, 12)\n",
    "    i.y = round(i.y, 12)\n",
    "    min_x = min(i.x, min_x)\n",
    "    min_y = min(i.y, min_y)\n",
    "    max_x = max(i.x, max_x)\n",
    "    max_y = max(i.y, max_y)\n",
    "\n",
    "#Adding support\n",
    "for i in M1.nodes:\n",
    "    if(i.z == 0):\n",
    "        if(i.x == min_x or i.x == max_x or i.y == min_y or i.y == max_y):\n",
    "            i.s_x = 1\n",
    "            i.s_y = 1\n",
    "            i.s_z = 1\n",
    "            M1.support_x.append(i.n)\n",
    "            M1.support_y.append(i.n)\n",
    "            M1.support_z.append(i.n)\n",
    "\n",
    "\n",
    "mid_node = int(nx*ny + (nx*ny + 1)/2) #Only for odd nx and ny"
   ]
  },
  {
   "cell_type": "code",
   "execution_count": 3,
   "metadata": {
    "colab": {},
    "colab_type": "code",
    "id": "sSE6kJWT8UZg"
   },
   "outputs": [],
   "source": [
    "#Optimization preparation:\n",
    "x0 = []\n",
    "y0 = []\n",
    "z0 = []\n",
    "for i in M1.nodes:\n",
    "    x0.insert((i.n - 1), i.x)\n",
    "    y0.insert((i.n - 1), i.y)\n",
    "    z0.insert((i.n - 1), i.z)\n",
    "    \n",
    "coord0 = x0 + y0 + z0\n",
    "nNodes = int(len(coord0)/3)\n",
    "\n",
    "#bounds:\n",
    "lb = -np.inf*np.ones(len(coord0))\n",
    "ub = np.inf*np.ones(len(coord0))\n",
    "\n",
    "for i in M1.support_x:\n",
    "    lb[i - 1] = x0[i - 1]\n",
    "    ub[i - 1] = x0[i - 1]\n",
    "\n",
    "for i in M1.support_y:\n",
    "    lb[nNodes + i - 1] = y0[i - 1]\n",
    "    ub[nNodes + i - 1] = y0[i - 1]\n",
    "    \n",
    "for i in M1.support_z:\n",
    "    lb[(2*nNodes) + i - 1] = z0[i - 1]\n",
    "    ub[(2*nNodes) + i - 1] = z0[i - 1]\n",
    "\n",
    "\n",
    "bounds = Bounds(lb, ub)\n",
    "\n",
    "#Defining half unit forces\n",
    "f0 = Point_load_at_centre(0.5, M1)\n",
    "\n",
    "#Variable for saving the data\n",
    "data_M1 = [] #has the coordinates of the energy minimized lattices\n",
    "forces_M1 = [] #forces applied at the centre\n",
    "energies_M1 = [] #energies of the optimized lattices\n",
    "z_centre_M1 = [] #deflection at centre\n",
    "results_M1 = [] #Outputs from scipy.optimize"
   ]
  },
  {
   "cell_type": "code",
   "execution_count": null,
   "metadata": {
    "colab": {
     "base_uri": "https://localhost:8080/",
     "height": 382
    },
    "colab_type": "code",
    "id": "UuGWoAJx6JcK",
    "outputId": "f79df773-2a45-4e1c-804e-95b96ec12f7e"
   },
   "outputs": [],
   "source": [
    "for i in range(17, 18):\n",
    "  print(i)\n",
    "  f = (i - 1)*f0\n",
    "  result = minimize(Energy, coord0, args = (f, M1), method='L-BFGS-B', jac = Jacobian, options={'iprint': 1}, bounds=bounds)\n",
    "  res = result.x\n",
    "  res.tolist()\n",
    "  data_M1.append(res)\n",
    "  forces_M1.append(max(f))\n",
    "  energies_M1.append(result.fun)\n",
    "  z_centre_M1.append(res[2*nNodes + mid_node - 1])\n",
    "  results_M1.append(result)"
   ]
  },
  {
   "cell_type": "code",
   "execution_count": null,
   "metadata": {},
   "outputs": [],
   "source": [
    "x = res[0 : nNodes]\n",
    "y = res[nNodes : 2*nNodes]\n",
    "z = res[2*nNodes : 3*nNodes]\n",
    "ax = Lattice_Plot(x, y, z, M1, [], 'YZ', 25, 8, 0.1, '')"
   ]
  },
  {
   "cell_type": "code",
   "execution_count": null,
   "metadata": {},
   "outputs": [],
   "source": []
  },
  {
   "cell_type": "code",
   "execution_count": 0,
   "metadata": {
    "colab": {},
    "colab_type": "code",
    "id": "TRn004Gc6JVq"
   },
   "outputs": [],
   "source": [
    "from numpy import save\n",
    "save('data_M1_11x11.npy', data_M1)\n",
    "save('forces_M_11x11.npy', forces_M1)\n",
    "save('energies_M1_11x11.npy', energies_M1)\n",
    "save('z_centre_M1_11x11.npy', z_centre_M1)\n",
    "save('results_M1_11x11.npy', results_M1)\n",
    "save('M1_11x11.npy', M1)"
   ]
  },
  {
   "cell_type": "markdown",
   "metadata": {
    "colab_type": "text",
    "id": "YoQVceQbS2D4"
   },
   "source": [
    "# Model 1: Constant AE Model : Force variation"
   ]
  },
  {
   "cell_type": "code",
   "execution_count": 0,
   "metadata": {
    "colab": {},
    "colab_type": "code",
    "id": "3nNrTMJG6JIw"
   },
   "outputs": [],
   "source": [
    "#Generating the lattice\n",
    "nx = 10 + 1 # 1 added to make the total length = 100*0.01\n",
    "ny = 10 + 1\n",
    "lx = 0.1\n",
    "ly = 0.1\n",
    "k_inPlane = 10\n",
    "nz = 3\n",
    "lz = 0.01\n",
    "k_vertical = 10\n",
    "M1_AE = Rect_Lattice(nx, ny, lx, ly, k_inPlane, [], [], [])\n",
    "M1_AE = add_layers_in_z_direction(M1_AE, nz, lz, k_vertical, 0, [])\n",
    "\n",
    "# modifying stiffness wrt AE = constant\n",
    "AE = 4e3\n",
    "for i in M1_AE.springs:\n",
    "  i.k = AE/(i.l0)\n",
    "\n",
    "\n",
    "for i in M1_AE.springs:\n",
    "  if (abs(M1_AE.nodes[i.i - 1].z - M1_AE.nodes[i.j - 1].z) != 0):\n",
    "    i.k = i.k*1e3\n",
    "\n",
    "\n",
    "#setting z of the middle layer to zero and deriving support criterias:\n",
    "min_x = M1_AE.nodes[1].x\n",
    "min_y = M1_AE.nodes[1].y\n",
    "max_x = M1_AE.nodes[1].x\n",
    "max_y = M1_AE.nodes[1].y\n",
    "\n",
    "for i in M1_AE.nodes:\n",
    "    i.z = round(i.z, 12) - lz\n",
    "    i.x = round(i.x, 12)\n",
    "    i.y = round(i.y, 12)\n",
    "    min_x = min(i.x, min_x)\n",
    "    min_y = min(i.y, min_y)\n",
    "    max_x = max(i.x, max_x)\n",
    "    max_y = max(i.y, max_y)\n",
    "\n",
    "#Adding support\n",
    "for i in M1_AE.nodes:\n",
    "    if(i.z == 0):\n",
    "        if(i.x == min_x or i.x == max_x or i.y == min_y or i.y == max_y):\n",
    "            i.s_x = 1\n",
    "            i.s_y = 1\n",
    "            i.s_z = 1\n",
    "            M1_AE.support_x.append(i.n)\n",
    "            M1_AE.support_y.append(i.n)\n",
    "            M1_AE.support_z.append(i.n)\n",
    "\n",
    "\n",
    "mid_node = int(nx*ny + (nx*ny + 1)/2) #Only for odd nx and ny"
   ]
  },
  {
   "cell_type": "code",
   "execution_count": 0,
   "metadata": {
    "colab": {},
    "colab_type": "code",
    "id": "RDPqJclC6JDU"
   },
   "outputs": [],
   "source": [
    "#Optimization preparation:\n",
    "x0 = []\n",
    "y0 = []\n",
    "z0 = []\n",
    "for i in M1_AE.nodes:\n",
    "    x0.insert((i.n - 1), i.x)\n",
    "    y0.insert((i.n - 1), i.y)\n",
    "    z0.insert((i.n - 1), i.z)\n",
    "    \n",
    "coord0 = x0 + y0 + z0\n",
    "nNodes = int(len(coord0)/3)\n",
    "\n",
    "#bounds:\n",
    "lb = -np.inf*np.ones(len(coord0))\n",
    "ub = np.inf*np.ones(len(coord0))\n",
    "\n",
    "for i in M1_AE.support_x:\n",
    "    lb[i - 1] = x0[i - 1]\n",
    "    ub[i - 1] = x0[i - 1]\n",
    "\n",
    "for i in M1_AE.support_y:\n",
    "    lb[nNodes + i - 1] = y0[i - 1]\n",
    "    ub[nNodes + i - 1] = y0[i - 1]\n",
    "    \n",
    "for i in M1_AE.support_z:\n",
    "    lb[(2*nNodes) + i - 1] = z0[i - 1]\n",
    "    ub[(2*nNodes) + i - 1] = z0[i - 1]\n",
    "\n",
    "\n",
    "bounds = Bounds(lb, ub)\n",
    "\n",
    "#Defining half unit forces\n",
    "f0 = Point_load_at_centre(0.5, M1_AE)\n",
    "\n",
    "#Variable for saving the data\n",
    "data_M1_AE = [] #has the coordinates of the energy minimized lattices\n",
    "forces_M1_AE = [] #forces applied at the centre\n",
    "energies_M1_AE = [] #energies of the optimized lattices\n",
    "z_centre_M1_AE = [] #deflection at centre\n",
    "results_M1_AE = [] #Outputs from scipy.optimize"
   ]
  },
  {
   "cell_type": "code",
   "execution_count": 0,
   "metadata": {
    "colab": {
     "base_uri": "https://localhost:8080/",
     "height": 382
    },
    "colab_type": "code",
    "id": "4Sdu18x86I92",
    "outputId": "e7f82517-a7fc-46a5-ac55-c298162e6934"
   },
   "outputs": [
    {
     "name": "stdout",
     "output_type": "stream",
     "text": [
      "1\n",
      "2\n",
      "3\n",
      "4\n",
      "5\n",
      "6\n",
      "7\n",
      "8\n",
      "9\n",
      "10\n",
      "11\n",
      "12\n",
      "13\n",
      "14\n",
      "15\n",
      "16\n",
      "17\n",
      "18\n",
      "19\n",
      "20\n",
      "21\n"
     ]
    }
   ],
   "source": [
    "for i in range(1, 22):\n",
    "  print(i)\n",
    "  f = (i - 1)*f0\n",
    "  result = minimize(Energy, coord0, args = (f, M1_AE), method='L-BFGS-B', jac = Jacobian, options={'iprint': 1}, bounds=bounds)\n",
    "  res = result.x\n",
    "  res.tolist()\n",
    "  data_M1_AE.append(res)\n",
    "  forces_M1_AE.append(max(f))\n",
    "  energies_M1_AE.append(result.fun)\n",
    "  z_centre_M1_AE.append(res[2*nNodes + mid_node - 1])\n",
    "  results_M1_AE.append(result)"
   ]
  },
  {
   "cell_type": "code",
   "execution_count": 0,
   "metadata": {
    "colab": {},
    "colab_type": "code",
    "id": "vCv7BlBX6I3v"
   },
   "outputs": [],
   "source": [
    "from numpy import save\n",
    "save('data_M1_AE_11x11.npy', data_M1_AE)\n",
    "save('forces_M1_AE_11x11.npy', forces_M1_AE)\n",
    "save('energies_M1_AE_11x11.npy', energies_M1_AE)\n",
    "save('z_centre_M1_AE_11x11.npy', z_centre_M1_AE)\n",
    "save('results_M1_AE_11x11.npy', results_M1_AE)\n",
    "save('M1_AE_11x11.npy', M1_AE)"
   ]
  },
  {
   "cell_type": "markdown",
   "metadata": {
    "colab_type": "text",
    "id": "wzxjV_rBH-PU"
   },
   "source": [
    "# Model 1: Constant Stiffness Model : Thickness variation"
   ]
  },
  {
   "cell_type": "code",
   "execution_count": 0,
   "metadata": {
    "colab": {},
    "colab_type": "code",
    "id": "HsPBZ8wK6Ixd"
   },
   "outputs": [],
   "source": [
    "#Variable for saving the data\n",
    "data_M1_t = [] #has the coordinates of the energy minimized lattices\n",
    "thickness_M1_t = [] #Thickness of the model\n",
    "energies_M1_t = [] #energies of the optimized lattices\n",
    "z_centre_M1_t = [] #deflection at centre\n",
    "results_M1_t = [] #Outputs from scipy.optimize\n",
    "lat_M1_t = [] #Lattices with varying thickness"
   ]
  },
  {
   "cell_type": "code",
   "execution_count": 0,
   "metadata": {
    "colab": {
     "base_uri": "https://localhost:8080/",
     "height": 191
    },
    "colab_type": "code",
    "id": "ydxJzjqC6Iqv",
    "outputId": "ea928b37-373e-458b-a67d-49bd9d78dfdc"
   },
   "outputs": [
    {
     "name": "stdout",
     "output_type": "stream",
     "text": [
      "1\n",
      "2\n",
      "3\n",
      "4\n",
      "5\n",
      "6\n",
      "7\n",
      "8\n",
      "9\n",
      "10\n"
     ]
    }
   ],
   "source": [
    "#Model 1, thickness varying condition\n",
    "for i in range(1, 11):\n",
    "  print(i)\n",
    "  thickness = 0.005*i\n",
    "\n",
    "  #Generating the lattice\n",
    "  nx = 10 + 1 # 1 added to make the total length = 20*0.01\n",
    "  ny = 10 + 1\n",
    "  lx = 0.1\n",
    "  ly = 0.1\n",
    "  k_inPlane = 5.92e4\n",
    "  nz = 3\n",
    "  lz = thickness\n",
    "  k_vertical = 1e8 # to enzure strain in z direction is close to zero\n",
    "\n",
    "  M1_t = Rect_Lattice(nx, ny, lx, ly, k_inPlane, [], [], [])\n",
    "  M1_t = add_layers_in_z_direction(M1_t, nz, lz, k_vertical, 0, [])\n",
    "\n",
    "  #setting z of the middle layer to zero:\n",
    "  min_x = M1_t.nodes[1].x\n",
    "  min_y = M1_t.nodes[1].y\n",
    "  max_x = M1_t.nodes[1].x\n",
    "  max_y = M1_t.nodes[1].y\n",
    "\n",
    "  for i in M1_t.nodes:\n",
    "    i.z = round(i.z, 12) - lz\n",
    "    i.x = round(i.x, 12)\n",
    "    i.y = round(i.y, 12)\n",
    "    min_x = min(i.x, min_x)\n",
    "    min_y = min(i.y, min_y)\n",
    "    max_x = max(i.x, max_x)\n",
    "    max_y = max(i.y, max_y)\n",
    "\n",
    "  #Adding support\n",
    "  for i in M1_t.nodes:\n",
    "    if(i.z == 0):\n",
    "      if(i.x == min_x or i.x == max_x or i.y == min_y or i.y == max_y):\n",
    "        i.s_x = 1\n",
    "        i.s_y = 1\n",
    "        i.s_z = 1\n",
    "        M1_t.support_x.append(i.n)\n",
    "        M1_t.support_y.append(i.n)\n",
    "        M1_t.support_z.append(i.n)\n",
    "\n",
    "\n",
    "  mid_node = int(nx*ny + (nx*ny + 1)/2) #Only for odd nx and ny\n",
    "\n",
    "\n",
    "  #Optimization preparation:\n",
    "  x0 = []\n",
    "  y0 = []\n",
    "  z0 = []\n",
    "  for i in M1_t.nodes:\n",
    "    x0.insert((i.n - 1), i.x)\n",
    "    y0.insert((i.n - 1), i.y)\n",
    "    z0.insert((i.n - 1), i.z)\n",
    "    \n",
    "  coord0 = x0 + y0 + z0\n",
    "  nNodes = int(len(coord0)/3)\n",
    "\n",
    "  #bounds:\n",
    "  lb = -np.inf*np.ones(len(coord0))\n",
    "  ub = np.inf*np.ones(len(coord0))\n",
    "\n",
    "  for i in M1_t.support_x:\n",
    "    lb[i - 1] = x0[i - 1]\n",
    "    ub[i - 1] = x0[i - 1]\n",
    "\n",
    "  for i in M1_t.support_y:\n",
    "    lb[nNodes + i - 1] = y0[i - 1]\n",
    "    ub[nNodes + i - 1] = y0[i - 1]\n",
    "    \n",
    "  for i in M1_t.support_z:\n",
    "    lb[(2*nNodes) + i - 1] = z0[i - 1]\n",
    "    ub[(2*nNodes) + i - 1] = z0[i - 1]\n",
    "\n",
    "\n",
    "  bounds = Bounds(lb, ub)\n",
    "\n",
    "  #Defining 2kN forces\n",
    "  f = Point_load_at_centre(2, M1_t)\n",
    "\n",
    "  result = minimize(Energy, coord0, args = (f, M1_t), method='L-BFGS-B', jac = Jacobian, options={'iprint': 1}, bounds=bounds)\n",
    "  res = result.x\n",
    "  res.tolist()\n",
    "  data_M1_t.append(res)\n",
    "  thickness_M1_t.append(thickness)\n",
    "  energies_M1_t.append(result.fun)\n",
    "  z_centre_M1_t.append(res[2*nNodes + mid_node - 1])\n",
    "  results_M1_t.append(result)\n",
    "  lat_M1_t.append(M1_t)"
   ]
  },
  {
   "cell_type": "code",
   "execution_count": 0,
   "metadata": {
    "colab": {},
    "colab_type": "code",
    "id": "hx0OGx7h6IkI"
   },
   "outputs": [],
   "source": [
    "from numpy import save\n",
    "save('data_M1_t_11x11.npy', data_M1_t)\n",
    "save('thickness_M1_t_11x11.npy', thickness_M1_t)\n",
    "save('energies_M1_t_11x11.npy', energies_M1_t)\n",
    "save('z_centre_M1_t_11x11.npy', z_centre_M1_t)\n",
    "save('results_M1_t_11x11.npy', results_M1_t)\n",
    "save('lat_M1_t_11x11.npy', lat_M1_t)"
   ]
  }
 ],
 "metadata": {
  "accelerator": "TPU",
  "colab": {
   "collapsed_sections": [],
   "name": "Model 1 b.ipynb",
   "provenance": []
  },
  "kernelspec": {
   "display_name": "Python 3",
   "language": "python",
   "name": "python3"
  },
  "language_info": {
   "codemirror_mode": {
    "name": "ipython",
    "version": 3
   },
   "file_extension": ".py",
   "mimetype": "text/x-python",
   "name": "python",
   "nbconvert_exporter": "python",
   "pygments_lexer": "ipython3",
   "version": "3.7.3"
  }
 },
 "nbformat": 4,
 "nbformat_minor": 1
}
