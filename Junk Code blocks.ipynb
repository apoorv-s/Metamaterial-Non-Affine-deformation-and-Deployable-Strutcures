{
 "cells": [
  {
   "cell_type": "code",
   "execution_count": null,
   "metadata": {},
   "outputs": [],
   "source": [
    "#Horizontal and vertical lines for Lattice_plot function:\n",
    "\n",
    "    #Lines in y-direction:\n",
    "    for i in range(1, (lattice.nx + 1)):\n",
    "        ax.plot(x[int(lattice.ny*(i -1)): int(lattice.ny*i)], y[int(lattice.ny*(i -1)): int(lattice.ny*i)], z[int(lattice.ny*(i -1)): int(lattice.ny*i)], color=\"black\")\n",
    "        \n",
    "    #Lines in x-direction:\n",
    "    for i in range(1, (lattice.ny + 1)):\n",
    "        h_line_x = []\n",
    "        h_line_y = []\n",
    "        h_line_z = []\n",
    "        for j in range(1, (lattice.nx + 1)):\n",
    "            h_line_x.append(x[((lattice.ny)*(j-1) + i - 1)])\n",
    "            h_line_y.append(y[((lattice.ny)*(j-1) + i - 1)])\n",
    "            h_line_z.append(z[((lattice.ny)*(j-1) + i - 1)])\n",
    "    \n",
    "        ax.plot(h_line_x, h_line_y, h_line_z, color=\"black\")"
   ]
  }
 ],
 "metadata": {
  "kernelspec": {
   "display_name": "Python 3",
   "language": "python",
   "name": "python3"
  },
  "language_info": {
   "codemirror_mode": {
    "name": "ipython",
    "version": 3
   },
   "file_extension": ".py",
   "mimetype": "text/x-python",
   "name": "python",
   "nbconvert_exporter": "python",
   "pygments_lexer": "ipython3",
   "version": "3.7.3"
  }
 },
 "nbformat": 4,
 "nbformat_minor": 2
}
