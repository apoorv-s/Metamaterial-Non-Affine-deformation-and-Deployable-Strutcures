{
 "cells": [
  {
   "cell_type": "code",
   "execution_count": null,
   "metadata": {},
   "outputs": [],
   "source": [
    "#Horizontal and vertical lines for Lattice_plot function:\n",
    "\n",
    "    #Lines in y-direction:\n",
    "    for i in range(1, (lattice.nx + 1)):\n",
    "        ax.plot(x[int(lattice.ny*(i -1)): int(lattice.ny*i)], y[int(lattice.ny*(i -1)): int(lattice.ny*i)], z[int(lattice.ny*(i -1)): int(lattice.ny*i)], color=\"black\")\n",
    "        \n",
    "    #Lines in x-direction:\n",
    "    for i in range(1, (lattice.ny + 1)):\n",
    "        h_line_x = []\n",
    "        h_line_y = []\n",
    "        h_line_z = []\n",
    "        for j in range(1, (lattice.nx + 1)):\n",
    "            h_line_x.append(x[((lattice.ny)*(j-1) + i - 1)])\n",
    "            h_line_y.append(y[((lattice.ny)*(j-1) + i - 1)])\n",
    "            h_line_z.append(z[((lattice.ny)*(j-1) + i - 1)])\n",
    "    \n",
    "        ax.plot(h_line_x, h_line_y, h_line_z, color=\"black\")"
   ]
  },
  {
   "cell_type": "code",
   "execution_count": null,
   "metadata": {},
   "outputs": [],
   "source": []
  },
  {
   "cell_type": "code",
   "execution_count": null,
   "metadata": {},
   "outputs": [],
   "source": [
    "\n",
    "                #Body Diagonals:\n",
    "                ly = lat.springs[0].l0\n",
    "                lx = lat.springs[1].l0\n",
    "                \n",
    "                l = np.sqrt((ly**2)+(lx**2)+(lz**2))\n",
    "                if(1 in orientation):\n",
    "                    temp_spring = Spring()\n",
    "                    temp_spring.n = temp_nSpring\n",
    "                    temp_spring.k = strut_stiffness\n",
    "                    temp_spring.l0 = l\n",
    "                    temp_spring.i = temp_nNode\n",
    "                    temp_spring.j = temp_nNode - nNodes_current\n",
    "                    \n",
    "                    lat.nodes[temp_nNode - 1].sp_con.append(temp_nSpring)\n",
    "                    lat.nodes[temp_nNode - nNodes_current - 1].sp_con.append(temp_nSpring)\n",
    "                    \n",
    "                    lat.springs.insert(temp_nSpring, temp_spring)\n",
    "                    temp_nSpring = temp_nSpring + 1\n",
    "        "
   ]
  },
  {
   "cell_type": "code",
   "execution_count": null,
   "metadata": {},
   "outputs": [],
   "source": [
    "#SLSQP: Optimization Algorithm 2\n",
    "res2 = minimize(Energy, coord0, args = (f, M1), method='SLSQP', jac = Jacobian, options={'disp': True}, bounds=bounds)\n",
    "\n",
    "result = res2.x\n",
    "x_2 = result[0 : nNodes]\n",
    "y_2 = result[nNodes : 2*nNodes]\n",
    "z_2 = result[2*nNodes : 3*nNodes]\n",
    "\n",
    "ax = Lattice_Plot(x_2, y_2, z_2, M1, [], 'XsY', 30, 85, 0.5, 'result_from_SLSQP')\n",
    "\n",
    "print('Time taken by SLSQP: ' + str(end - start))\n",
    "print('Optimized value of enery: ' + str(Energy(result, f, M1)))"
   ]
  },
  {
   "cell_type": "code",
   "execution_count": null,
   "metadata": {},
   "outputs": [],
   "source": [
    "#trust-constr: Optimization Algorithm 1\n",
    "start = time.time()\n",
    "res1 = minimize(Energy, coord0, args = (f, M1), method='trust-constr', jac = Jacobian, options={'verbose': 1}, bounds=bounds)\n",
    "end = time.time()\n",
    "\n",
    "result = res1.x\n",
    "x_1 = result[0 : nNodes]\n",
    "y_1 = result[nNodes : 2*nNodes]\n",
    "z_1 = result[2*nNodes : 3*nNodes]\n",
    "\n",
    "ax = Lattice_Plot(x_1, y_1, z_1, M1, [], 'DSZ', 30, 85, 0.5, 'result_from_trust_constr')\n",
    "\n",
    "print('Time taken by trust-constr: ' + str(end - start))\n",
    "print('Optimized value of enery: ' + str(Energy(result, f, M1)))\n",
    "print(min(z1))"
   ]
  },
  {
   "cell_type": "code",
   "execution_count": null,
   "metadata": {},
   "outputs": [],
   "source": [
    "#TNC: Optimization Algorithm 3\n",
    "start = time.time()\n",
    "res3 = minimize(Energy, coord0, args = (f, M1), method='TNC', jac = Jacobian, options={'disp': True}, bounds=bounds)\n",
    "end = time.time()\n",
    "\n",
    "result = res3.x\n",
    "x_3 = result[0 : nNodes]\n",
    "y_3 = result[nNodes : 2*nNodes]\n",
    "z_3 = result[2*nNodes : 3*nNodes]\n",
    "\n",
    "ax = Lattice_Plot(x_3, y_3, z_3, M1, [], 'XsY', 30, 85, 0.5, 'result_from_TNC')\n",
    "\n",
    "print('Time taken by TNC: ' + str(end - start))\n",
    "print('Optimized value of enery: ' + str(Energy(result, f, M1)))\n",
    "\n",
    "min_z_TNC = 0\n",
    "for i in z_3:\n",
    "  min_z_TNC = min(min_z_TNC, i)\n",
    "\n",
    "print(min_z_TNC)"
   ]
  },
  {
   "cell_type": "code",
   "execution_count": null,
   "metadata": {},
   "outputs": [],
   "source": [
    "####### from colab"
   ]
  },
  {
   "cell_type": "code",
   "execution_count": null,
   "metadata": {},
   "outputs": [],
   "source": [
    "#L-BFGS-B: Optimization Algorithm 4\n",
    "start = datetime.datetime.now()\n",
    "print('time before execution: ' + str(start))\n",
    "res4 = minimize(Energy, coord0, args = (f, M1), method='L-BFGS-B', jac = Jacobian, options={'iprint': 1}, bounds=bounds)\n",
    "end = datetime.datetime.now()\n",
    "print('time after execution: ' + str(end))"
   ]
  },
  {
   "cell_type": "code",
   "execution_count": null,
   "metadata": {},
   "outputs": [],
   "source": [
    "result = res4.x\n",
    "x_4 = result[0 : nNodes]\n",
    "y_4 = result[nNodes : 2*nNodes]\n",
    "z_4 = result[2*nNodes : 3*nNodes]\n",
    "\n",
    "ax = Lattice_Plot(x_4, y_4, z_4, M1, [], 'YZ', 30, 85, 0.5, 'result_from_L_BFGS_B')"
   ]
  },
  {
   "cell_type": "code",
   "execution_count": null,
   "metadata": {},
   "outputs": [],
   "source": [
    "print('Time taken by L-BFGS-B: ' + str(end - start))\n",
    "print('initial value of energy: ' + str(Energy(coord0, f, M1)))\n",
    "print('Optimized value of enery: ' + str(Energy(result, f, M1)))"
   ]
  },
  {
   "cell_type": "code",
   "execution_count": null,
   "metadata": {},
   "outputs": [],
   "source": [
    "data_M1 = np.load(path + '/Model 1/data_M1.npy')\n",
    "data_M1_AE = np.load(path + '/Model 1/data_M1_AE.npy')\n",
    "data_M1_t = np.load(path + '/Model 1/data_M1_t.npy')\n",
    "energies_M1 = np.load(path + '/Model 1/energies_M1.npy')\n",
    "energies_M1_AE = np.load(path + '/Model 1/energies_M1_AE.npy')\n",
    "energies_M1_t = np.load(path + '/Model 1/energies_M1_t.npy')\n",
    "forces_M1 = np.load(path + '/Model 1/forces_M1.npy')\n",
    "forces_M1_AE = np.load(path + '/Model 1/forces_M1_AE.npy')\n",
    "lat_M1_t = np.load(path + '/Model 1/lat_M1_t.npy')\n",
    "M1 = np.load(path + '/Model 1/M1.npy')\n",
    "M1_AE = np.load(path + '/Model 1/M1_AE.npy')\n",
    "results_M1 = np.load(path + '/Model 1/results_M1.npy')\n",
    "results_M1_AE = np.load(path + '/Model 1/results_M1_AE.npy')\n",
    "results_M1_t = np.load(path + '/Model 1/results_M1_t.npy')\n",
    "thickness_M1_t = np.load(path + '/Model 1/thickness_M1_t.npy')\n",
    "z_centre_M1 = np.load(path + '/Model 1/z_centre_M1.npy')\n",
    "z_centre_M1_AE = np.load(path + '/Model 1/z_centre_M1_AE.npy')\n",
    "z_centre_M1_t = np.load(path + '/Model 1/z_centre_M1_t.npy')\n",
    "\n",
    "data_M2 = np.load(path + '/Model 2/data_M2.npy')\n",
    "data_M2_AE = np.load(path + '/Model 2/data_M2_AE.npy')\n",
    "data_M2_t = np.load(path + '/Model 2/data_M2_t.npy')\n",
    "energies_M2 = np.load(path + '/Model 2/energies_M2.npy')\n",
    "energies_M2_AE = np.load(path + '/Model 2/energies_M2_AE.npy')\n",
    "energies_M2_t = np.load(path + '/Model 2/energies_M2_t.npy')\n",
    "forces_M2 = np.load(path + '/Model 2/forces_M2.npy')\n",
    "forces_M2_AE = np.load(path + '/Model 2/forces_M2_AE.npy')\n",
    "lat_M2_t = np.load(path + '/Model 2/lat_M2_t.npy')\n",
    "M2 = np.load(path + '/Model 2/M2.npy')\n",
    "M2_AE = np.load(path + '/Model 2/M2_AE.npy')\n",
    "results_M2 = np.load(path + '/Model 2/results_M2.npy')\n",
    "results_M2_AE = np.load(path + '/Model 2/results_M2_AE.npy')\n",
    "results_M2_t = np.load(path + '/Model 2/results_M2_t.npy')\n",
    "thickness_M2_t = np.load(path + '/Model 2/thickness_M2_t.npy')\n",
    "z_centre_M2 = np.load(path + '/Model 2/z_centre_M2.npy')\n",
    "z_centre_M2_AE = np.load(path + '/Model 2/z_centre_M2_AE.npy')\n",
    "z_centre_M2_t = np.load(path + '/Model 2/z_centre_M2_t.npy')\n",
    "\n",
    "data_M3 = np.load(path + '/Model 3/data_M3.npy')\n",
    "data_M3_AE = np.load(path + '/Model 3/data_M3_AE.npy')\n",
    "data_M3_t = np.load(path + '/Model 3/data_M3_t.npy')\n",
    "energies_M3 = np.load(path + '/Model 3/energies_M3.npy')\n",
    "energies_M3_AE = np.load(path + '/Model 3/energies_M3_AE.npy')\n",
    "energies_M3_t = np.load(path + '/Model 3/energies_M3_t.npy')\n",
    "forces_M3 = np.load(path + '/Model 3/forces_M3.npy')\n",
    "forces_M3_AE = np.load(path + '/Model 3/forces_M3_AE.npy')\n",
    "lat_M3_t = np.load(path + '/Model 3/lat_M3_t.npy')\n",
    "M3 = np.load(path + '/Model 3/M3.npy')\n",
    "M3_AE = np.load(path + '/Model 3/M3_AE.npy')\n",
    "results_M3 = np.load(path + '/Model 3/results_M3.npy')\n",
    "results_M3_AE = np.load(path + '/Model 3/results_M3_AE.npy')\n",
    "results_M3_t = np.load(path + '/Model 3/results_M3_t.npy')\n",
    "thickness_M3_t = np.load(path + '/Model 3/thickness_M3_t.npy')\n",
    "z_centre_M3 = np.load(path + '/Model 3/z_centre_M3.npy')\n",
    "z_centre_M3_AE = np.load(path + '/Model 3/z_centre_M3_AE.npy')\n",
    "z_centre_M3_t = np.load(path + '/Model 3/z_centre_M3_t.npy')"
   ]
  }
 ],
 "metadata": {
  "kernelspec": {
   "display_name": "Python 3",
   "language": "python",
   "name": "python3"
  },
  "language_info": {
   "codemirror_mode": {
    "name": "ipython",
    "version": 3
   },
   "file_extension": ".py",
   "mimetype": "text/x-python",
   "name": "python",
   "nbconvert_exporter": "python",
   "pygments_lexer": "ipython3",
   "version": "3.7.3"
  }
 },
 "nbformat": 4,
 "nbformat_minor": 2
}
