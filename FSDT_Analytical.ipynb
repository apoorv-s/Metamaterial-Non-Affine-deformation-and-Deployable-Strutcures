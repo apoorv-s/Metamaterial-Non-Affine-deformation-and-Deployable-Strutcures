{
 "cells": [
  {
   "cell_type": "code",
   "execution_count": 1,
   "metadata": {},
   "outputs": [],
   "source": [
    "import numpy as np"
   ]
  },
  {
   "cell_type": "code",
   "execution_count": 16,
   "metadata": {},
   "outputs": [],
   "source": [
    "E = 2000\n",
    "nu = 0.25\n",
    "h = 0.02\n",
    "Q_0 = 1\n",
    "a = 1\n",
    "b = 1"
   ]
  },
  {
   "cell_type": "code",
   "execution_count": 14,
   "metadata": {},
   "outputs": [],
   "source": [
    "Ks = 5/6\n",
    "D = E*(h**3)/(12*(1 - (nu**2)))\n",
    "G = E/(2*(1 + nu))\n",
    "#m\n",
    "#n\n",
    "pi = np.pi\n"
   ]
  },
  {
   "cell_type": "code",
   "execution_count": null,
   "metadata": {},
   "outputs": [],
   "source": [
    "s_11_cap = Ks*G*h*(pi**2)*((m/a)**2 + (n/b)**2)\n",
    "s_12_cap = Ks*G*h*m*pi/a\n",
    "s_13_cap = Ks*G*h*n*pi/b\n",
    "s_22_cap = (D*((m*pi/a)**2)) + ((g*(h**3)/12)*((n*pi/b)**2)) + (Ks*G*h)\n",
    "s_23_cap = ((nu*D) + (G*(h**3)/12))*(pi**2)*m*n/(a*b)\n",
    "s_33_cap = ((G*(h**3)/12)*((m*pi/a)**2)) + (D*((n*pi/b)**2)) + (Ks*G*h)\n",
    "\n",
    "b_0 = (s_22_cap*s_33_cap) - (s_23_cap**2)\n",
    "b_1 = (s_23_cap*s_13_cap) - (s_12_cap*s_33_cap)\n",
    "b_2 = (s_12_cap*s_23_cap) - (s_22_cap*s_13_cap)\n",
    "b_mn = (s_11_cap*b_0) + (s_12_cap*b_1) + (s_12_cap*b_2)\n",
    "\n",
    "q_mn = 4*Q_0*np.sin(m*pi/2)*np.sin(n*pi/2)/(a*b)\n",
    "\n",
    "w_mn = b_0*q_mn/b_mn\n",
    "\n",
    "w_0 = w_0 + w_mn*np.sin(m*pi/2)*np.sin(sin(n*pi/2))"
   ]
  },
  {
   "cell_type": "code",
   "execution_count": 20,
   "metadata": {},
   "outputs": [
    {
     "name": "stdout",
     "output_type": "stream",
     "text": [
      "7.227755864976567\n"
     ]
    }
   ],
   "source": [
    "w_0 = 0\n",
    "for m in range(1, 21):\n",
    "    for n in range(1, 21):\n",
    "        s_11_cap = Ks*G*h*(pi**2)*((m/a)**2 + (n/b)**2)\n",
    "        s_12_cap = Ks*G*h*m*pi/a\n",
    "        s_13_cap = Ks*G*h*n*pi/b\n",
    "        s_22_cap = (D*((m*pi/a)**2)) + ((G*(h**3)/12)*((n*pi/b)**2)) + (Ks*G*h)\n",
    "        s_23_cap = ((nu*D) + (G*(h**3)/12))*(pi**2)*m*n/(a*b)\n",
    "        s_33_cap = ((G*(h**3)/12)*((m*pi/a)**2)) + (D*((n*pi/b)**2)) + (Ks*G*h)\n",
    "\n",
    "        b_0 = (s_22_cap*s_33_cap) - (s_23_cap**2)\n",
    "        b_1 = (s_23_cap*s_13_cap) - (s_12_cap*s_33_cap)\n",
    "        b_2 = (s_12_cap*s_23_cap) - (s_22_cap*s_13_cap)\n",
    "        b_mn = (s_11_cap*b_0) + (s_12_cap*b_1) + (s_12_cap*b_2)\n",
    "\n",
    "        q_mn = 4*Q_0*np.sin(m*pi/2)*np.sin(n*pi/2)/(a*b)\n",
    "\n",
    "        w_mn = b_0*q_mn/b_mn\n",
    "\n",
    "        w_0 = w_0 + w_mn*np.sin(m*pi/2)*np.sin(n*pi/2)\n",
    "        \n",
    "        \n",
    "        \n",
    "print(w_0)"
   ]
  },
  {
   "cell_type": "code",
   "execution_count": 20,
   "metadata": {},
   "outputs": [],
   "source": [
    "E = 2e9\n",
    "nu = 0.25\n",
    "h = 0.02\n",
    "w = 1e3*0.0116/(E*(h**3)/(12*(1 - (nu**2))))"
   ]
  },
  {
   "cell_type": "code",
   "execution_count": 21,
   "metadata": {},
   "outputs": [
    {
     "data": {
      "text/plain": [
       "0.8156249999999998"
      ]
     },
     "execution_count": 21,
     "metadata": {},
     "output_type": "execute_result"
    }
   ],
   "source": [
    "w*100"
   ]
  },
  {
   "cell_type": "code",
   "execution_count": 4,
   "metadata": {},
   "outputs": [],
   "source": [
    "D = 200e9*(0.02**3)/(12*(1 - (0.25**2)))"
   ]
  },
  {
   "cell_type": "code",
   "execution_count": 14,
   "metadata": {},
   "outputs": [
    {
     "data": {
      "text/plain": [
       "8.156249999999998e-05"
      ]
     },
     "execution_count": 14,
     "metadata": {},
     "output_type": "execute_result"
    }
   ],
   "source": [
    "0.0116*1e3/D"
   ]
  },
  {
   "cell_type": "code",
   "execution_count": 13,
   "metadata": {},
   "outputs": [
    {
     "data": {
      "text/plain": [
       "1000030.6522805295"
      ]
     },
     "execution_count": 13,
     "metadata": {},
     "output_type": "execute_result"
    }
   ],
   "source": [
    "0.0116*2*12*(1 - (0.25**2))"
   ]
  },
  {
   "cell_type": "code",
   "execution_count": 12,
   "metadata": {},
   "outputs": [
    {
     "data": {
      "text/plain": [
       "142222.22222222225"
      ]
     },
     "execution_count": 12,
     "metadata": {},
     "output_type": "execute_result"
    }
   ],
   "source": [
    "D"
   ]
  },
  {
   "cell_type": "code",
   "execution_count": null,
   "metadata": {},
   "outputs": [],
   "source": []
  }
 ],
 "metadata": {
  "kernelspec": {
   "display_name": "Python 3",
   "language": "python",
   "name": "python3"
  },
  "language_info": {
   "codemirror_mode": {
    "name": "ipython",
    "version": 3
   },
   "file_extension": ".py",
   "mimetype": "text/x-python",
   "name": "python",
   "nbconvert_exporter": "python",
   "pygments_lexer": "ipython3",
   "version": "3.7.3"
  }
 },
 "nbformat": 4,
 "nbformat_minor": 2
}
